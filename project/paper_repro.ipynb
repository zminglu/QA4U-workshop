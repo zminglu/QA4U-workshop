{
 "cells": [
  {
   "cell_type": "markdown",
   "id": "dcd2412a-d00f-46a3-baeb-78a0058a59ce",
   "metadata": {},
   "source": [
    "# 論文の再現性を確認 by めろ\n",
    "To confirm the reproducibility of TOYOTA's paper by mero"
   ]
  },
  {
   "cell_type": "markdown",
   "id": "809fbb7b-ace6-4de5-a9b5-e12ebee3991a",
   "metadata": {},
   "source": [
    "[元の論文 Inoue, D., Okada, A., Matsumori, T. et al. Traffic signal optimization on a square lattice with quantum annealing. Sci Rep 11, 3303 (2021)](https://www.nature.com/articles/s41598-021-82740-0)"
   ]
  },
  {
   "cell_type": "markdown",
   "id": "fff87b05-72f0-4281-89bb-4ca3df7079f6",
   "metadata": {},
   "source": [
    "## assumptions"
   ]
  },
  {
   "cell_type": "markdown",
   "id": "dadd37a9-94e3-436e-b373-99d76c540d4b",
   "metadata": {},
   "source": [
    "consider a squared map with $L\\times L$ intersections, $\\sigma_i$ represents $i$th intersection's traffic signal (north-south=1, west-east=-1)"
   ]
  },
  {
   "cell_type": "markdown",
   "id": "983ec1f6-1d2b-4f3a-b606-32775244a167",
   "metadata": {},
   "source": [
    "number of vehicles from $i$th intersection to $i$th is\n",
    "$$q_{ij}(t) = q_{ij}(t-1) + \\frac{s_{ij}}{2} (-\\sigma_i + \\alpha \\sigma_j)$$\n",
    "flow bias is\n",
    "$$x(t) = x(t-1) + (-I + \\frac{\\alpha}{4}A) \\sigma(t-1)$$"
   ]
  },
  {
   "cell_type": "markdown",
   "id": "72691c01-d7f4-4ff1-b4e5-3acaf82a9552",
   "metadata": {},
   "source": [
    "## cost function (Ising model)"
   ]
  },
  {
   "cell_type": "markdown",
   "id": "c0dab4f8-6f74-42ed-b5b4-a1a16bc4b2fc",
   "metadata": {},
   "source": [
    "the cost function (Ising model) is defined as \n",
    "$$H(\\sigma(t)) = x(t+1)^T x(t+1) + \\eta(\\sigma(t)-\\sigma(t-1))^T(\\sigma(t)-\\sigma(t-1))$$\n",
    "\n",
    "the cost function can be rearranged as\n",
    "$$H(\\sigma(t)) = \\sigma(t)^T J \\sigma(t) + h \\sigma(t) + c(t)$$\n",
    "where\n",
    "$$J = (-I + \\frac{\\alpha}{4}A)^T(-I + \\frac{\\alpha}{4}A) + \\eta I$$\n",
    "$$h = 2x(t)^T (-I + \\frac{\\alpha}{4}A) - 2 \\eta \\sigma(t-1)^T$$"
   ]
  },
  {
   "cell_type": "markdown",
   "id": "5104c139-25a9-4237-aa1a-7484775ada39",
   "metadata": {},
   "source": [
    "initial conditions\n",
    "- $x(t=0)$ is generated as random numbers in uniform distribution within the range [-5.0, 5.0]\n",
    "- $\\sigma(t=0)$ is generated as random numbers either +1 or -1"
   ]
  },
  {
   "cell_type": "markdown",
   "id": "e9356061-1721-4c98-96e9-43fa99c35fd3",
   "metadata": {},
   "source": [
    "dimsions confirmation\n",
    "- signal vector $\\sigma(t) = L^2 \\times 1$\n",
    "- flow bias $x(t) = L^2 \\times 1$\n",
    "- identity matrix $I = L^2 \\times L^2$\n",
    "- periodic lattice matrix $A = L^2 \\times L^2$\n",
    "- $J = L^2 \\times L^2$\n",
    "- $h = 1 \\times L^2$"
   ]
  },
  {
   "cell_type": "markdown",
   "id": "214614c4-5f7a-405c-a633-e0c4508fc956",
   "metadata": {},
   "source": [
    "## implementations"
   ]
  },
  {
   "cell_type": "markdown",
   "id": "100f1795-fe02-458c-80af-0f69c2277576",
   "metadata": {},
   "source": [
    "### matrix generator"
   ]
  },
  {
   "cell_type": "code",
   "execution_count": 1,
   "id": "3c357744-aca4-4e73-9811-6e21574b0812",
   "metadata": {},
   "outputs": [],
   "source": [
    "import numpy as np\n",
    "\n",
    "def A_maker(L):\n",
    "    A = np.zeros(L**4).reshape(L**2, L**2)\n",
    "    \n",
    "    for i in range(L):\n",
    "        for j in range(L):\n",
    "            \"\"\"\n",
    "            # every intersection has four neighborhoods\n",
    "            \"\"\"            \n",
    "            four_dirc = []\n",
    "            four_dirc.append( (i - 1) * L + j ) # north\n",
    "            four_dirc.append( (i + 1) * L + j ) # south\n",
    "            four_dirc.append( i * L + (j - 1) ) # west\n",
    "            four_dirc.append( i * L + (j + 1) ) # east\n",
    "            \n",
    "            for neighbor in four_dirc:\n",
    "                \"\"\"\n",
    "                # but does not count the neighbor who is out of the lattice range\n",
    "                \"\"\"\n",
    "                if neighbor>=0 and neighbor<L**2:\n",
    "                    A[i*L+j][neighbor] = 1\n",
    "    \n",
    "    return A"
   ]
  },
  {
   "cell_type": "markdown",
   "id": "4cafb5fb-d9d8-4436-a242-3a28083a4781",
   "metadata": {},
   "source": [
    "### params"
   ]
  },
  {
   "cell_type": "code",
   "execution_count": 2,
   "id": "cebb0f76-9c8f-46bb-bc00-1413fd7cae24",
   "metadata": {},
   "outputs": [
    {
     "name": "stdout",
     "output_type": "stream",
     "text": [
      "90.0% cars go straight, 10.0% cars turn left/right\n"
     ]
    }
   ],
   "source": [
    "# hyper-parameters\n",
    "## in the original paper, L = 50, eta = 1.0, alpha = 0.8\n",
    "## Figure.2\n",
    "L = 50           # map size LxL\n",
    "eta = 1.0        # weight\n",
    "alpha = 0.8      # see print below\n",
    "a = round((alpha+1)/2,2)\n",
    "print(f'{a*100}% cars go straight, {100-a*100}% cars turn left/right')\n",
    "\n",
    "theta = 3.0 # local control threshold"
   ]
  },
  {
   "cell_type": "code",
   "execution_count": 3,
   "id": "d59627c0-d9d7-4096-b69f-6d93cb0bcf29",
   "metadata": {},
   "outputs": [],
   "source": [
    "# const matrix\n",
    "import numpy as np\n",
    "I = np.identity(L**2)\n",
    "A = A_maker(L = L)           "
   ]
  },
  {
   "cell_type": "code",
   "execution_count": 4,
   "id": "da3122ca-cba4-43de-9fad-f79de914b72a",
   "metadata": {},
   "outputs": [],
   "source": [
    "# J is also constant\n",
    "J = np.dot((- I + alpha/4*A).T, (- I + alpha/4*A)) + eta*I\n",
    "Jdict = {}\n",
    "for i in range(J.shape[0]):\n",
    "    for j in range(i):\n",
    "        Jdict[(i,j)] = J[i][j] * 2     "
   ]
  },
  {
   "cell_type": "markdown",
   "id": "72a4a080-3435-487d-b7ba-ca93d7940aaf",
   "metadata": {},
   "source": [
    "### energy calculation"
   ]
  },
  {
   "cell_type": "code",
   "execution_count": 5,
   "id": "340b0399-ade6-4555-9e89-a8aee1a47140",
   "metadata": {},
   "outputs": [],
   "source": [
    "def energy_calc(x, sigma, sigma_pre, eta):\n",
    "    sigma_diff = sigma - sigma_pre\n",
    "    energy_tmp = np.dot(x.T, x) + eta * np.dot(sigma_diff.T, sigma_diff)\n",
    "    \n",
    "    # energy is np.narray 1x1 dim\n",
    "    ## return only float variable\n",
    "    return energy_tmp[0][0]"
   ]
  },
  {
   "cell_type": "markdown",
   "id": "e6fccd45-ede7-4dcf-a80f-18a720e80180",
   "metadata": {},
   "source": [
    "## local control"
   ]
  },
  {
   "cell_type": "code",
   "execution_count": 6,
   "id": "050dcb8d-0ae2-4be5-93b0-c209b76aff3e",
   "metadata": {},
   "outputs": [],
   "source": [
    "# flow bias\n",
    "x_local = np.random.uniform(low=-5.0, high=5.0, size=L**2).reshape(L**2, 1)\n",
    "\n",
    "import random\n",
    "sigma_list = [-1, 1]\n",
    "\n",
    "# comparison, sigma for local control\n",
    "sigma_local = random.choices(sigma_list, k = L**2)\n",
    "sigma_local = np.reshape(sigma_local, (L**2, 1))\n",
    "\n",
    "energy_local = []"
   ]
  },
  {
   "cell_type": "code",
   "execution_count": 7,
   "id": "c515ef8a-8295-4d01-82d1-4b9fd4f9d139",
   "metadata": {
    "tags": []
   },
   "outputs": [
    {
     "name": "stdout",
     "output_type": "stream",
     "text": [
      "0: energy_local = 24387.88059868222\n",
      "1: energy_local = 18174.924532810786\n",
      "2: energy_local = 13994.591527157436\n",
      "3: energy_local = 11546.32764313949\n",
      "4: energy_local = 10326.685920938193\n",
      "5: energy_local = 10412.98535774681\n",
      "6: energy_local = 10917.012078006364\n",
      "7: energy_local = 11138.278359359065\n",
      "8: energy_local = 11017.244174266812\n",
      "9: energy_local = 10942.772056465166\n",
      "10: energy_local = 11059.853655111341\n",
      "11: energy_local = 11637.272282401655\n",
      "12: energy_local = 11673.446497433317\n",
      "13: energy_local = 11322.070356671984\n",
      "14: energy_local = 11458.052762365749\n",
      "15: energy_local = 11518.235111041531\n",
      "16: energy_local = 11869.784004846364\n",
      "17: energy_local = 11675.680150643815\n",
      "18: energy_local = 11322.839121806148\n",
      "19: energy_local = 10990.240063597634\n",
      "20: energy_local = 10734.391497454155\n",
      "21: energy_local = 10783.371250901702\n",
      "22: energy_local = 11231.12142863337\n",
      "23: energy_local = 11615.570077196178\n",
      "24: energy_local = 11541.656021070608\n",
      "25: energy_local = 11600.587281990343\n",
      "26: energy_local = 11680.471056089338\n",
      "27: energy_local = 11373.288459229849\n",
      "28: energy_local = 10919.529927505482\n",
      "29: energy_local = 11324.926632828163\n",
      "30: energy_local = 11305.127209268016\n",
      "31: energy_local = 11293.569416763059\n",
      "32: energy_local = 11230.939840020757\n",
      "33: energy_local = 11016.544636728908\n",
      "34: energy_local = 11254.171149174283\n",
      "35: energy_local = 11288.477000161449\n",
      "36: energy_local = 11850.711189246795\n",
      "37: energy_local = 11588.811155120018\n",
      "38: energy_local = 11241.449890893586\n",
      "39: energy_local = 11108.289147435291\n",
      "40: energy_local = 11491.342507152236\n",
      "41: energy_local = 11700.085059606416\n",
      "42: energy_local = 11326.990073360692\n",
      "43: energy_local = 10903.638626228754\n",
      "44: energy_local = 11023.246973270434\n",
      "45: energy_local = 11227.205396113974\n",
      "46: energy_local = 11584.329446839885\n",
      "47: energy_local = 11536.833472385051\n",
      "48: energy_local = 11353.042590035515\n",
      "49: energy_local = 11204.471288776002\n"
     ]
    }
   ],
   "source": [
    "for t in range(50):\n",
    "    \"\"\"\n",
    "    # update local control\n",
    "    \"\"\"\n",
    "    x_local += np.dot((- I + alpha/4*A), sigma_local)\n",
    "    sigma_local_pre = sigma_local\n",
    "    \n",
    "    for i in range(L**2):\n",
    "        if x_local[i][0] >= theta:\n",
    "            sigma_local[i][0] = 1\n",
    "        elif x_local[i][0] <= -theta:\n",
    "            sigma_local[i][0] = -1\n",
    "            \n",
    "    energy_local_tmp = energy_calc(x_local, sigma_local, sigma_local_pre, eta)\n",
    "    energy_local.append(energy_local_tmp)\n",
    "\n",
    "    \"\"\"\n",
    "    energy records\n",
    "    \"\"\"\n",
    "    print(f'{t}: energy_local = {energy_local_tmp}')"
   ]
  },
  {
   "cell_type": "markdown",
   "id": "e5dd0149-fc18-41b4-8f4a-fabcccb75bc7",
   "metadata": {},
   "source": [
    "## QA iterations"
   ]
  },
  {
   "cell_type": "code",
   "execution_count": 8,
   "id": "172bb086-9b80-4ac0-b05f-8351ac25b0a6",
   "metadata": {
    "tags": []
   },
   "outputs": [],
   "source": [
    "import openjij as oj\n",
    "sampler = oj.SASampler(num_reads = 5)"
   ]
  },
  {
   "cell_type": "code",
   "execution_count": 9,
   "id": "65c74851-e8fa-4fd1-ba2f-a06f0103ffa4",
   "metadata": {},
   "outputs": [],
   "source": [
    "# flow bias\n",
    "x_qa = np.random.uniform(low=-5.0, high=5.0, size=L**2).reshape(L**2, 1)\n",
    "\n",
    "# sigma for QA analysis\n",
    "sigma_qa = random.choices(sigma_list, k = L**2)\n",
    "sigma_qa = np.reshape(sigma_qa, (L**2, 1))"
   ]
  },
  {
   "cell_type": "code",
   "execution_count": 10,
   "id": "6b1cb411-4c63-427f-8b66-7b2c303828d3",
   "metadata": {
    "tags": []
   },
   "outputs": [
    {
     "name": "stdout",
     "output_type": "stream",
     "text": [
      "0: energy_qa = 29323.262698908457\n",
      "1: energy_qa = 14009.127484542965\n",
      "2: energy_qa = 7976.891021258148\n",
      "3: energy_qa = 5059.332083138044\n",
      "4: energy_qa = 3727.031886690778\n",
      "5: energy_qa = 3429.2530948332815\n",
      "6: energy_qa = 3311.388800501286\n",
      "7: energy_qa = 3391.4472371423367\n",
      "8: energy_qa = 3522.2827783415405\n",
      "9: energy_qa = 3952.391671729825\n",
      "10: energy_qa = 4144.905224726543\n",
      "11: energy_qa = 4632.421998537977\n",
      "12: energy_qa = 4989.5159356258755\n",
      "13: energy_qa = 4971.929622896523\n",
      "14: energy_qa = 5204.521368581348\n",
      "15: energy_qa = 5119.581508606787\n",
      "16: energy_qa = 5024.437208555623\n",
      "17: energy_qa = 5239.750438750489\n",
      "18: energy_qa = 5326.629375348153\n",
      "19: energy_qa = 5255.150100893204\n",
      "20: energy_qa = 5075.538488628854\n",
      "21: energy_qa = 4956.101499035119\n",
      "22: energy_qa = 5112.433032309119\n",
      "23: energy_qa = 4972.812319782388\n",
      "24: energy_qa = 5102.683340127385\n",
      "25: energy_qa = 5148.876873976258\n",
      "26: energy_qa = 4954.194246890167\n",
      "27: energy_qa = 5085.082801245601\n",
      "28: energy_qa = 4945.887161558981\n",
      "29: energy_qa = 5001.21201479669\n",
      "30: energy_qa = 4868.289504369323\n",
      "31: energy_qa = 5038.803337696989\n",
      "32: energy_qa = 5001.952793764124\n",
      "33: energy_qa = 4931.254304552917\n",
      "34: energy_qa = 5080.603543164483\n",
      "35: energy_qa = 5001.515157289659\n",
      "36: energy_qa = 5086.78860699156\n",
      "37: energy_qa = 5002.33136001099\n",
      "38: energy_qa = 4912.286249372417\n",
      "39: energy_qa = 4986.969582202042\n",
      "40: energy_qa = 4973.308242484847\n",
      "41: energy_qa = 5238.52983860748\n",
      "42: energy_qa = 5328.007520780055\n",
      "43: energy_qa = 5023.376879142504\n",
      "44: energy_qa = 5164.67425222948\n",
      "45: energy_qa = 5041.749788205021\n",
      "46: energy_qa = 5078.87360918352\n",
      "47: energy_qa = 5083.4139926726075\n",
      "48: energy_qa = 4870.557422119764\n",
      "49: energy_qa = 5021.2028723786225\n"
     ]
    }
   ],
   "source": [
    "energy_qa = []\n",
    "\n",
    "## t = 100, in paper Figure.2\n",
    "for t in range(50):\n",
    "    \"\"\"\n",
    "    # update QA\n",
    "    \"\"\"\n",
    "    x_qa += np.dot((- I + alpha/4*A), sigma_qa)\n",
    "    sigma_qa_pre = sigma_qa\n",
    "    \n",
    "    h = 2*np.dot(x_qa.T, (- I + alpha/4*A)) - 2*np.dot(eta, sigma_qa.T)\n",
    "    h = h.reshape(L**2)\n",
    "    h_dict = {}\n",
    "    for i in range(len(h)):\n",
    "        h_dict[i] = h[i]\n",
    "    \n",
    "    # QA ising model\n",
    "    sigma_qa_t = sampler.sample_ising(h_dict, Jdict) \n",
    "    tmp = sigma_qa_t.first.sample\n",
    "    sigma_qa = np.reshape(list(tmp.values()), (L**2, 1))\n",
    "    \n",
    "    energy_qa_tmp = energy_calc(x_qa, sigma_qa, sigma_qa_pre, eta)\n",
    "    energy_qa.append(energy_qa_tmp)\n",
    "    ## energy.append(sigma_qa_t.first.energy)\n",
    "    \n",
    "    \"\"\"\n",
    "    energy records\n",
    "    \"\"\"\n",
    "    print(f'{t}: energy_qa = {energy_qa_tmp}')    "
   ]
  },
  {
   "cell_type": "markdown",
   "id": "d0008f46-ed3f-45c5-b2c7-64cfd60b9047",
   "metadata": {
    "tags": []
   },
   "source": [
    "## result plot"
   ]
  },
  {
   "cell_type": "markdown",
   "id": "634e17b2-1c6a-4fef-8743-e512cd353d5c",
   "metadata": {},
   "source": [
    "### traffic intersection signals"
   ]
  },
  {
   "cell_type": "code",
   "execution_count": 11,
   "id": "9d92c017-9fd8-4602-99d9-95ed71d28833",
   "metadata": {},
   "outputs": [
    {
     "name": "stderr",
     "output_type": "stream",
     "text": [
      "Matplotlib created a temporary config/cache directory at /tmp/matplotlib-m6swv488 because the default path (/home/jovyan/.cache/matplotlib) is not a writable directory; it is highly recommended to set the MPLCONFIGDIR environment variable to a writable directory, in particular to speed up the import of Matplotlib and to better support multiprocessing.\n"
     ]
    },
    {
     "data": {
      "image/png": "[encoded data removed]",
      "text/plain": [
       "<Figure size 432x288 with 2 Axes>"
      ]
     },
     "metadata": {
      "needs_background": "light"
     },
     "output_type": "display_data"
    }
   ],
   "source": [
    "import matplotlib.pyplot as plt\n",
    "import seaborn as sns\n",
    "\n",
    "heatmap_qa = sigma_qa.reshape(L, L)\n",
    "sns.heatmap(heatmap_qa, cmap = 'bwr')\n",
    "plt.title(f'QA simulator, a={a}')\n",
    "plt.savefig(f'figs/QA simulator, a={a}.png')"
   ]
  },
  {
   "cell_type": "code",
   "execution_count": 12,
   "id": "9a8e151e-b972-4e6d-84ff-17d053b380ff",
   "metadata": {},
   "outputs": [
    {
     "data": {
      "image/png": "[encoded data removed]",
      "text/plain": [
       "<Figure size 432x288 with 2 Axes>"
      ]
     },
     "metadata": {
      "needs_background": "light"
     },
     "output_type": "display_data"
    }
   ],
   "source": [
    "heatmap_local = sigma_local.reshape(L, L)\n",
    "sns.heatmap(heatmap_local, cmap = 'bwr')\n",
    "plt.title(f'local control, a={a}, theta={theta}')\n",
    "plt.savefig(f'figs/local control, a={a}, theta={theta}.png')"
   ]
  },
  {
   "cell_type": "markdown",
   "id": "a0bd9df5-91f6-49bc-9963-f167d1923a50",
   "metadata": {},
   "source": [
    "### energy"
   ]
  },
  {
   "cell_type": "code",
   "execution_count": 13,
   "id": "83bd6b38-7e80-4593-b413-a73676ce3f7c",
   "metadata": {},
   "outputs": [
    {
     "data": {
      "image/png": "[encoded data removed]",
      "text/plain": [
       "<Figure size 432x288 with 1 Axes>"
      ]
     },
     "metadata": {
      "needs_background": "light"
     },
     "output_type": "display_data"
    }
   ],
   "source": [
    "plt.plot(energy_qa)\n",
    "plt.xlabel('iterations')\n",
    "plt.ylabel('energy_qa')\n",
    "plt.title(f'QA simulator, a={a}')\n",
    "plt.savefig(f'figs/QA simulator energy, a={a}.png')"
   ]
  },
  {
   "cell_type": "code",
   "execution_count": 14,
   "id": "8805c28a-2be2-42b6-9914-43915d9c5edd",
   "metadata": {},
   "outputs": [
    {
     "data": {
      "image/png": "[encoded data removed]",
      "text/plain": [
       "<Figure size 432x288 with 1 Axes>"
      ]
     },
     "metadata": {
      "needs_background": "light"
     },
     "output_type": "display_data"
    }
   ],
   "source": [
    "plt.plot(energy_local)\n",
    "plt.xlabel('iterations')\n",
    "plt.ylabel('energy_local')\n",
    "plt.title(f'local control, a={a}, theta={theta}')\n",
    "plt.savefig(f'figs/local control energy, a={a}, theta={theta}.png')"
   ]
  }
 ],
 "metadata": {
  "kernelspec": {
   "display_name": "Python 3",
   "language": "python",
   "name": "python3"
  },
  "language_info": {
   "codemirror_mode": {
    "name": "ipython",
    "version": 3
   },
   "file_extension": ".py",
   "mimetype": "text/x-python",
   "name": "python",
   "nbconvert_exporter": "python",
   "pygments_lexer": "ipython3",
   "version": "3.9.2"
  }
 },
 "nbformat": 4,
 "nbformat_minor": 5
}
