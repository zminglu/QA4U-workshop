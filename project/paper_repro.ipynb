{
 "cells": [
  {
   "cell_type": "markdown",
   "id": "dcd2412a-d00f-46a3-baeb-78a0058a59ce",
   "metadata": {},
   "source": [
    "# 論文の再現性を確認 by めろ"
   ]
  },
  {
   "cell_type": "markdown",
   "id": "809fbb7b-ace6-4de5-a9b5-e12ebee3991a",
   "metadata": {},
   "source": [
    "[元の論文 Inoue, D., Okada, A., Matsumori, T. et al. Traffic signal optimization on a square lattice with quantum annealing. Sci Rep 11, 3303 (2021)](https://www.nature.com/articles/s41598-021-82740-0)"
   ]
  },
  {
   "cell_type": "markdown",
   "id": "fff87b05-72f0-4281-89bb-4ca3df7079f6",
   "metadata": {},
   "source": [
    "## assumptions"
   ]
  },
  {
   "cell_type": "markdown",
   "id": "dadd37a9-94e3-436e-b373-99d76c540d4b",
   "metadata": {},
   "source": [
    "consider a squared map with $L\\times L$ intersections, $\\sigma_i$ represents $i$th intersection's traffic signal (north-south=1, west-east=-1)"
   ]
  },
  {
   "cell_type": "markdown",
   "id": "983ec1f6-1d2b-4f3a-b606-32775244a167",
   "metadata": {},
   "source": [
    "number of vehicles from $i$th intersection to $i$th is\n",
    "$$q_{ij}(t) = q_{ij}(t-1) + \\frac{s_{ij}}{2} (-\\sigma_i + \\alpha \\sigma_j)$$\n",
    "flow bias is\n",
    "$$x(t) = x(t-1) + (-I + \\frac{\\alpha}{4}A) \\sigma(t-1)$$"
   ]
  },
  {
   "cell_type": "markdown",
   "id": "72691c01-d7f4-4ff1-b4e5-3acaf82a9552",
   "metadata": {},
   "source": [
    "## cost function (Ising model)"
   ]
  },
  {
   "cell_type": "markdown",
   "id": "c0dab4f8-6f74-42ed-b5b4-a1a16bc4b2fc",
   "metadata": {},
   "source": [
    "the cost function (Ising model) is defined as \n",
    "$$H(\\sigma(t)) = \\sigma(t)^T J \\sigma(t) + h \\sigma(t) + c(t)$$\n",
    "where\n",
    "$$J = (-I + \\frac{\\alpha}{4}A)^T(-I + \\frac{\\alpha}{4}A) + \\eta I$$\n",
    "$$h = 2x(t)^T (-I + \\frac{\\alpha}{4}A) - 2 \\eta \\sigma(t-1)^T$$"
   ]
  },
  {
   "cell_type": "markdown",
   "id": "5104c139-25a9-4237-aa1a-7484775ada39",
   "metadata": {},
   "source": [
    "initial conditions\n",
    "- $x(t=0)$ is generated as random numbers in uniform distribution within the range [-5.0, 5.0]\n",
    "- $\\sigma(t=0)$ is generated as random numbers either +1 or -1"
   ]
  },
  {
   "cell_type": "markdown",
   "id": "e9356061-1721-4c98-96e9-43fa99c35fd3",
   "metadata": {},
   "source": [
    "dimsions confirmation\n",
    "- signal vector $\\sigma(t) = L^2 \\times 1$\n",
    "- flow bias $x(t) = L^2 \\times 1$\n",
    "- identity matrix $I = L^2 \\times L^2$\n",
    "- periodic lattice matrix $A = L^2 \\times L^2$\n",
    "- $J = L^2 \\times L^2$\n",
    "- $h = 1 \\times L^2$"
   ]
  },
  {
   "cell_type": "markdown",
   "id": "214614c4-5f7a-405c-a633-e0c4508fc956",
   "metadata": {},
   "source": [
    "## implementations"
   ]
  },
  {
   "cell_type": "markdown",
   "id": "100f1795-fe02-458c-80af-0f69c2277576",
   "metadata": {},
   "source": [
    "### matrix generator"
   ]
  },
  {
   "cell_type": "code",
   "execution_count": 1,
   "id": "3c357744-aca4-4e73-9811-6e21574b0812",
   "metadata": {},
   "outputs": [],
   "source": [
    "import numpy as np\n",
    "\n",
    "def A_maker(L):\n",
    "    A = np.zeros(L**4).reshape(L**2, L**2)\n",
    "    \n",
    "    for i in range(L):\n",
    "        for j in range(L):\n",
    "            \"\"\"\n",
    "            # every intersection has four neighborhoods\n",
    "            \"\"\"            \n",
    "            four_dirc = []\n",
    "            four_dirc.append( (i - 1) * L + j ) # north\n",
    "            four_dirc.append( (i + 1) * L + j ) # south\n",
    "            four_dirc.append( i * L + (j - 1) ) # west\n",
    "            four_dirc.append( i * L + (j + 1) ) # east\n",
    "            \n",
    "            for neighbor in four_dirc:\n",
    "                \"\"\"\n",
    "                # but does not count the neighbor who is out of the lattice range\n",
    "                \"\"\"\n",
    "                if neighbor>=0 and neighbor<L**2:\n",
    "                    A[i*L+j][neighbor] = 1\n",
    "    \n",
    "    return A"
   ]
  },
  {
   "cell_type": "markdown",
   "id": "4cafb5fb-d9d8-4436-a242-3a28083a4781",
   "metadata": {},
   "source": [
    "### params"
   ]
  },
  {
   "cell_type": "code",
   "execution_count": 2,
   "id": "cebb0f76-9c8f-46bb-bc00-1413fd7cae24",
   "metadata": {},
   "outputs": [],
   "source": [
    "# hyper-parameters\n",
    "L = 50\n",
    "alpha = 0.8\n",
    "eta = 1.0\n",
    "\n",
    "theta = eta # local control threshold"
   ]
  },
  {
   "cell_type": "code",
   "execution_count": 3,
   "id": "d59627c0-d9d7-4096-b69f-6d93cb0bcf29",
   "metadata": {},
   "outputs": [],
   "source": [
    "# const matrix\n",
    "import numpy as np\n",
    "I = np.identity(L**2)\n",
    "A = A_maker(L = L)           "
   ]
  },
  {
   "cell_type": "code",
   "execution_count": 4,
   "id": "a1c15f05-0df6-4425-9c0d-e2969e8a539f",
   "metadata": {},
   "outputs": [],
   "source": [
    "# J is also constant\n",
    "J = np.dot((- I + alpha/4*A).T, (- I + alpha/4*A)) + eta*I\n",
    "Jdict = {}\n",
    "for i in range(J.shape[0]):\n",
    "    for j in range(J.shape[1]):\n",
    "        if i>j:\n",
    "            Jdict[(i,j)] = J[i][j] * 2            "
   ]
  },
  {
   "cell_type": "markdown",
   "id": "fcd362c1-661e-4778-895e-4ac14b3c5270",
   "metadata": {},
   "source": [
    "## QA ising"
   ]
  },
  {
   "cell_type": "code",
   "execution_count": 5,
   "id": "d7c1f604-f9f3-4847-bcdc-48401fd11dc2",
   "metadata": {},
   "outputs": [],
   "source": [
    "import openjij as oj\n",
    "sampler = oj.SASampler(num_reads = 5)"
   ]
  },
  {
   "cell_type": "code",
   "execution_count": 6,
   "id": "734c6960-27d5-441e-8dc7-d897d927b78c",
   "metadata": {},
   "outputs": [],
   "source": [
    "# initial values\n",
    "x_qa = np.random.uniform(low=-5.0, high=5.0, size=L**2).reshape(L**2, 1)\n",
    "x_local = np.random.uniform(low=-5.0, high=5.0, size=L**2).reshape(L**2, 1)\n",
    "\n",
    "import random\n",
    "sigma_list = [-1, 1]\n",
    "\n",
    "# sigma for QA analysis\n",
    "sigma_qa = random.choices(sigma_list, k = L**2)\n",
    "sigma_qa = np.reshape(sigma_qa, (L**2, 1))\n",
    "\n",
    "# comparison, sigma for local control\n",
    "sigma_local = random.choices(sigma_list, k = L**2)\n",
    "sigma_local = np.reshape(sigma_local, (L**2, 1))"
   ]
  },
  {
   "cell_type": "code",
   "execution_count": 7,
   "id": "6b1cb411-4c63-427f-8b66-7b2c303828d3",
   "metadata": {},
   "outputs": [
    {
     "name": "stdout",
     "output_type": "stream",
     "text": [
      "0: energy = -13203.7156767851\n",
      "1: energy = -12738.364238811591\n",
      "2: energy = -9291.91610062418\n",
      "3: energy = -7457.092550126224\n",
      "4: energy = -6707.283182387294\n",
      "5: energy = -6464.443622158153\n",
      "6: energy = -6337.074607552811\n",
      "7: energy = -6157.532776423081\n",
      "8: energy = -6238.842195769433\n",
      "9: energy = -6223.381430614381\n",
      "10: energy = -6258.179363371179\n",
      "11: energy = -6262.642266645399\n",
      "12: energy = -6304.988567724997\n",
      "13: energy = -6361.903597714978\n",
      "14: energy = -6257.710371223524\n",
      "15: energy = -6368.422521828495\n",
      "16: energy = -6541.356723041531\n",
      "17: energy = -6658.133912768061\n",
      "18: energy = -6625.669465774379\n",
      "19: energy = -6663.832963583762\n",
      "20: energy = -6680.135276955174\n",
      "21: energy = -6762.898684083512\n",
      "22: energy = -6816.689938403475\n",
      "23: energy = -6719.332592027941\n",
      "24: energy = -6695.9801121977325\n",
      "25: energy = -6632.0779211317795\n",
      "26: energy = -6577.663619554534\n",
      "27: energy = -6590.687740567269\n",
      "28: energy = -6643.940088068118\n",
      "29: energy = -6580.606197300634\n",
      "30: energy = -6659.095039596345\n",
      "31: energy = -6653.765335734033\n",
      "32: energy = -6477.52675439708\n",
      "33: energy = -6441.840426781088\n",
      "34: energy = -6603.498597337093\n",
      "35: energy = -6684.193968908157\n",
      "36: energy = -6666.729904839931\n",
      "37: energy = -6669.077220621248\n",
      "38: energy = -6758.221982275206\n",
      "39: energy = -6760.48586279004\n",
      "40: energy = -6841.361663388168\n",
      "41: energy = -6779.87271295175\n",
      "42: energy = -6742.364085704033\n",
      "43: energy = -6803.807319829349\n",
      "44: energy = -6742.34187462505\n",
      "45: energy = -6717.463708283209\n",
      "46: energy = -6694.048387934851\n",
      "47: energy = -6710.182288804821\n",
      "48: energy = -6645.822039314105\n",
      "49: energy = -6482.065388690372\n"
     ]
    }
   ],
   "source": [
    "# QA iterations\n",
    "## t = 100, in the paper, for plot\n",
    "\n",
    "energy = []\n",
    "\n",
    "for t in range(50):\n",
    "    # x changes based on sigma\n",
    "    x_qa += np.dot((- I + alpha/4*A), sigma_qa)\n",
    "    \n",
    "    # update local control\n",
    "    x_local += np.dot((- I + alpha/4*A), sigma_local)    \n",
    "    for i in range(L**2):\n",
    "        if x_local[i][0] > theta:\n",
    "            sigma_local[i][0] = 1\n",
    "        else:\n",
    "            sigma_local[i][0] = -1\n",
    "\n",
    "    # h changes based on x\n",
    "    h = 2*np.dot(x_qa.T, (- I + alpha/4*A)) - 2*np.dot(eta, sigma_qa.T)\n",
    "    h = h.reshape(L**2)\n",
    "    h_dict = {}\n",
    "    for i in range(len(h)):\n",
    "        h_dict[i] = h[i]\n",
    "    \n",
    "    # QA ising model\n",
    "    sigma_qa_t = sampler.sample_ising(h_dict, Jdict) \n",
    "    tmp = sigma_qa_t.first.sample\n",
    "    sigma_qa = np.reshape(list(tmp.values()), (L**2, 1))\n",
    "    \n",
    "    # to record energy\n",
    "    energy.append(sigma_qa_t.first.energy)\n",
    "    \n",
    "    print(f'{t}: energy = {sigma_qa_t.first.energy}')"
   ]
  },
  {
   "cell_type": "code",
   "execution_count": 11,
   "id": "9d92c017-9fd8-4602-99d9-95ed71d28833",
   "metadata": {},
   "outputs": [
    {
     "data": {
      "text/plain": [
       "Text(0.5, 1.0, 'QA simulator')"
      ]
     },
     "execution_count": 11,
     "metadata": {},
     "output_type": "execute_result"
    },
    {
     "data": {
      "image/png": "[encoded data removed]",
      "text/plain": [
       "<Figure size 432x288 with 2 Axes>"
      ]
     },
     "metadata": {
      "needs_background": "light"
     },
     "output_type": "display_data"
    }
   ],
   "source": [
    "import matplotlib.pyplot as plt\n",
    "import seaborn as sns\n",
    "heatmap_qa = sigma_qa.reshape(L, L)\n",
    "sns.heatmap(heatmap_qa, cmap = 'bwr')\n",
    "plt.title('QA simulator')"
   ]
  },
  {
   "cell_type": "code",
   "execution_count": 12,
   "id": "9a8e151e-b972-4e6d-84ff-17d053b380ff",
   "metadata": {},
   "outputs": [
    {
     "data": {
      "text/plain": [
       "Text(0.5, 1.0, 'local control')"
      ]
     },
     "execution_count": 12,
     "metadata": {},
     "output_type": "execute_result"
    },
    {
     "data": {
      "image/png": "[encoded data removed]",
      "text/plain": [
       "<Figure size 432x288 with 2 Axes>"
      ]
     },
     "metadata": {
      "needs_background": "light"
     },
     "output_type": "display_data"
    }
   ],
   "source": [
    "heatmap_local = sigma_local.reshape(L, L)\n",
    "sns.heatmap(heatmap_local, cmap = 'bwr')\n",
    "plt.title('local control')"
   ]
  },
  {
   "cell_type": "code",
   "execution_count": 15,
   "id": "83bd6b38-7e80-4593-b413-a73676ce3f7c",
   "metadata": {},
   "outputs": [
    {
     "data": {
      "text/plain": [
       "Text(0.5, 1.0, 'QA simulator')"
      ]
     },
     "execution_count": 15,
     "metadata": {},
     "output_type": "execute_result"
    },
    {
     "data": {
      "image/png": "[encoded data removed]",
      "text/plain": [
       "<Figure size 432x288 with 1 Axes>"
      ]
     },
     "metadata": {
      "needs_background": "light"
     },
     "output_type": "display_data"
    }
   ],
   "source": [
    "plt.plot(energy)\n",
    "plt.xlabel('iterations')\n",
    "plt.ylabel('energy')\n",
    "plt.title('QA simulator')"
   ]
  },
  {
   "cell_type": "markdown",
   "id": "c57d0a3b-706a-4d5b-8702-0d1d0446347f",
   "metadata": {},
   "source": [
    "# function tester"
   ]
  },
  {
   "cell_type": "markdown",
   "id": "308cea4d-7030-4219-b266-d8c3274cabfb",
   "metadata": {},
   "source": [
    "## A (neignborhood intersections)\n",
    "if $L = 4$, the map becomes\n",
    "\n",
    "|<!-- -->||||\n",
    "|--|--|--|--|\n",
    "|1|2|3|4|\n",
    "|5|6|7|8|\n",
    "|9|10|11|12|\n",
    "|13|14|15|16|\n",
    "\n",
    "- $1$st intersection has the neighbor of 2 and 5\n",
    "- $2$nd - 1, 3, 6\n",
    "- $10$th - 6, 9, 11, 14"
   ]
  },
  {
   "cell_type": "raw",
   "id": "943ac11b-f501-4558-84c5-ccf8222ed02e",
   "metadata": {},
   "source": [
    "import numpy as np\n",
    "\n",
    "L = 4\n",
    "A = np.zeros(L**4).reshape(L**2, L**2)\n",
    "    \n",
    "for i in range(L):\n",
    "    for j in range(L):\n",
    "        \"\"\"\n",
    "        # every intersection has four neighborhoods\n",
    "        \"\"\"            \n",
    "        four_dirc = []\n",
    "        four_dirc.append( (i - 1) * L + j ) # north\n",
    "        four_dirc.append( (i + 1) * L + j ) # south\n",
    "        four_dirc.append( i * L + (j - 1) ) # west\n",
    "        four_dirc.append( i * L + (j + 1) ) # east\n",
    "\n",
    "        for neighbor in four_dirc:\n",
    "            \"\"\"\n",
    "            # but does not count the neighbor who is out of the lattice range\n",
    "            \"\"\"\n",
    "            if neighbor>=0 and neighbor<L**2:\n",
    "                A[i*L+j][neighbor] = 1\n",
    "\n",
    "A"
   ]
  }
 ],
 "metadata": {
  "kernelspec": {
   "display_name": "Python 3",
   "language": "python",
   "name": "python3"
  },
  "language_info": {
   "codemirror_mode": {
    "name": "ipython",
    "version": 3
   },
   "file_extension": ".py",
   "mimetype": "text/x-python",
   "name": "python",
   "nbconvert_exporter": "python",
   "pygments_lexer": "ipython3",
   "version": "3.9.2"
  }
 },
 "nbformat": 4,
 "nbformat_minor": 5
}
