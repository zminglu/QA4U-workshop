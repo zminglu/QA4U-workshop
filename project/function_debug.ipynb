{
 "cells": [
  {
   "cell_type": "markdown",
   "id": "7cc31aa7-3f18-485d-810d-69abc000d8e3",
   "metadata": {},
   "source": [
    "# function tester"
   ]
  },
  {
   "cell_type": "markdown",
   "id": "4bf385fc-d543-4c76-b099-1009a50878b4",
   "metadata": {},
   "source": [
    "## A (neignborhood intersections)"
   ]
  },
  {
   "cell_type": "markdown",
   "id": "029ca8ea-57fb-4356-ba75-f7e340094cd2",
   "metadata": {},
   "source": [
    "### original paper\n",
    "in the [original paper](https://www.nature.com/articles/s41598-021-82740-0), intersections' boundaries are periodic<br>\n",
    "that means, for example, here is a map in 4x4\n",
    "\n",
    "|<!-- -->||||\n",
    "|--|--|--|--|\n",
    "|1|2|3|4|\n",
    "|5|6|7|8|\n",
    "|9|10|11|12|\n",
    "|13|14|15|16|\n",
    "\n",
    "- $1$st intersection has the neighbor of 2, 5, 4 and 13\n",
    "- $2$nd - 1, 3, 6, 14\n",
    "- $10$th - 6, 9, 11, 14"
   ]
  },
  {
   "cell_type": "markdown",
   "id": "bec6e9b0-425b-4d8c-a634-137912836dc3",
   "metadata": {},
   "source": [
    "### non-periodic\n",
    "to make the model closer to real world, we assume the non-periodic boundary, that is\n",
    "- $1$st intersection has the neighbor of 2 and 5\n",
    "- $2$nd - 1, 3, 6\n",
    "- $10$th - 6, 9, 11, 14"
   ]
  },
  {
   "cell_type": "code",
   "execution_count": 1,
   "id": "0cc3a984-7397-4412-bedf-f9c8236a8f23",
   "metadata": {},
   "outputs": [
    {
     "data": {
      "text/plain": [
       "array([[0., 1., 0., 0., 1., 0., 0., 0., 0., 0., 0., 0., 0., 0., 0., 0.],\n",
       "       [1., 0., 1., 0., 0., 1., 0., 0., 0., 0., 0., 0., 0., 0., 0., 0.],\n",
       "       [0., 1., 0., 1., 0., 0., 1., 0., 0., 0., 0., 0., 0., 0., 0., 0.],\n",
       "       [0., 0., 1., 0., 1., 0., 0., 1., 0., 0., 0., 0., 0., 0., 0., 0.],\n",
       "       [1., 0., 0., 1., 0., 1., 0., 0., 1., 0., 0., 0., 0., 0., 0., 0.],\n",
       "       [0., 1., 0., 0., 1., 0., 1., 0., 0., 1., 0., 0., 0., 0., 0., 0.],\n",
       "       [0., 0., 1., 0., 0., 1., 0., 1., 0., 0., 1., 0., 0., 0., 0., 0.],\n",
       "       [0., 0., 0., 1., 0., 0., 1., 0., 1., 0., 0., 1., 0., 0., 0., 0.],\n",
       "       [0., 0., 0., 0., 1., 0., 0., 1., 0., 1., 0., 0., 1., 0., 0., 0.],\n",
       "       [0., 0., 0., 0., 0., 1., 0., 0., 1., 0., 1., 0., 0., 1., 0., 0.],\n",
       "       [0., 0., 0., 0., 0., 0., 1., 0., 0., 1., 0., 1., 0., 0., 1., 0.],\n",
       "       [0., 0., 0., 0., 0., 0., 0., 1., 0., 0., 1., 0., 1., 0., 0., 1.],\n",
       "       [0., 0., 0., 0., 0., 0., 0., 0., 1., 0., 0., 1., 0., 1., 0., 0.],\n",
       "       [0., 0., 0., 0., 0., 0., 0., 0., 0., 1., 0., 0., 1., 0., 1., 0.],\n",
       "       [0., 0., 0., 0., 0., 0., 0., 0., 0., 0., 1., 0., 0., 1., 0., 1.],\n",
       "       [0., 0., 0., 0., 0., 0., 0., 0., 0., 0., 0., 1., 0., 0., 1., 0.]])"
      ]
     },
     "execution_count": 1,
     "metadata": {},
     "output_type": "execute_result"
    }
   ],
   "source": [
    "import numpy as np\n",
    "\n",
    "L = 4\n",
    "A = np.zeros(L**4).reshape(L**2, L**2)\n",
    "    \n",
    "for i in range(L):\n",
    "    for j in range(L):\n",
    "        \"\"\"\n",
    "        # every intersection has four neighborhoods\n",
    "        \"\"\"            \n",
    "        four_dirc = []\n",
    "        four_dirc.append( (i - 1) * L + j ) # north\n",
    "        four_dirc.append( (i + 1) * L + j ) # south\n",
    "        four_dirc.append( i * L + (j - 1) ) # west\n",
    "        four_dirc.append( i * L + (j + 1) ) # east\n",
    "\n",
    "        for neighbor in four_dirc:\n",
    "            \"\"\"\n",
    "            # but does not count the neighbor who is out of the lattice range\n",
    "            \"\"\"\n",
    "            if neighbor>=0 and neighbor<L**2:\n",
    "                A[i*L+j][neighbor] = 1\n",
    "\n",
    "A"
   ]
  }
 ],
 "metadata": {
  "kernelspec": {
   "display_name": "Python 3",
   "language": "python",
   "name": "python3"
  },
  "language_info": {
   "codemirror_mode": {
    "name": "ipython",
    "version": 3
   },
   "file_extension": ".py",
   "mimetype": "text/x-python",
   "name": "python",
   "nbconvert_exporter": "python",
   "pygments_lexer": "ipython3",
   "version": "3.9.2"
  }
 },
 "nbformat": 4,
 "nbformat_minor": 5
}
