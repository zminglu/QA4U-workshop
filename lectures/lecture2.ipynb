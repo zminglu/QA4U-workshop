{
 "cells": [
  {
   "cell_type": "markdown",
   "id": "0cc4ebb0-c6d0-4064-b6d7-bc1af55fed8c",
   "metadata": {},
   "source": [
    "# QA4U lecture 2"
   ]
  },
  {
   "cell_type": "markdown",
   "id": "6803294a-1147-4ccf-b836-ed4696705c09",
   "metadata": {},
   "source": [
    "## probs can be solved by QA\n",
    "due to the QA machine property, it can only solve the probs be represented in ***quadratic function*** with a ***QUBO matrix*** and ***binary variables***.\n",
    "\n",
    "\\begin{equation}\n",
    "E({\\bf x}) = \\sum_{i=1}^N \\sum_{j=1}^N Q_{ij} x_i x_j\n",
    "\\end{equation}"
   ]
  },
  {
   "cell_type": "markdown",
   "id": "5d2dd800-9b63-444d-8f3c-bbb6c11f30b8",
   "metadata": {},
   "source": [
    "## dealing with interger data type in QA\n",
    "A Qbit can only represent either 0 or 1. To dealing with an interger variable larger than 1, that variable can be represented as \n",
    "$$x = \\sum_{i=1}^N x_i$$\n",
    "\n",
    "Lets assume a function\n",
    "$$y = a(x-b)^2$$\n",
    "and represent the variable, $x$, in Qbits\n",
    "\n",
    "\\begin{align}\n",
    "y &= a(\\sum_{i=1}^N x_i - b)^2\\\\\n",
    "&= a \\sum_{i=1}^N \\sum_{j=1}^N x_ix_j - 2ab \\sum_{i=1}^N x_i + ab^2\n",
    "\\end{align}\n",
    "\n",
    "Similarly as previous, we obtain the QUBO matrix here"
   ]
  },
  {
   "cell_type": "code",
   "execution_count": 1,
   "id": "4007026d-d652-49e3-a64b-504d3b72a1fd",
   "metadata": {},
   "outputs": [],
   "source": [
    "import numpy as np\n",
    "N = 10\n",
    "QUBO = np.zeros(N**2).reshape(N, N)"
   ]
  },
  {
   "cell_type": "code",
   "execution_count": 2,
   "id": "a8e717b9-9420-4c37-a1fa-3c70b2fb6994",
   "metadata": {},
   "outputs": [],
   "source": [
    "a = 0.5\n",
    "b = 3\n",
    "\n",
    "# first item\n",
    "for i in range(N):\n",
    "    for j in range(N):\n",
    "        QUBO[i][j] = a\n",
    "\n",
    "# second item\n",
    "for i in range(N):\n",
    "    QUBO[i][i] -= 2*a*b"
   ]
  },
  {
   "cell_type": "code",
   "execution_count": 3,
   "id": "aad5a42b-6d68-4725-9509-e16136bb18d0",
   "metadata": {},
   "outputs": [],
   "source": [
    "# conver array into dict for simulator\n",
    "def array2dict(Q):\n",
    "    Qdict = {}\n",
    "    for i in range(Q.shape[0]):\n",
    "        for j in range(Q.shape[1]):\n",
    "            Qdict[(i,j)] = Q[i][j]\n",
    "    return Qdict"
   ]
  },
  {
   "cell_type": "code",
   "execution_count": 4,
   "id": "6d1d1fb8-307f-4197-bbcc-4b8b02af2423",
   "metadata": {},
   "outputs": [],
   "source": [
    "QUBOdict = array2dict(QUBO)"
   ]
  },
  {
   "cell_type": "code",
   "execution_count": 5,
   "id": "681d73cd-89f9-4aa5-a7c9-8085d3bff73d",
   "metadata": {},
   "outputs": [
    {
     "name": "stdout",
     "output_type": "stream",
     "text": [
      "[([1, 0, 0, 0, 0, 1, 0, 0, 1, 0], -4.5, 1)\n",
      " ([1, 0, 0, 1, 0, 1, 0, 0, 0, 0], -4.5, 1)\n",
      " ([1, 1, 0, 0, 0, 0, 0, 0, 0, 1], -4.5, 1)\n",
      " ([1, 0, 1, 0, 0, 0, 0, 1, 0, 0], -4.5, 1)\n",
      " ([0, 1, 0, 1, 1, 0, 0, 0, 1, 0], -4. , 1)\n",
      " ([1, 0, 0, 1, 0, 0, 0, 0, 0, 1], -4.5, 1)\n",
      " ([0, 0, 1, 0, 1, 0, 0, 0, 0, 1], -4.5, 1)\n",
      " ([0, 0, 1, 0, 0, 0, 0, 0, 0, 1], -4. , 1)\n",
      " ([1, 0, 1, 1, 0, 0, 0, 0, 1, 0], -4. , 1)\n",
      " ([0, 0, 1, 0, 1, 1, 0, 0, 0, 0], -4.5, 1)]\n",
      "Sample(sample={0: 1, 1: 0, 2: 0, 3: 0, 4: 0, 5: 1, 6: 0, 7: 0, 8: 1, 9: 0}, energy=-4.5, num_occurrences=1)\n"
     ]
    }
   ],
   "source": [
    "from openjij import SQASampler\n",
    "sim_sampler = SQASampler()\n",
    "\n",
    "sampleset = sim_sampler.sample_qubo(QUBOdict, num_reads=10)\n",
    "print(sampleset.record)\n",
    "print(sampleset.first)"
   ]
  },
  {
   "cell_type": "markdown",
   "id": "af80e884-2ebd-4a8c-b085-4c865734cb75",
   "metadata": {},
   "source": [
    "theoretically, the min value of the function, $y = 0.5*(x-3)^2$, occurs when $x = 3$. thus, there should exist 3 $x$s as the value of 1 in results. the remaining energy of 4.5 can be considered as the constant item, $ab^2$ in the equation"
   ]
  },
  {
   "cell_type": "markdown",
   "id": "08d16358-18d8-4f25-9d00-fd1168d6431f",
   "metadata": {},
   "source": [
    "## pyQUBO: obtain QUBO matrix from equations\n",
    "pyQUBO lib is in D-WAVE Ocean SDK"
   ]
  },
  {
   "cell_type": "code",
   "execution_count": 6,
   "id": "4c9a1850-125a-4b8e-a1e9-c05c58f469f0",
   "metadata": {},
   "outputs": [
    {
     "name": "stdout",
     "output_type": "stream",
     "text": [
      "Array([Binary(x[0]), Binary(x[1]), Binary(x[2]), Binary(x[3]), Binary(x[4]), Binary(x[5]), Binary(x[6]), Binary(x[7]), Binary(x[8]), Binary(x[9])])\n"
     ]
    }
   ],
   "source": [
    "from pyqubo import Array\n",
    "\n",
    "# binary variable\n",
    "x = Array.create(name = 'x', shape = (N), vartype = 'BINARY')\n",
    "print(x)"
   ]
  },
  {
   "cell_type": "code",
   "execution_count": 7,
   "id": "06addabe-dabb-4708-940a-f6d2c2d1801d",
   "metadata": {},
   "outputs": [],
   "source": [
    "# function equation\n",
    "y = a * (sum(x)-b)**2"
   ]
  },
  {
   "cell_type": "code",
   "execution_count": 8,
   "id": "ed7a9dd2-e8d8-4f9f-b544-7be834ddd1e7",
   "metadata": {},
   "outputs": [
    {
     "name": "stdout",
     "output_type": "stream",
     "text": [
      "{('x[8]', 'x[8]'): -2.5, ('x[7]', 'x[7]'): -2.5, ('x[1]', 'x[1]'): -2.5, ('x[0]', 'x[0]'): -2.5, ('x[4]', 'x[4]'): -2.5, ('x[2]', 'x[2]'): -2.5, ('x[8]', 'x[2]'): 1.0, ('x[6]', 'x[2]'): 1.0, ('x[8]', 'x[1]'): 1.0, ('x[8]', 'x[0]'): 1.0, ('x[2]', 'x[0]'): 1.0, ('x[8]', 'x[5]'): 1.0, ('x[7]', 'x[5]'): 1.0, ('x[7]', 'x[1]'): 1.0, ('x[0]', 'x[1]'): 1.0, ('x[9]', 'x[7]'): 1.0, ('x[9]', 'x[6]'): 1.0, ('x[7]', 'x[4]'): 1.0, ('x[3]', 'x[2]'): 1.0, ('x[7]', 'x[2]'): 1.0, ('x[8]', 'x[6]'): 1.0, ('x[4]', 'x[2]'): 1.0, ('x[5]', 'x[4]'): 1.0, ('x[3]', 'x[0]'): 1.0, ('x[3]', 'x[3]'): -2.5, ('x[4]', 'x[3]'): 1.0, ('x[9]', 'x[0]'): 1.0, ('x[6]', 'x[1]'): 1.0, ('x[7]', 'x[3]'): 1.0, ('x[6]', 'x[0]'): 1.0, ('x[8]', 'x[3]'): 1.0, ('x[6]', 'x[4]'): 1.0, ('x[3]', 'x[1]'): 1.0, ('x[9]', 'x[2]'): 1.0, ('x[5]', 'x[0]'): 1.0, ('x[2]', 'x[1]'): 1.0, ('x[5]', 'x[5]'): -2.5, ('x[9]', 'x[8]'): 1.0, ('x[9]', 'x[3]'): 1.0, ('x[5]', 'x[2]'): 1.0, ('x[6]', 'x[5]'): 1.0, ('x[6]', 'x[6]'): -2.5, ('x[4]', 'x[0]'): 1.0, ('x[9]', 'x[4]'): 1.0, ('x[4]', 'x[1]'): 1.0, ('x[9]', 'x[5]'): 1.0, ('x[5]', 'x[1]'): 1.0, ('x[9]', 'x[1]'): 1.0, ('x[8]', 'x[7]'): 1.0, ('x[9]', 'x[9]'): -2.5, ('x[5]', 'x[3]'): 1.0, ('x[7]', 'x[0]'): 1.0, ('x[6]', 'x[3]'): 1.0, ('x[8]', 'x[4]'): 1.0, ('x[7]', 'x[6]'): 1.0}\n"
     ]
    }
   ],
   "source": [
    "# from function to qubo\n",
    "model = y.compile()\n",
    "qubo, offset = model.to_qubo()\n",
    "print(qubo)"
   ]
  },
  {
   "cell_type": "code",
   "execution_count": 9,
   "id": "ae301e70-b6d2-4199-92e3-a68a98e18b8f",
   "metadata": {},
   "outputs": [
    {
     "name": "stdout",
     "output_type": "stream",
     "text": [
      "[([1, 1, 0, 0, 1, 0, 0, 0, 0, 0], -4.5, 1)\n",
      " ([0, 0, 1, 1, 1, 0, 0, 0, 0, 0], -4.5, 1)\n",
      " ([0, 0, 0, 0, 1, 0, 0, 1, 0, 1], -4.5, 1)\n",
      " ([0, 0, 1, 1, 1, 0, 0, 0, 0, 0], -4.5, 1)\n",
      " ([0, 1, 0, 0, 0, 0, 0, 0, 1, 1], -4.5, 1)\n",
      " ([1, 0, 1, 1, 0, 0, 0, 1, 0, 0], -4. , 1)\n",
      " ([1, 0, 0, 0, 1, 0, 0, 1, 0, 0], -4.5, 1)\n",
      " ([0, 0, 1, 0, 0, 1, 0, 1, 1, 0], -4. , 1)\n",
      " ([1, 1, 0, 1, 0, 0, 0, 0, 0, 0], -4.5, 1)\n",
      " ([1, 0, 0, 0, 0, 0, 1, 1, 0, 0], -4.5, 1)]\n",
      "Sample(sample={'x[0]': 1, 'x[1]': 1, 'x[2]': 0, 'x[3]': 0, 'x[4]': 1, 'x[5]': 0, 'x[6]': 0, 'x[7]': 0, 'x[8]': 0, 'x[9]': 0}, energy=-4.5, num_occurrences=1)\n"
     ]
    }
   ],
   "source": [
    "sampleset = sim_sampler.sample_qubo(qubo, num_reads=10)\n",
    "print(sampleset.record)\n",
    "print(sampleset.first)"
   ]
  },
  {
   "cell_type": "code",
   "execution_count": 10,
   "id": "16a98c13-16d3-49e1-9d42-fa56a43a01e1",
   "metadata": {},
   "outputs": [
    {
     "name": "stdout",
     "output_type": "stream",
     "text": [
      "4.5\n"
     ]
    }
   ],
   "source": [
    "print(offset)"
   ]
  },
  {
   "cell_type": "markdown",
   "id": "958fcbe1-a262-436d-b990-4c6c5b4aa521",
   "metadata": {},
   "source": [
    "now we got the same result as previous section that the QUBO was established manually"
   ]
  },
  {
   "cell_type": "markdown",
   "id": "2ac1f6ad-d2bc-451f-bf03-6ddc1206988a",
   "metadata": {},
   "source": [
    "## penalty\n",
    "in the case to have some constraints on $x$, for example, to ensure the sum of $x$ equals to the value of $b$, we can establish the cost function as\n",
    "$$E(x) = \\frac{a}{2}(\\sum_{i=1}^N x_i -b)^2$$\n",
    "Such method that set constraints on the vertex is called Penalty."
   ]
  },
  {
   "cell_type": "markdown",
   "id": "f7898a4b-6475-477a-9b76-c46c668a1dc9",
   "metadata": {},
   "source": [
    "### example\n",
    "knapsack prob with a certain number of objects, $K=3$"
   ]
  },
  {
   "cell_type": "code",
   "execution_count": 11,
   "id": "a3182bb5-046a-400e-99fe-a84ae299cd15",
   "metadata": {},
   "outputs": [
    {
     "name": "stdout",
     "output_type": "stream",
     "text": [
      "[0.72427187 0.79864384 0.87487621 0.95846411 0.70483845 0.03394692\n",
      " 0.48437741 0.08352743 0.59210616 0.64683782]\n"
     ]
    }
   ],
   "source": [
    "# random weights for 10 objects\n",
    "N = 10\n",
    "w = np.random.rand(N)\n",
    "print(w)"
   ]
  },
  {
   "cell_type": "code",
   "execution_count": 12,
   "id": "ad19eae4-1424-420f-94b2-0fb3f1ceb992",
   "metadata": {},
   "outputs": [],
   "source": [
    "x = Array.create(name = 'x', shape = N, vartype = 'BINARY')"
   ]
  },
  {
   "cell_type": "code",
   "execution_count": 13,
   "id": "c44e5e63-5a38-447c-8b52-9de247fe43c0",
   "metadata": {},
   "outputs": [],
   "source": [
    "K = 3\n",
    "constr = (sum(x) - K) ** 2"
   ]
  },
  {
   "cell_type": "markdown",
   "id": "a18252e8-25fa-4dfc-b39e-e0ac97bc49df",
   "metadata": {},
   "source": [
    "QA mainly solves min probs. in the case to obtain max value, apply a minus sign to the equation, such as\n",
    "$$E(x) = -\\sum_{i=1}^N w_i x_i + a(\\sum_{i=1}^N x_i - K)^2$$"
   ]
  },
  {
   "cell_type": "code",
   "execution_count": 14,
   "id": "34c0c0c5-7b0f-40f9-8bc4-7ef5c9feac65",
   "metadata": {},
   "outputs": [
    {
     "data": {
      "text/plain": [
       "(Binary(x[9])*Num(0.646838)+Binary(x[8])*Num(0.592106)+Binary(x[7])*Num(0.083527)+Binary(x[6])*Num(0.484377)+Binary(x[5])*Num(0.033947)+Binary(x[4])*Num(0.704838)+Binary(x[3])*Num(0.958464)+Binary(x[2])*Num(0.874876)+Binary(x[0])*Num(0.724272)+Binary(x[1])*Num(0.798644))*Num(-1.000000)"
      ]
     },
     "execution_count": 14,
     "metadata": {},
     "output_type": "execute_result"
    }
   ],
   "source": [
    "cost = - np.dot(w, x)\n",
    "cost"
   ]
  },
  {
   "cell_type": "code",
   "execution_count": 15,
   "id": "2498a1c7-b783-427f-b168-8cf308366c61",
   "metadata": {},
   "outputs": [
    {
     "data": {
      "text/plain": [
       "0"
      ]
     },
     "execution_count": 15,
     "metadata": {},
     "output_type": "execute_result"
    }
   ],
   "source": [
    "cost = 0\n",
    "cost"
   ]
  },
  {
   "cell_type": "code",
   "execution_count": 16,
   "id": "332a8114-c6f2-45e3-af65-3012a384f3f4",
   "metadata": {},
   "outputs": [
    {
     "data": {
      "text/plain": [
       "((((((((((Binary(x[0])*Num(0.724272)*Num(-1.000000)+Num(0.000000))+Binary(x[1])*Num(0.798644)*Num(-1.000000))+Binary(x[2])*Num(0.874876)*Num(-1.000000))+Binary(x[3])*Num(0.958464)*Num(-1.000000))+Binary(x[4])*Num(0.704838)*Num(-1.000000))+Binary(x[5])*Num(0.033947)*Num(-1.000000))+Binary(x[6])*Num(0.484377)*Num(-1.000000))+Binary(x[7])*Num(0.083527)*Num(-1.000000))+Binary(x[8])*Num(0.592106)*Num(-1.000000))+Binary(x[9])*Num(0.646838)*Num(-1.000000))"
      ]
     },
     "execution_count": 16,
     "metadata": {},
     "output_type": "execute_result"
    }
   ],
   "source": [
    "for i in range(N):\n",
    "    cost = cost - w[i] * x[i]\n",
    "cost"
   ]
  },
  {
   "cell_type": "markdown",
   "id": "e3da0907-cc1c-4e98-8f78-fae6ad5440f7",
   "metadata": {},
   "source": [
    "pyqubo has powerful modules for penalty.\n",
    "- placeholder enables to change the coef later while saving execution time"
   ]
  },
  {
   "cell_type": "code",
   "execution_count": 17,
   "id": "a64ef6c6-323f-41b5-a052-78bf4cc090f7",
   "metadata": {},
   "outputs": [],
   "source": [
    "from pyqubo import Constraint, Placeholder\n",
    "cost_func = cost + Placeholder('a')*Constraint(constr, label='one-hot')"
   ]
  },
  {
   "cell_type": "code",
   "execution_count": 18,
   "id": "31aab22e-816a-446c-b9c1-06b71cf816bb",
   "metadata": {},
   "outputs": [],
   "source": [
    "model = cost_func.compile()"
   ]
  },
  {
   "cell_type": "code",
   "execution_count": 19,
   "id": "63894c6c-9cfb-49b4-a3a1-7290d1ccbeec",
   "metadata": {},
   "outputs": [],
   "source": [
    "feed_dict = {'a': 2.0}\n",
    "qubo, offset = model.to_qubo(feed_dict=feed_dict)"
   ]
  },
  {
   "cell_type": "code",
   "execution_count": 20,
   "id": "37eae36a-9f57-4a8a-8a9a-100996318305",
   "metadata": {},
   "outputs": [
    {
     "name": "stdout",
     "output_type": "stream",
     "text": [
      "[([0, 1, 1, 0, 0, 0, 0, 0, 0, 1], -20.32035788, 1)\n",
      " ([0, 1, 1, 0, 0, 0, 0, 0, 0, 1], -20.32035788, 1)\n",
      " ([0, 0, 1, 1, 0, 0, 0, 0, 1, 0], -20.42544649, 1)\n",
      " ([1, 0, 1, 0, 0, 0, 0, 0, 1, 0], -20.19125425, 1)\n",
      " ([1, 0, 0, 0, 0, 0, 0, 0, 1, 1], -19.96321586, 1)\n",
      " ([0, 0, 0, 1, 0, 0, 0, 0, 1, 1], -20.1974081 , 1)\n",
      " ([1, 0, 0, 1, 0, 0, 0, 0, 0, 1], -20.32957381, 1)\n",
      " ([1, 0, 1, 1, 0, 0, 0, 0, 0, 0], -20.5576122 , 1)\n",
      " ([0, 1, 0, 1, 0, 0, 0, 0, 0, 1], -20.40394578, 1)\n",
      " ([0, 0, 0, 1, 1, 0, 1, 0, 0, 0], -20.14767997, 1)]\n",
      "Sample(sample={'x[0]': 1, 'x[1]': 0, 'x[2]': 1, 'x[3]': 1, 'x[4]': 0, 'x[5]': 0, 'x[6]': 0, 'x[7]': 0, 'x[8]': 0, 'x[9]': 0}, energy=-20.55761219824865, num_occurrences=1)\n"
     ]
    }
   ],
   "source": [
    "sampleset = sim_sampler.sample_qubo(qubo, num_reads=10)\n",
    "print(sampleset.record)\n",
    "print(sampleset.first)"
   ]
  },
  {
   "cell_type": "markdown",
   "id": "0bf112b0-f3ef-4879-b90c-52d959828893",
   "metadata": {},
   "source": [
    "<span style=\"color:orange\">sampleset.first</span> tells the result giving the min energy"
   ]
  },
  {
   "cell_type": "markdown",
   "id": "9f1eb497-a121-410a-a7c1-c508f480ac68",
   "metadata": {},
   "source": [
    "to check whether the sampleset satisfies the constraints\n",
    "- <span style=\"color:orange\">.constraints(only_broken=True)</span> gives the sample sets do not satisify"
   ]
  },
  {
   "cell_type": "code",
   "execution_count": 21,
   "id": "5815a0cc-cf96-4ae1-a9a4-c9c37bc0594d",
   "metadata": {},
   "outputs": [
    {
     "name": "stdout",
     "output_type": "stream",
     "text": [
      "{}\n",
      "{}\n",
      "{}\n",
      "{}\n",
      "{}\n",
      "{}\n",
      "{}\n",
      "{}\n",
      "{}\n",
      "{}\n"
     ]
    }
   ],
   "source": [
    "decoded_samples = model.decode_sampleset(sampleset = sampleset, feed_dict = feed_dict)\n",
    "\n",
    "for sample in decoded_samples:\n",
    "    print(sample.constraints(only_broken=True))"
   ]
  },
  {
   "cell_type": "markdown",
   "id": "d726d05f-a703-4993-8bde-40c83442ca51",
   "metadata": {},
   "source": [
    "## probs should be solved by QA\n",
    "to be more closer to the real-world situation regarding knapsack, we can assume whether two objects are good to be carried togeter. $W_{ij}$ tells how easily / hardly to carry two objects togther"
   ]
  },
  {
   "cell_type": "code",
   "execution_count": 22,
   "id": "497b01b3-6181-43fa-a1a7-1bfdf1fa6b4c",
   "metadata": {},
   "outputs": [
    {
     "name": "stdout",
     "output_type": "stream",
     "text": [
      "[[0.         0.09188929 0.04452233 0.00744838 0.09829124 0.02708858\n",
      "  0.09205573 0.08862633 0.06711644 0.09410196]\n",
      " [0.09923829 0.         0.05856805 0.0822032  0.0461632  0.0070787\n",
      "  0.08903944 0.07666588 0.03808293 0.08388994]\n",
      " [0.07160536 0.09444941 0.         0.02611818 0.0463549  0.00588307\n",
      "  0.04092306 0.09658804 0.04176903 0.08008022]\n",
      " [0.00053115 0.008784   0.08429758 0.         0.09926344 0.02297686\n",
      "  0.0084391  0.06236501 0.0609252  0.09083209]\n",
      " [0.04828415 0.03232349 0.09727692 0.06879434 0.         0.00347678\n",
      "  0.02025279 0.05146051 0.02625001 0.07979555]\n",
      " [0.0517856  0.00065238 0.06048448 0.00944295 0.07468007 0.\n",
      "  0.06853585 0.00489869 0.06027949 0.07649884]\n",
      " [0.06663138 0.03737164 0.0740838  0.03943447 0.0757079  0.05255125\n",
      "  0.         0.05381951 0.09684764 0.05230036]\n",
      " [0.0568156  0.04320142 0.04058352 0.09316643 0.09351602 0.01057044\n",
      "  0.05048288 0.         0.04805395 0.01479481]\n",
      " [0.0640049  0.00590103 0.0285703  0.01405417 0.007356   0.00702645\n",
      "  0.000577   0.01285698 0.         0.08905421]\n",
      " [0.0347461  0.08208897 0.05525721 0.09160855 0.06743137 0.0359426\n",
      "  0.07298947 0.07373697 0.06900339 0.        ]]\n"
     ]
    }
   ],
   "source": [
    "W = 0.1 * np.random.rand(N**2).reshape(N,N)\n",
    "W -= np.diag(np.diag(W))\n",
    "print(W)"
   ]
  },
  {
   "cell_type": "code",
   "execution_count": 23,
   "id": "571e07a9-b497-4d85-85d3-54e231a20c11",
   "metadata": {},
   "outputs": [
    {
     "name": "stderr",
     "output_type": "stream",
     "text": [
      "Matplotlib created a temporary config/cache directory at /tmp/matplotlib-w_w__1uf because the default path (/home/jovyan/.cache/matplotlib) is not a writable directory; it is highly recommended to set the MPLCONFIGDIR environment variable to a writable directory, in particular to speed up the import of Matplotlib and to better support multiprocessing.\n"
     ]
    },
    {
     "data": {
      "image/png": "[encoded data removed]",
      "text/plain": [
       "<Figure size 432x288 with 2 Axes>"
      ]
     },
     "metadata": {
      "needs_background": "light"
     },
     "output_type": "display_data"
    }
   ],
   "source": [
    "# visualization\n",
    "import matplotlib.pyplot as plt\n",
    "plt.imshow(W)\n",
    "plt.colorbar()\n",
    "plt.show()"
   ]
  },
  {
   "cell_type": "code",
   "execution_count": 24,
   "id": "e93adf74-c737-4182-a5e1-8bed31111633",
   "metadata": {},
   "outputs": [],
   "source": [
    "# a new cost function\n",
    "cost2 = 0\n",
    "for i in range(N):\n",
    "    for j in range(N):\n",
    "        cost2 += W[i][j] * x[i] * x[j]"
   ]
  },
  {
   "cell_type": "code",
   "execution_count": 25,
   "id": "6231588e-e85d-46f1-bf03-eba696db8a65",
   "metadata": {},
   "outputs": [],
   "source": [
    "cost_func2 = cost + cost2 + Placeholder('a')*Constraint(constr, label='Kconstr')\n",
    "model2 = cost_func2.compile()\n",
    "feed_dict = {'a': 2.0}\n",
    "qubo2, offset = model2.to_qubo(feed_dict=feed_dict)"
   ]
  },
  {
   "cell_type": "code",
   "execution_count": 26,
   "id": "15c5b16c-4434-4ac1-a224-a98d9cb80a49",
   "metadata": {},
   "outputs": [
    {
     "name": "stdout",
     "output_type": "stream",
     "text": [
      "[([0, 1, 0, 1, 0, 0, 0, 0, 0, 1], -19.96453903, 1)\n",
      " ([1, 0, 0, 1, 1, 0, 0, 0, 0, 0], -20.06496173, 1)\n",
      " ([0, 0, 1, 1, 0, 0, 0, 0, 1, 0], -20.16971203, 1)\n",
      " ([1, 0, 0, 1, 1, 0, 0, 0, 0, 0], -20.06496173, 1)\n",
      " ([1, 0, 0, 1, 0, 0, 0, 0, 1, 0], -20.06076191, 1)\n",
      " ([1, 0, 0, 1, 0, 0, 0, 0, 0, 1], -20.01030558, 1)\n",
      " ([0, 0, 1, 0, 0, 0, 0, 0, 1, 1], -19.75008583, 1)\n",
      " ([1, 0, 0, 0, 1, 0, 1, 0, 0, 0], -19.51226454, 1)\n",
      " ([1, 1, 0, 1, 0, 0, 0, 0, 0, 0], -20.19128551, 1)\n",
      " ([0, 1, 0, 1, 0, 0, 0, 0, 1, 0], -20.13926359, 1)]\n",
      "Sample(sample={'x[0]': 1, 'x[1]': 1, 'x[2]': 0, 'x[3]': 1, 'x[4]': 0, 'x[5]': 0, 'x[6]': 0, 'x[7]': 0, 'x[8]': 0, 'x[9]': 0}, energy=-20.191285512644818, num_occurrences=1)\n"
     ]
    }
   ],
   "source": [
    "sampleset = sim_sampler.sample_qubo(qubo2, num_reads=10)\n",
    "print(sampleset.record)\n",
    "print(sampleset.first)"
   ]
  },
  {
   "cell_type": "markdown",
   "id": "066c94b1-b5b6-4668-ad8f-3eb3cc4392b8",
   "metadata": {},
   "source": [
    "the optimal solutions are different with higher min energy due to the new constraints"
   ]
  },
  {
   "cell_type": "markdown",
   "id": "3b7a626a-66d3-45bb-8239-e29425b4a735",
   "metadata": {},
   "source": [
    "## Merton's portfolio problem\n",
    "<span  style=\"color:orange\">Def:</span> An investor must choose how much to consume and must allocate his wealth between stocks and a risk-free asset so as to maximize expected utility.\n",
    "\n",
    "Lets use QA to solve this prob now"
   ]
  },
  {
   "cell_type": "code",
   "execution_count": 27,
   "id": "6a2d96ae-7424-4da5-942d-ea89aa806778",
   "metadata": {},
   "outputs": [],
   "source": [
    "import datetime\n",
    "start = datetime.datetime(2018, 1, 1)\n",
    "end = datetime.datetime(2020, 12, 31)"
   ]
  },
  {
   "cell_type": "code",
   "execution_count": 28,
   "id": "27e1ea0d-4dd6-4d6d-bc07-61d06e2a47f8",
   "metadata": {},
   "outputs": [],
   "source": [
    "# 株の銘柄\n",
    "stockcodes=[\"2502\", \"3382\", \"4661\", \"6178\", \"6758\", \"7203\", \"8053\", \"8604\", \"9020\", \"9433\"]\n",
    "## アサヒ, セブン&アイ, オリエンタルランド, 日本郵政, ソニー, トヨタ自動車, 住友商事, 野村ホールディングス, JR東日本, KDDI"
   ]
  },
  {
   "cell_type": "code",
   "execution_count": 29,
   "id": "952a2a6a-f0ef-494f-b4fc-4b0e81c4d7f0",
   "metadata": {},
   "outputs": [],
   "source": [
    "#証券データの読み込みに利用するライブラリ\n",
    "import pandas as pd\n",
    "import pandas_datareader.stooq as stooq\n",
    "\n",
    "rates = []\n",
    "#for文で各証券コードについて処理を繰り返していく\n",
    "for sc in stockcodes:  \n",
    "  # f\"{sc}.jp\"で証券を指定して、start,endで始まりと終わりの時期を指定のうえ、.read()読み込みます。その中でも終値だけを知りたいので['Close']としました。\n",
    "  df = stooq.StooqDailyReader(f\"{sc}.jp\", start, end).read()[['Close']]\n",
    "\n",
    "  # pandasのデータフレーム形式で結果を得ることができます。その結果はsort_valuesで日付'Date'で昇順（小さい順）に並べています。\n",
    "  df = df.sort_values(by='Date',ascending=True)\n",
    "  \n",
    "  #前日の終値と今日の終値を比較して、前日比を調べています。\n",
    "  return_rate = np.zeros(len(df.values))\n",
    "  for k in range(len(df.values)-1):\n",
    "    return_rate[k+1] = (df.values[k+1][0] - df.values[k][0])/df.values[k][0]\n",
    "  \n",
    "  rates.append(return_rate)"
   ]
  },
  {
   "cell_type": "markdown",
   "id": "ee2e39ae-7e84-4526-8c67-be70e4bc7e5f",
   "metadata": {},
   "source": [
    "rates tells the benefit ratio for each stock"
   ]
  },
  {
   "cell_type": "code",
   "execution_count": 30,
   "id": "ce37de8c-b041-4fde-a840-c75e690e6cf9",
   "metadata": {},
   "outputs": [],
   "source": [
    "N = len(stockcodes)\n",
    "\n",
    "w = np.zeros(N)\n",
    "for k in range(N):\n",
    "  w[k] = rates[k].mean()"
   ]
  },
  {
   "cell_type": "code",
   "execution_count": 31,
   "id": "6dd69190-2a14-4d91-9b83-716c00c41798",
   "metadata": {},
   "outputs": [],
   "source": [
    "# same flow as previous\n",
    "x = Array.create('x', shape=N, vartype='BINARY')\n",
    "\n",
    "K = N//2\n",
    "constr = (sum(x)-K)**2\n",
    "\n",
    "cost = 0\n",
    "for i in range(N):\n",
    "  cost -= w[i]*x[i]\n",
    "\n",
    "cost_func = cost + Placeholder('a')*Constraint(constr, label='Kconstr')\n",
    "model = cost_func.compile()\n",
    "\n",
    "max_coeff = np.max(abs(w))\n",
    "\n",
    "feed_dict = {'a': 10.0*max_coeff}\n",
    "qubo, offset = model.to_qubo(feed_dict=feed_dict)"
   ]
  },
  {
   "cell_type": "code",
   "execution_count": 32,
   "id": "aa255280-d83c-4e38-b989-755c49f59862",
   "metadata": {},
   "outputs": [
    {
     "name": "stdout",
     "output_type": "stream",
     "text": [
      "[([1, 1, 0, 1, 0, 1, 1, 0, 1, 0], -0.26730983, 1)\n",
      " ([0, 0, 0, 1, 0, 1, 0, 0, 1, 0], -0.23421769, 1)\n",
      " ([1, 1, 0, 1, 0, 1, 0, 0, 0, 0], -0.26801365, 1)\n",
      " ([0, 1, 0, 1, 0, 1, 0, 0, 0, 0], -0.23459363, 1)\n",
      " ([0, 1, 1, 1, 0, 1, 1, 1, 0, 1], -0.23551476, 1)\n",
      " ([0, 1, 1, 1, 1, 1, 0, 0, 1, 1], -0.23642286, 1)\n",
      " ([0, 0, 0, 0, 1, 0, 0, 1, 0, 1], -0.23626762, 1)\n",
      " ([0, 1, 0, 0, 1, 0, 1, 1, 0, 0], -0.26910775, 1)\n",
      " ([1, 1, 0, 0, 0, 1, 0, 1, 0, 1], -0.27994245, 1)\n",
      " ([1, 0, 0, 0, 0, 0, 0, 1, 0, 1], -0.23501929, 1)]\n",
      "Sample(sample={'x[0]': 1, 'x[1]': 1, 'x[2]': 0, 'x[3]': 0, 'x[4]': 0, 'x[5]': 1, 'x[6]': 0, 'x[7]': 1, 'x[8]': 0, 'x[9]': 1}, energy=-0.279942449254305, num_occurrences=1)\n"
     ]
    }
   ],
   "source": [
    "sampleset = sim_sampler.sample_qubo(qubo, num_reads=10)\n",
    "print(sampleset.record)\n",
    "print(sampleset.first)"
   ]
  },
  {
   "cell_type": "markdown",
   "id": "28b15c85-ae0f-498a-a866-108d84cd0dce",
   "metadata": {},
   "source": [
    "### Modern portfolio theory, MPT\n",
    "Even though we obtain pretty good choices from the above prob, real-world scenarios are more complicated than theoretical choices. <br>\n",
    "<span style=\"color:orange\">Variance and Covariance</span> helps to consider the difference from the historical average records. <br>\n",
    "such as the cost function\n",
    "$$\\sum_{i=1}^N \\sum_{j=1}^N W_{ij} x_i x_j$$\n",
    "where $W_{ij}$ is the variance & covariance matrix"
   ]
  },
  {
   "cell_type": "code",
   "execution_count": 33,
   "id": "80861edf-b396-48c5-9687-6d177fddbbd3",
   "metadata": {},
   "outputs": [],
   "source": [
    "cost2 = 0\n",
    "for i in range(N):\n",
    "  for j in range(N):\n",
    "    cost2 = cost2 +x[i]*x[j]*np.sum((rates[i]-w[i])*(rates[j]-w[j]))/len(rates[i])"
   ]
  },
  {
   "cell_type": "code",
   "execution_count": 34,
   "id": "609d42d0-2dc1-4cc2-863b-112b37fcc2b8",
   "metadata": {},
   "outputs": [],
   "source": [
    "cost_func2 = cost2 + Placeholder('a')*Constraint(constr, label='Kconstr')\n",
    "model2 = cost_func2.compile()"
   ]
  },
  {
   "cell_type": "code",
   "execution_count": 35,
   "id": "f32ba14f-0539-4cf4-8159-51f2f58d7c2c",
   "metadata": {},
   "outputs": [],
   "source": [
    "max_coeff = np.max(abs(w))\n",
    "\n",
    "feed_dict = {'a': 10.0*max_coeff}\n",
    "qubo2, offset = model2.to_qubo(feed_dict=feed_dict)"
   ]
  },
  {
   "cell_type": "code",
   "execution_count": 36,
   "id": "bc430fd1-f898-44b5-90b4-03e81d532d68",
   "metadata": {},
   "outputs": [
    {
     "name": "stdout",
     "output_type": "stream",
     "text": [
      "[([0, 1, 0, 1, 1, 0, 1, 1, 1, 0], -0.26319572, 1)\n",
      " ([0, 0, 0, 1, 1, 0, 1, 0, 0, 1], -0.26629055, 1)\n",
      " ([0, 0, 1, 0, 0, 0, 0, 1, 1, 0], -0.23311088, 1)\n",
      " ([0, 1, 1, 0, 1, 0, 1, 0, 1, 0], -0.27589966, 1)\n",
      " ([0, 0, 1, 1, 0, 0, 0, 0, 0, 1], -0.23372303, 1)\n",
      " ([0, 1, 1, 0, 0, 1, 1, 0, 0, 1], -0.27631451, 1)\n",
      " ([0, 1, 1, 1, 1, 0, 0, 0, 0, 0], -0.26622008, 1)\n",
      " ([0, 1, 1, 1, 0, 0, 1, 0, 1, 0], -0.27605692, 1)\n",
      " ([1, 0, 1, 0, 0, 1, 1, 0, 0, 1], -0.27602599, 1)\n",
      " ([0, 1, 0, 0, 0, 1, 1, 1, 1, 0], -0.27547497, 1)]\n",
      "Sample(sample={'x[0]': 0, 'x[1]': 1, 'x[2]': 1, 'x[3]': 0, 'x[4]': 0, 'x[5]': 1, 'x[6]': 1, 'x[7]': 0, 'x[8]': 0, 'x[9]': 1}, energy=-0.27631450884710196, num_occurrences=1)\n"
     ]
    }
   ],
   "source": [
    "sampleset = sim_sampler.sample_qubo(qubo2, num_reads=10)\n",
    "print(sampleset.record)\n",
    "print(sampleset.first)"
   ]
  },
  {
   "cell_type": "markdown",
   "id": "be48bd47-018a-4338-9cda-9c16815934b6",
   "metadata": {},
   "source": [
    "some stocks are still remaining in the list, while some others are changed due to the historical variances"
   ]
  }
 ],
 "metadata": {
  "kernelspec": {
   "display_name": "Python 3",
   "language": "python",
   "name": "python3"
  },
  "language_info": {
   "codemirror_mode": {
    "name": "ipython",
    "version": 3
   },
   "file_extension": ".py",
   "mimetype": "text/x-python",
   "name": "python",
   "nbconvert_exporter": "python",
   "pygments_lexer": "ipython3",
   "version": "3.9.2"
  }
 },
 "nbformat": 4,
 "nbformat_minor": 5
}
