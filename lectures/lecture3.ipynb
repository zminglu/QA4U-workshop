{
 "cells": [
  {
   "cell_type": "markdown",
   "id": "6ed02e31-e479-45a2-8b4f-7b28809a29a5",
   "metadata": {},
   "source": [
    "# QA4U lecture 3"
   ]
  },
  {
   "cell_type": "markdown",
   "id": "5ac8c0e9-0b7b-4e42-8eee-94b483053218",
   "metadata": {},
   "source": [
    "## read csv file"
   ]
  },
  {
   "cell_type": "code",
   "execution_count": 2,
   "id": "05e2e293-99e3-4172-a93b-f52208b2b09f",
   "metadata": {},
   "outputs": [
    {
     "data": {
      "text/html": [
       "<div>\n",
       "<style scoped>\n",
       "    .dataframe tbody tr th:only-of-type {\n",
       "        vertical-align: middle;\n",
       "    }\n",
       "\n",
       "    .dataframe tbody tr th {\n",
       "        vertical-align: top;\n",
       "    }\n",
       "\n",
       "    .dataframe thead th {\n",
       "        text-align: right;\n",
       "    }\n",
       "</style>\n",
       "<table border=\"1\" class=\"dataframe\">\n",
       "  <thead>\n",
       "    <tr style=\"text-align: right;\">\n",
       "      <th></th>\n",
       "      <th>0</th>\n",
       "      <th>1</th>\n",
       "      <th>2</th>\n",
       "      <th>3</th>\n",
       "    </tr>\n",
       "  </thead>\n",
       "  <tbody>\n",
       "    <tr>\n",
       "      <th>0</th>\n",
       "      <td>3.0</td>\n",
       "      <td>3.0</td>\n",
       "      <td>3.0</td>\n",
       "      <td>3.0</td>\n",
       "    </tr>\n",
       "    <tr>\n",
       "      <th>1</th>\n",
       "      <td>2.0</td>\n",
       "      <td>2.0</td>\n",
       "      <td>3.0</td>\n",
       "      <td>3.0</td>\n",
       "    </tr>\n",
       "    <tr>\n",
       "      <th>2</th>\n",
       "      <td>4.0</td>\n",
       "      <td>3.0</td>\n",
       "      <td>4.0</td>\n",
       "      <td>5.0</td>\n",
       "    </tr>\n",
       "    <tr>\n",
       "      <th>3</th>\n",
       "      <td>4.0</td>\n",
       "      <td>3.0</td>\n",
       "      <td>3.0</td>\n",
       "      <td>4.0</td>\n",
       "    </tr>\n",
       "    <tr>\n",
       "      <th>4</th>\n",
       "      <td>3.0</td>\n",
       "      <td>2.0</td>\n",
       "      <td>3.0</td>\n",
       "      <td>6.0</td>\n",
       "    </tr>\n",
       "    <tr>\n",
       "      <th>...</th>\n",
       "      <td>...</td>\n",
       "      <td>...</td>\n",
       "      <td>...</td>\n",
       "      <td>...</td>\n",
       "    </tr>\n",
       "    <tr>\n",
       "      <th>241</th>\n",
       "      <td>2.0</td>\n",
       "      <td>3.0</td>\n",
       "      <td>3.0</td>\n",
       "      <td>4.0</td>\n",
       "    </tr>\n",
       "    <tr>\n",
       "      <th>242</th>\n",
       "      <td>4.0</td>\n",
       "      <td>2.0</td>\n",
       "      <td>3.0</td>\n",
       "      <td>4.0</td>\n",
       "    </tr>\n",
       "    <tr>\n",
       "      <th>243</th>\n",
       "      <td>1.0</td>\n",
       "      <td>1.0</td>\n",
       "      <td>1.0</td>\n",
       "      <td>1.0</td>\n",
       "    </tr>\n",
       "    <tr>\n",
       "      <th>244</th>\n",
       "      <td>4.0</td>\n",
       "      <td>2.0</td>\n",
       "      <td>3.0</td>\n",
       "      <td>3.0</td>\n",
       "    </tr>\n",
       "    <tr>\n",
       "      <th>245</th>\n",
       "      <td>4.0</td>\n",
       "      <td>2.0</td>\n",
       "      <td>5.0</td>\n",
       "      <td>2.0</td>\n",
       "    </tr>\n",
       "  </tbody>\n",
       "</table>\n",
       "<p>246 rows × 4 columns</p>\n",
       "</div>"
      ],
      "text/plain": [
       "       0    1    2    3\n",
       "0    3.0  3.0  3.0  3.0\n",
       "1    2.0  2.0  3.0  3.0\n",
       "2    4.0  3.0  4.0  5.0\n",
       "3    4.0  3.0  3.0  4.0\n",
       "4    3.0  2.0  3.0  6.0\n",
       "..   ...  ...  ...  ...\n",
       "241  2.0  3.0  3.0  4.0\n",
       "242  4.0  2.0  3.0  4.0\n",
       "243  1.0  1.0  1.0  1.0\n",
       "244  4.0  2.0  3.0  3.0\n",
       "245  4.0  2.0  5.0  2.0\n",
       "\n",
       "[246 rows x 4 columns]"
      ]
     },
     "execution_count": 2,
     "metadata": {},
     "output_type": "execute_result"
    }
   ],
   "source": [
    "import pandas as pd\n",
    "df = pd.read_csv('QA4Uafter.csv',header=None)\n",
    "df"
   ]
  },
  {
   "cell_type": "code",
   "execution_count": 3,
   "id": "0666d289-b350-4aed-8861-d8eaffdc4371",
   "metadata": {
    "collapsed": true,
    "jupyter": {
     "outputs_hidden": true
    },
    "tags": []
   },
   "outputs": [
    {
     "name": "stdout",
     "output_type": "stream",
     "text": [
      "[[3 3 3 3]\n",
      " [2 2 3 3]\n",
      " [4 3 4 5]\n",
      " [4 3 3 4]\n",
      " [3 2 3 6]\n",
      " [3 3 3 5]\n",
      " [4 1 3 3]\n",
      " [3 2 2 2]\n",
      " [4 3 3 4]\n",
      " [2 3 3 3]\n",
      " [2 3 4 4]\n",
      " [4 2 2 4]\n",
      " [4 3 5 5]\n",
      " [2 1 2 4]\n",
      " [3 3 3 4]\n",
      " [2 2 3 2]\n",
      " [2 2 3 4]\n",
      " [2 2 3 3]\n",
      " [2 1 1 3]\n",
      " [2 1 3 1]\n",
      " [4 2 4 4]\n",
      " [2 1 3 5]\n",
      " [4 1 5 2]\n",
      " [2 2 3 1]\n",
      " [4 1 2 7]\n",
      " [4 2 3 4]\n",
      " [4 3 3 5]\n",
      " [4 1 3 3]\n",
      " [3 2 3 2]\n",
      " [4 3 3 5]\n",
      " [3 2 1 2]\n",
      " [2 1 3 4]\n",
      " [2 2 3 5]\n",
      " [4 2 2 4]\n",
      " [3 2 3 3]\n",
      " [4 2 2 1]\n",
      " [3 3 2 1]\n",
      " [2 2 3 5]\n",
      " [4 1 2 1]\n",
      " [4 3 3 3]\n",
      " [3 3 3 5]\n",
      " [3 1 3 5]\n",
      " [4 3 3 1]\n",
      " [1 2 1 4]\n",
      " [2 1 1 3]\n",
      " [4 1 3 1]\n",
      " [4 3 3 3]\n",
      " [4 3 3 4]\n",
      " [1 1 3 2]\n",
      " [2 1 2 1]\n",
      " [2 3 2 4]\n",
      " [4 2 2 1]\n",
      " [4 2 3 3]\n",
      " [2 1 2 5]\n",
      " [4 3 3 1]\n",
      " [4 1 2 4]\n",
      " [2 2 2 2]\n",
      " [4 3 3 1]\n",
      " [2 2 3 1]\n",
      " [2 2 3 4]\n",
      " [4 3 3 1]\n",
      " [3 2 3 5]\n",
      " [2 1 4 1]\n",
      " [4 2 5 2]\n",
      " [2 2 1 3]\n",
      " [4 3 3 1]\n",
      " [4 2 2 2]\n",
      " [2 1 2 5]\n",
      " [4 2 3 3]\n",
      " [2 2 3 5]\n",
      " [2 2 3 1]\n",
      " [4 3 5 3]\n",
      " [4 2 3 2]\n",
      " [2 2 3 3]\n",
      " [4 3 1 1]\n",
      " [4 3 3 3]\n",
      " [4 3 5 4]\n",
      " [3 3 2 2]\n",
      " [3 3 3 5]\n",
      " [4 3 2 1]\n",
      " [4 3 3 5]\n",
      " [2 2 1 2]\n",
      " [3 3 3 3]\n",
      " [2 1 2 3]\n",
      " [2 1 2 5]\n",
      " [3 3 2 1]\n",
      " [1 1 3 5]\n",
      " [4 2 2 2]\n",
      " [4 3 3 3]\n",
      " [4 2 2 4]\n",
      " [1 1 3 4]\n",
      " [4 3 3 4]\n",
      " [4 3 5 1]\n",
      " [1 1 3 5]\n",
      " [1 2 2 4]\n",
      " [1 1 3 5]\n",
      " [4 1 3 3]\n",
      " [2 3 3 5]\n",
      " [4 2 2 4]\n",
      " [4 2 2 4]\n",
      " [4 1 4 1]\n",
      " [4 3 3 5]\n",
      " [2 1 3 5]\n",
      " [1 1 4 4]\n",
      " [2 1 3 5]\n",
      " [4 3 2 1]\n",
      " [4 3 3 4]\n",
      " [4 3 5 1]\n",
      " [1 1 2 3]\n",
      " [1 1 2 3]\n",
      " [4 2 4 1]\n",
      " [2 2 3 2]\n",
      " [4 3 3 4]\n",
      " [4 1 1 3]\n",
      " [2 2 3 3]\n",
      " [3 3 3 4]\n",
      " [4 3 5 5]\n",
      " [4 3 3 7]\n",
      " [4 3 2 2]\n",
      " [4 3 3 3]\n",
      " [4 2 2 3]\n",
      " [4 3 3 3]\n",
      " [4 1 2 1]\n",
      " [1 1 1 5]\n",
      " [2 3 3 3]\n",
      " [1 1 4 1]\n",
      " [1 1 1 1]\n",
      " [3 2 3 1]\n",
      " [3 3 3 3]\n",
      " [3 3 3 2]\n",
      " [1 3 3 4]\n",
      " [2 2 3 5]\n",
      " [2 1 2 4]\n",
      " [4 3 5 1]\n",
      " [3 1 3 1]\n",
      " [4 1 3 5]\n",
      " [4 3 5 1]\n",
      " [2 2 2 5]\n",
      " [4 3 5 3]\n",
      " [4 3 2 3]\n",
      " [3 3 2 1]\n",
      " [1 1 3 5]\n",
      " [4 3 2 2]\n",
      " [1 1 3 5]\n",
      " [4 3 3 4]\n",
      " [4 3 3 2]\n",
      " [4 2 3 1]\n",
      " [1 1 4 5]\n",
      " [4 2 5 3]\n",
      " [4 3 3 5]\n",
      " [2 2 3 3]\n",
      " [3 1 5 5]\n",
      " [4 3 2 1]\n",
      " [4 3 5 4]\n",
      " [1 1 2 4]\n",
      " [4 3 3 4]\n",
      " [2 2 4 5]\n",
      " [4 3 3 4]\n",
      " [4 3 3 2]\n",
      " [4 3 5 4]\n",
      " [4 1 2 1]\n",
      " [4 3 2 3]\n",
      " [4 1 2 1]\n",
      " [4 3 3 5]\n",
      " [4 3 3 1]\n",
      " [4 3 3 5]\n",
      " [3 3 3 1]\n",
      " [3 2 2 2]\n",
      " [4 1 2 3]\n",
      " [4 3 5 1]\n",
      " [4 1 2 3]\n",
      " [2 2 3 1]\n",
      " [2 2 2 3]\n",
      " [4 1 5 3]\n",
      " [2 1 2 2]\n",
      " [4 3 5 5]\n",
      " [4 1 1 3]\n",
      " [4 3 3 4]\n",
      " [4 3 3 3]\n",
      " [2 2 3 5]\n",
      " [4 2 5 4]\n",
      " [4 2 2 3]\n",
      " [3 1 3 4]\n",
      " [4 3 3 2]\n",
      " [4 3 2 1]\n",
      " [4 3 3 4]\n",
      " [2 2 2 3]\n",
      " [2 1 4 3]\n",
      " [4 1 2 1]\n",
      " [4 3 3 3]\n",
      " [4 3 4 3]\n",
      " [2 2 3 3]\n",
      " [3 3 5 1]\n",
      " [1 1 3 3]\n",
      " [3 3 3 3]\n",
      " [2 1 3 3]\n",
      " [4 2 3 5]\n",
      " [4 2 1 3]\n",
      " [1 1 2 5]\n",
      " [4 3 4 1]\n",
      " [2 2 3 3]\n",
      " [1 1 3 6]\n",
      " [4 3 3 6]\n",
      " [4 3 3 5]\n",
      " [2 1 2 2]\n",
      " [4 3 3 5]\n",
      " [4 3 3 5]\n",
      " [4 3 3 2]\n",
      " [4 3 3 3]\n",
      " [1 1 3 2]\n",
      " [2 1 3 5]\n",
      " [3 2 3 1]\n",
      " [4 3 3 3]\n",
      " [1 1 4 6]\n",
      " [2 2 3 3]\n",
      " [2 1 3 4]\n",
      " [4 3 5 5]\n",
      " [2 1 4 4]\n",
      " [1 2 1 4]\n",
      " [4 3 3 4]\n",
      " [4 2 5 1]\n",
      " [4 3 3 5]\n",
      " [1 3 3 4]\n",
      " [4 2 4 3]\n",
      " [4 1 5 3]\n",
      " [4 1 3 5]\n",
      " [4 1 3 5]\n",
      " [1 1 3 3]\n",
      " [1 1 4 3]\n",
      " [3 3 3 2]\n",
      " [1 1 4 3]\n",
      " [4 2 3 4]\n",
      " [4 3 3 6]\n",
      " [1 1 4 1]\n",
      " [1 2 3 5]\n",
      " [3 1 2 2]\n",
      " [2 2 3 5]\n",
      " [4 2 2 4]\n",
      " [1 1 3 5]\n",
      " [4 1 3 5]\n",
      " [3 3 3 5]\n",
      " [2 3 3 4]\n",
      " [4 2 3 4]\n",
      " [1 1 1 1]\n",
      " [4 2 3 3]\n",
      " [4 2 5 2]]\n"
     ]
    }
   ],
   "source": [
    "# convert into np format\n",
    "import numpy as np\n",
    "V = df.values.astype(np.int8)\n",
    "print(V)"
   ]
  },
  {
   "cell_type": "code",
   "execution_count": 4,
   "id": "ec8f8c82-f1ad-44c3-aeb3-9e123db60871",
   "metadata": {},
   "outputs": [
    {
     "name": "stdout",
     "output_type": "stream",
     "text": [
      "246 4\n"
     ]
    }
   ],
   "source": [
    "# check size\n",
    "N,M = V.shape\n",
    "print(N,M)"
   ]
  },
  {
   "cell_type": "markdown",
   "id": "cffe5b87-623e-4303-9cd9-62c77bcb0d7e",
   "metadata": {},
   "source": [
    "## one-hot format "
   ]
  },
  {
   "cell_type": "code",
   "execution_count": 5,
   "id": "2b9ff121-afac-4a2b-849f-032b4eed2543",
   "metadata": {},
   "outputs": [],
   "source": [
    "def onehot(data):\n",
    "  z = np.zeros(4+3+5+7)\n",
    "  z[data[0]-1] = 1\n",
    "  z[4+data[1]-1] = 1\n",
    "  z[4+3+data[2]-1] = 1\n",
    "  z[4+3+5+data[3]-1] = 1\n",
    "  return z"
   ]
  },
  {
   "cell_type": "code",
   "execution_count": 6,
   "id": "95d2538c-1901-43a3-81f3-5b8078df3100",
   "metadata": {},
   "outputs": [],
   "source": [
    "# reshape raw-data\n",
    "M = 4+3+5+7\n",
    "Z = np.zeros(N*M).reshape(N,M)\n",
    "\n",
    "for i in range(N):\n",
    "  Z[i,:] = onehot(V[i,:])"
   ]
  },
  {
   "cell_type": "code",
   "execution_count": 7,
   "id": "706e9178-0ad9-4673-a675-901d987cc951",
   "metadata": {},
   "outputs": [
    {
     "data": {
      "text/plain": [
       "2.0"
      ]
     },
     "execution_count": 7,
     "metadata": {},
     "output_type": "execute_result"
    }
   ],
   "source": [
    "# check the similarity of two data points\n",
    "np.dot(Z[0,:], Z[1,:])"
   ]
  },
  {
   "cell_type": "markdown",
   "id": "732999e3-aa80-41c4-bffc-88cf5a451a1e",
   "metadata": {},
   "source": [
    "## two index inotations\n",
    "\n",
    "To make our assumption more closer to the real world, we can consider not only which objects to be carried, but also who should carry, such as the following table\n",
    "\n",
    "|$x_{ik}$  | Aさん | Bさん | Cさん | Dさん | Eさん |\n",
    "|--:|------|------|------|------|------|\n",
    "| 荷物A |      | 1    |      |      |      |\n",
    "| 荷物B | 1    |      |      |      |      |\n",
    "| 荷物C |      |      | 1    |      |      |\n",
    "| 荷物D |      |      |      |      | 1    |\n",
    "| 荷物E |      |      |      | 1    |      |"
   ]
  },
  {
   "cell_type": "markdown",
   "id": "2cf830e8-35f1-4d0b-9f92-635a6163b2d2",
   "metadata": {},
   "source": [
    "similar to the above idea, we can decide which person should belong to which group\n",
    "\n",
    "|$x_{ik}$  | Aさん | Bさん | Cさん | Dさん | Eさん |\n",
    "|--:|------|------|------|------|------|\n",
    "| グループ１ |      | 1    |      |      |      |\n",
    "| グループ2 | 1    |      |      |      |      |\n",
    "| グループ3 |      |      | 1    |      |      |\n",
    "| グループ4 |      |      |      |      | 1    |\n",
    "| グループ5 |      |      |      | 1    |      |\n",
    "\n",
    "the constraint is that, one person can only belong to one group\n",
    "$$\\sum_{k=1}^{K} x_{ik} = 1$$\n",
    "\n",
    "the cost function based on penalty can be established as\n",
    "$$\\lambda \\sum_{i=1}^{N} \\left( \\sum_{k=1}^{K} x_{ik} - 1 \\right)^2$$"
   ]
  },
  {
   "cell_type": "markdown",
   "id": "57ae0ea7-0b14-4cd6-9de8-4cbb9d485212",
   "metadata": {},
   "source": [
    "## cost function\n",
    "Over all, our purpose for this grouping (clustering) is to ensure the variaty of each group.<br>\n",
    "In other words, we want to min the similarity in each group, so that\n",
    "$$E({\\bf x}) = \\sum_{k=1}^{K} \\sum_{i \\neq j} \\left( \\sum_{m}Z_{i,m}Z_{j,m} \\right) x_{i,k}x_{j,k} + \\lambda_1 \\sum_{i=1}^{N} \\left( \\sum_{k=1}^{K} x_{ik} - 1 \\right)^2$$\n",
    "where $Z_{ij}$ is the one-hot similarity"
   ]
  },
  {
   "cell_type": "code",
   "execution_count": 8,
   "id": "4c8a5305-69f6-4233-9be1-1b1c24b7dd12",
   "metadata": {},
   "outputs": [],
   "source": [
    "from pyqubo import Array\n",
    "K = 41\n",
    "# バイナリ変数\n",
    "x = Array.create(name='x', shape=(N,K), vartype='BINARY')"
   ]
  },
  {
   "cell_type": "code",
   "execution_count": 9,
   "id": "a120b6d9-f2cd-4e13-93fa-152b6996335e",
   "metadata": {},
   "outputs": [],
   "source": [
    "# compute Z in advance\n",
    "Zmat = np.dot(Z,Z.T)"
   ]
  },
  {
   "cell_type": "markdown",
   "id": "6ebd44bc-ad81-48c1-b131-cc92f6ddc176",
   "metadata": {},
   "source": [
    "QUBO can be established from cost function\n",
    "$$\\lambda_1 \\sum_{i=1}^{N} \\left( \\sum_{k=1}^{K} x_{ik} - 1 \\right)^2 = \\lambda_1 \\sum_{i=1}^{N} \\left( \\sum_{k=1}^{K} x_{ik} - 1 \\right)\\left( \\sum_{l=1}^{K} x_{il} - 1 \\right) = \n",
    "\\lambda_1 \\sum_{i=1}^{N}\\sum_{k=1}^{K} \\sum_{l=1}^{K} x_{ik} x_{il}  - 2 \\lambda_1 \\sum_{i=1}^{N}\\sum_{k=1}^{K} x_{ik} + \\lambda_1 N$$"
   ]
  },
  {
   "cell_type": "code",
   "execution_count": 10,
   "id": "4ba0f337-3449-4188-b049-0a7331dcedb6",
   "metadata": {},
   "outputs": [],
   "source": [
    "# only the second item\n",
    "lam1 = 20.0\n",
    "K = 41\n",
    "\n",
    "QUBO = {}\n",
    "for i in range(N):\n",
    "  for k in range(K):\n",
    "    for l in range(K):\n",
    "      QUBO[(i+k*N,i+l*N)] = lam1\n",
    "      if k == l:\n",
    "        QUBO[(i+k*N,i+l*N)] = QUBO[(i+k*N,i+l*N)] - 2*lam1"
   ]
  },
  {
   "cell_type": "code",
   "execution_count": 11,
   "id": "b7816e48-6096-49f6-a0bf-eca921bc3f90",
   "metadata": {},
   "outputs": [],
   "source": [
    "# add the first item\n",
    "for k in range(K):\n",
    "  for i in range(N):\n",
    "    for j in range(N):\n",
    "      if i != j:\n",
    "        if (i+k*N,j+k*N) not in QUBO.keys():\n",
    "          QUBO[(i+k*N,j+k*N)] = Zmat[i,j]\n",
    "        else:\n",
    "          QUBO[(i+k*N,j+k*N)] = QUBO[(i+k*N,j+k*N)] + Zmat[i,j]"
   ]
  },
  {
   "cell_type": "markdown",
   "id": "10f8ff7b-d8e9-42b7-9a00-33304bce1ef9",
   "metadata": {},
   "source": [
    "QA time"
   ]
  },
  {
   "cell_type": "code",
   "execution_count": 15,
   "id": "8daefdb6-d1a1-44d7-92d2-5b2d625f1a99",
   "metadata": {
    "tags": []
   },
   "outputs": [],
   "source": [
    "from openjij import SQASampler\n",
    "sim_sampler = SQASampler()\n",
    "\n",
    "# wait for a little bit long time due to large prob size\n",
    "sampleset = sim_sampler.sample_qubo(QUBO)\n",
    "# print(sampleset.record)\n",
    "# print(sampleset.first)"
   ]
  },
  {
   "cell_type": "code",
   "execution_count": 17,
   "id": "42e42716-956c-4bda-9ea9-e46e3a06408f",
   "metadata": {},
   "outputs": [
    {
     "data": {
      "text/plain": [
       "array([0, 0, 1, 2, 2, 3, 0, 3, 0, 0, 1, 3, 3, 0, 1, 1, 1, 0, 3, 0, 1, 0,\n",
       "       1, 1, 1, 2, 1, 0, 1, 2, 2, 0, 0, 1, 2, 1, 1, 1, 2, 2, 1, 0, 1, 0,\n",
       "       0, 2, 1, 1, 1, 1, 0, 1, 1, 1, 0, 0, 4, 0, 1, 1, 0, 1, 3, 2, 1, 0,\n",
       "       1, 2, 1, 0, 1, 1, 2, 0, 0, 3, 2, 1, 1, 0, 2, 0, 1, 2, 1, 0, 2, 0,\n",
       "       1, 1, 0, 2, 0, 0, 1, 2, 1, 0, 0, 3, 2, 0, 1, 1, 1, 1, 1, 1, 1, 0,\n",
       "       2, 0, 2, 1, 1, 1, 0, 2, 0, 3, 1, 1, 0, 1, 1, 1, 1, 0, 1, 2, 2, 0,\n",
       "       1, 2, 2, 1, 1, 0, 2, 1, 1, 0, 1, 0, 2, 2, 0, 0, 1, 0, 2, 1, 1, 1,\n",
       "       1, 1, 1, 1, 0, 1, 1, 2, 2, 0, 0, 2, 0, 1, 1, 3, 1, 1, 0, 0, 0, 2,\n",
       "       0, 1, 2, 1, 0, 0, 0, 2, 2, 1, 0, 2, 1, 2, 0, 0, 1, 2, 2, 0, 1, 0,\n",
       "       0, 1, 2, 0, 0, 1, 1, 0, 0, 1, 1, 1, 1, 3, 3, 1, 0, 0, 2, 0, 2, 0,\n",
       "       1, 1, 1, 1, 1, 2, 0, 1, 0, 1, 1, 1, 0, 3, 0, 1, 2, 1, 1, 2, 1, 3,\n",
       "       0, 1, 1, 0])"
      ]
     },
     "execution_count": 17,
     "metadata": {},
     "output_type": "execute_result"
    }
   ],
   "source": [
    "# check whether the res satisfies constraints\n",
    "# 1: satisfied, others: no\n",
    "ans = sampleset.record[0][0].reshape(N,K)\n",
    "np.sum(ans,axis=1)"
   ]
  },
  {
   "cell_type": "code",
   "execution_count": 18,
   "id": "37af5327-7d75-446c-baf1-74f8adff6f1f",
   "metadata": {},
   "outputs": [
    {
     "data": {
      "text/plain": [
       "array([6, 6, 6, 6, 6, 6, 6, 6, 6, 6, 6, 6, 6, 6, 6, 6, 6, 6, 6, 6, 6, 6,\n",
       "       6, 6, 6, 6, 6, 6, 6, 6, 6, 6, 6, 6, 6, 6, 6, 6, 6, 6, 6])"
      ]
     },
     "execution_count": 18,
     "metadata": {},
     "output_type": "execute_result"
    }
   ],
   "source": [
    "# check how many people in a group\n",
    "np.sum(ans,axis=0)"
   ]
  },
  {
   "cell_type": "markdown",
   "id": "bcbcb857-2d10-47fd-a23d-7ecca251919d",
   "metadata": {},
   "source": [
    "### add num(member) constraint to the cost function\n",
    "lets assume we want just 6 people in a group\n",
    "$$\\sum_{i=1}^N x_{ik} = 6$$\n",
    "to use penalty method, we can say\n",
    "$$\\lambda_2 \\sum_{k=1}^K \\left( \\sum_{i=1}^N x_{ik} - 6 \\right)^2$$"
   ]
  },
  {
   "cell_type": "markdown",
   "id": "761d8a7e-0e54-43a8-80b3-b123bd75aff4",
   "metadata": {},
   "source": [
    "rearrange the equation, we can get\n",
    "\\begin{equation}\n",
    "\\lambda_2 \\sum_{k=1}^K \\left( \\sum_{i=1}^N x_{ik} - 6 \\right)^2 = \\lambda_2 \\sum_{k=1}^K \\left( \\sum_{i=1}^N x_{ik} - 6 \\right)\\left( \\sum_{j=1}^N x_{jk} - 6 \\right)\n",
    "\\end{equation}\n",
    "\\begin{equation}\n",
    "= \n",
    "\\lambda_2 \\sum_{k=1}^K \\sum_{i=1}^N \\sum_{j=1}^N x_{ik}x_{jk} - 12\\lambda_2 \\sum_{i=1}^N x_{ik} + 36 \\lambda_2 K\n",
    "\\end{equation}"
   ]
  },
  {
   "cell_type": "code",
   "execution_count": 19,
   "id": "fe872092-e2cf-4633-95a7-ffa17c2cc8e5",
   "metadata": {},
   "outputs": [],
   "source": [
    "# add the new item to QUBO\n",
    "lam2 = 3.0\n",
    "for k in range(K):\n",
    "  for i in range(N):\n",
    "    for j in range(N):\n",
    "      QUBO[(i+k*N,j+k*N)] = QUBO[(i+k*N,j+k*N)] + lam2\n",
    "      if i == j:\n",
    "        QUBO[(i+k*N,j+k*N)] = QUBO[(i+k*N,j+k*N)] - 2*6*lam2"
   ]
  },
  {
   "cell_type": "code",
   "execution_count": 24,
   "id": "e28e3b4c-1a59-4663-97e1-10691fcac488",
   "metadata": {},
   "outputs": [
    {
     "data": {
      "text/plain": [
       "array([3, 0, 2, 0, 0, 1, 0, 0, 1, 1, 1, 2, 2, 3, 1, 0, 0, 1, 1, 2, 2, 1,\n",
       "       0, 0, 0, 1, 0, 2, 1, 1, 2, 0, 1, 1, 2, 0, 0, 1, 1, 2, 0, 1, 2, 1,\n",
       "       0, 1, 0, 2, 3, 1, 1, 0, 1, 0, 1, 2, 3, 0, 0, 0, 0, 1, 2, 0, 1, 2,\n",
       "       1, 2, 0, 1, 0, 2, 2, 0, 0, 0, 2, 2, 0, 1, 0, 0, 4, 0, 2, 1, 0, 1,\n",
       "       1, 0, 1, 2, 0, 1, 1, 1, 1, 0, 1, 0, 3, 1, 0, 0, 2, 3, 1, 0, 1, 0,\n",
       "       2, 0, 2, 1, 4, 1, 0, 0, 1, 1, 1, 1, 0, 2, 0, 2, 1, 1, 0, 1, 2, 1,\n",
       "       0, 1, 2, 0, 0, 2, 1, 0, 0, 3, 1, 2, 1, 1, 2, 1, 1, 0, 0, 3, 0, 0,\n",
       "       3, 1, 0, 2, 2, 0, 2, 0, 1, 0, 2, 1, 1, 1, 0, 0, 1, 2, 2, 1, 0, 0,\n",
       "       2, 1, 1, 2, 1, 0, 1, 3, 0, 1, 0, 4, 1, 0, 1, 0, 2, 2, 0, 1, 1, 0,\n",
       "       0, 0, 1, 2, 0, 3, 1, 0, 0, 3, 1, 1, 1, 0, 2, 0, 2, 2, 1, 2, 0, 2,\n",
       "       0, 1, 0, 4, 1, 1, 0, 0, 1, 0, 3, 0, 0, 2, 2, 1, 1, 1, 1, 1, 1, 0,\n",
       "       1, 2, 1, 0])"
      ]
     },
     "execution_count": 24,
     "metadata": {},
     "output_type": "execute_result"
    }
   ],
   "source": [
    "# check res\n",
    "sampleset = sim_sampler.sample_qubo(QUBO)\n",
    "ans = sampleset.record[0][0].reshape(N,K)\n",
    "np.sum(ans,axis=1)"
   ]
  },
  {
   "cell_type": "code",
   "execution_count": 25,
   "id": "e26e3d53-6181-4eb6-af1b-5f6c52f84ee1",
   "metadata": {},
   "outputs": [
    {
     "data": {
      "text/plain": [
       "array([6, 6, 6, 6, 6, 6, 6, 6, 6, 6, 6, 6, 6, 6, 6, 6, 6, 6, 6, 6, 6, 5,\n",
       "       6, 6, 6, 6, 6, 6, 6, 6, 6, 6, 6, 6, 6, 6, 6, 6, 6, 6, 6])"
      ]
     },
     "execution_count": 25,
     "metadata": {},
     "output_type": "execute_result"
    }
   ],
   "source": [
    "# check how many people in a group\n",
    "np.sum(ans,axis=0)"
   ]
  },
  {
   "cell_type": "code",
   "execution_count": 27,
   "id": "145ae3b3-e194-4932-8a77-08cb5940e849",
   "metadata": {
    "collapsed": true,
    "jupyter": {
     "outputs_hidden": true
    },
    "tags": []
   },
   "outputs": [
    {
     "name": "stdout",
     "output_type": "stream",
     "text": [
      "0 : 6\n"
     ]
    },
    {
     "ename": "IndexError",
     "evalue": "index 0 is out of bounds for axis 0 with size 0",
     "output_type": "error",
     "traceback": [
      "\u001b[0;31m---------------------------------------------------------------------------\u001b[0m",
      "\u001b[0;31mIndexError\u001b[0m                                Traceback (most recent call last)",
      "\u001b[0;32m<ipython-input-27-b0d02f68ad08>\u001b[0m in \u001b[0;36m<module>\u001b[0;34m\u001b[0m\n\u001b[1;32m      4\u001b[0m \u001b[0mgroup_num\u001b[0m \u001b[0;34m=\u001b[0m \u001b[0mnp\u001b[0m\u001b[0;34m.\u001b[0m\u001b[0mzeros\u001b[0m\u001b[0;34m(\u001b[0m\u001b[0mN\u001b[0m\u001b[0;34m)\u001b[0m\u001b[0;34m\u001b[0m\u001b[0;34m\u001b[0m\u001b[0m\n\u001b[1;32m      5\u001b[0m \u001b[0;32mfor\u001b[0m \u001b[0mi\u001b[0m \u001b[0;32min\u001b[0m \u001b[0mrange\u001b[0m\u001b[0;34m(\u001b[0m\u001b[0mN\u001b[0m\u001b[0;34m)\u001b[0m\u001b[0;34m:\u001b[0m\u001b[0;34m\u001b[0m\u001b[0;34m\u001b[0m\u001b[0m\n\u001b[0;32m----> 6\u001b[0;31m   \u001b[0mtemp\u001b[0m \u001b[0;34m=\u001b[0m \u001b[0mnp\u001b[0m\u001b[0;34m.\u001b[0m\u001b[0mwhere\u001b[0m\u001b[0;34m(\u001b[0m\u001b[0mans\u001b[0m\u001b[0;34m[\u001b[0m\u001b[0mi\u001b[0m\u001b[0;34m,\u001b[0m\u001b[0;34m:\u001b[0m\u001b[0;34m]\u001b[0m\u001b[0;34m==\u001b[0m\u001b[0;36m1\u001b[0m\u001b[0;34m)\u001b[0m\u001b[0;34m[\u001b[0m\u001b[0;36m0\u001b[0m\u001b[0;34m]\u001b[0m\u001b[0;34m[\u001b[0m\u001b[0;36m0\u001b[0m\u001b[0;34m]\u001b[0m\u001b[0;34m\u001b[0m\u001b[0;34m\u001b[0m\u001b[0m\n\u001b[0m\u001b[1;32m      7\u001b[0m   \u001b[0mgroup_num\u001b[0m\u001b[0;34m[\u001b[0m\u001b[0mi\u001b[0m\u001b[0;34m]\u001b[0m \u001b[0;34m=\u001b[0m \u001b[0mtemp\u001b[0m\u001b[0;34m\u001b[0m\u001b[0;34m\u001b[0m\u001b[0m\n\u001b[1;32m      8\u001b[0m   \u001b[0mprint\u001b[0m\u001b[0;34m(\u001b[0m\u001b[0;34m\"{0} : {1}\"\u001b[0m\u001b[0;34m.\u001b[0m\u001b[0mformat\u001b[0m\u001b[0;34m(\u001b[0m\u001b[0mi\u001b[0m\u001b[0;34m,\u001b[0m\u001b[0mtemp\u001b[0m\u001b[0;34m)\u001b[0m\u001b[0;34m)\u001b[0m\u001b[0;34m\u001b[0m\u001b[0;34m\u001b[0m\u001b[0m\n",
      "\u001b[0;31mIndexError\u001b[0m: index 0 is out of bounds for axis 0 with size 0"
     ]
    }
   ],
   "source": [
    "# check who is in which group\n",
    "## will get error if ans does not fully satisfied our defined constraints\n",
    "\n",
    "group_num = np.zeros(N)\n",
    "for i in range(N):\n",
    "  temp = np.where(ans[i,:]==1)[0][0]\n",
    "  group_num[i] = temp\n",
    "  print(\"{0} : {1}\".format(i,temp))"
   ]
  }
 ],
 "metadata": {
  "kernelspec": {
   "display_name": "Python 3",
   "language": "python",
   "name": "python3"
  },
  "language_info": {
   "codemirror_mode": {
    "name": "ipython",
    "version": 3
   },
   "file_extension": ".py",
   "mimetype": "text/x-python",
   "name": "python",
   "nbconvert_exporter": "python",
   "pygments_lexer": "ipython3",
   "version": "3.9.2"
  }
 },
 "nbformat": 4,
 "nbformat_minor": 5
}
