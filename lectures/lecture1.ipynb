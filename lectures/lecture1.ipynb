{
 "cells": [
  {
   "cell_type": "markdown",
   "id": "118c8224-9488-40d9-9051-49644e1abaad",
   "metadata": {},
   "source": [
    "# QA4U lecture 1"
   ]
  },
  {
   "cell_type": "markdown",
   "id": "a2d10335-04e4-4db3-918e-b853267c3d21",
   "metadata": {},
   "source": [
    "## what is Quantum Annealing\n",
    "- QA is mainly used to solve combinatorial optimization problem\n",
    "- via min or max a cost function\n",
    "\\begin{equation}\n",
    "E({\\bf x})  = \\sum_{i=1}^{N} \\sum_{j=1}^N Q_{ij} x_i x_j\n",
    "\\end{equation}\n",
    "- where, $x$ is a binary value whose value is either 1 or 0, $Q_{ij}$ is called QUBO matrix "
   ]
  },
  {
   "cell_type": "markdown",
   "id": "b8f9176f-544f-4d56-a9dd-60ae63059fd7",
   "metadata": {},
   "source": [
    "## import libs"
   ]
  },
  {
   "cell_type": "code",
   "execution_count": null,
   "id": "8d584b2d-d389-42c0-8269-80e63e7ee9d2",
   "metadata": {},
   "outputs": [],
   "source": [
    "# if use d-wave system\n",
    "\n",
    "token = '**'  # 個人のAPI tokenを使用\n",
    "endpoint = 'https://cloud.dwavesys.com/sapi/'\n",
    "from dwave.system import DWaveSampler, EmbeddingComposite\n",
    "dw_sampler = DWaveSampler(solver='Advantage_system1.1', token=token, endpoint=endpoint)"
   ]
  },
  {
   "cell_type": "code",
   "execution_count": 4,
   "id": "edc9d279-5217-47b2-b5e8-17a8eb639d20",
   "metadata": {},
   "outputs": [],
   "source": [
    "# if use simulator\n",
    "from openjij import SQASampler\n",
    "sim_sampler = SQASampler()"
   ]
  },
  {
   "cell_type": "markdown",
   "id": "7f4a2186-2bc1-4da7-b830-9c908468a236",
   "metadata": {},
   "source": [
    "## solve toy prob"
   ]
  },
  {
   "cell_type": "markdown",
   "id": "6178b4ab-940a-4a38-b1eb-2695d8b1ba0b",
   "metadata": {},
   "source": [
    "### prepare QUBO"
   ]
  },
  {
   "cell_type": "code",
   "execution_count": 3,
   "id": "517c448f-85c6-4f4f-a765-b9c58a7333a3",
   "metadata": {},
   "outputs": [
    {
     "data": {
      "text/plain": [
       "array([[ 0.16734782,  0.49710675,  0.59576211,  0.95632364,  0.60215142,\n",
       "        -1.26980187,  0.33279204,  0.8441375 , -2.12949381,  0.92841653],\n",
       "       [-0.89566762,  0.0988476 ,  0.49508946, -2.15349117,  0.29853521,\n",
       "        -0.40013505, -1.07104299, -0.11723346,  1.53785054, -1.80130759],\n",
       "       [ 0.5016219 ,  0.03476166,  0.2727773 , -0.12644682, -1.04279514,\n",
       "        -1.15847408,  0.52075912,  0.22679035, -0.48904818,  1.6068664 ],\n",
       "       [-0.0880333 ,  0.12135502, -0.30288433,  1.15921598, -0.79015184,\n",
       "        -1.19638479, -0.18916064, -0.40107717,  0.72556785, -0.10215349],\n",
       "       [ 0.36910011,  0.07665527,  1.19220491, -1.31071732, -0.78039642,\n",
       "         0.06382301,  0.83891665, -2.09700236,  1.71045874,  0.78427488],\n",
       "       [ 1.83791438, -0.02414485,  2.53737923, -0.20210626,  0.0882964 ,\n",
       "        -0.48853465, -0.40063011,  0.31897304, -1.01572602, -0.98791084],\n",
       "       [ 1.35375925, -1.08227533,  0.05886835,  0.11621282,  0.16101261,\n",
       "         0.6826371 , -1.31955956, -2.20491373,  0.44723847,  0.22455807],\n",
       "       [ 0.82491192, -0.57615515, -0.52258415, -0.92016819, -0.10384277,\n",
       "         0.58496276, -0.76194446, -0.33183585,  1.03210418,  0.31240586],\n",
       "       [-1.19739566, -0.1593949 , -1.54768173,  1.37431961, -0.23357438,\n",
       "         2.0246763 ,  1.02596257, -0.03226959,  0.929555  , -0.76776156],\n",
       "       [-0.99744567,  1.0753945 , -0.93498698, -0.16305194, -0.59822199,\n",
       "        -0.83883238, -1.61853113, -0.03555425, -0.45908942,  1.73767066]])"
      ]
     },
     "execution_count": 3,
     "metadata": {},
     "output_type": "execute_result"
    }
   ],
   "source": [
    "import numpy as np\n",
    "\n",
    "# random number\n",
    "N = 10\n",
    "QUBO = np.random.randn(N**2).reshape(N,N)\n",
    "QUBO"
   ]
  },
  {
   "cell_type": "markdown",
   "id": "c777343d-ea8d-45ca-a84e-012ae7861647",
   "metadata": {},
   "source": [
    "### solve prob"
   ]
  },
  {
   "cell_type": "code",
   "execution_count": null,
   "id": "ee192cf3-4108-430d-a7c4-79afd203b8ac",
   "metadata": {},
   "outputs": [],
   "source": [
    "# if use d-wave\n",
    "sampler = EmbeddingComposite(dw_sampler)\n",
    "sampleset = sampler.sample_qubo(QUBO, num_reads=10)\n",
    "sampleset.record"
   ]
  },
  {
   "cell_type": "code",
   "execution_count": 16,
   "id": "c0d5bdf4-9d7b-4c12-bcd9-c52b2481bae2",
   "metadata": {},
   "outputs": [
    {
     "name": "stdout",
     "output_type": "stream",
     "text": [
      "[([0, 1, 0, 1, 1, 1, 1, 1, 0, 1], -16.32472029, 1)\n",
      " ([0, 1, 0, 1, 1, 1, 1, 1, 0, 1], -16.32472029, 1)\n",
      " ([0, 1, 0, 1, 1, 1, 1, 1, 0, 1], -16.32472029, 1)\n",
      " ([0, 1, 0, 1, 1, 1, 1, 1, 0, 1], -16.32472029, 1)\n",
      " ([0, 1, 0, 1, 1, 1, 1, 1, 0, 1], -16.32472029, 1)\n",
      " ([0, 1, 0, 1, 1, 1, 1, 1, 0, 1], -16.32472029, 1)\n",
      " ([0, 1, 0, 1, 1, 1, 1, 1, 0, 1], -16.32472029, 1)\n",
      " ([0, 1, 0, 1, 1, 1, 1, 1, 0, 1], -16.32472029, 1)\n",
      " ([0, 1, 0, 1, 1, 1, 1, 1, 0, 1], -16.32472029, 1)\n",
      " ([0, 1, 0, 1, 1, 1, 1, 1, 0, 1], -16.32472029, 1)]\n",
      "Sample(sample={0: 0, 1: 1, 2: 0, 3: 1, 4: 1, 5: 1, 6: 1, 7: 1, 8: 0, 9: 1}, energy=-16.324720288882094, num_occurrences=1)\n"
     ]
    }
   ],
   "source": [
    "# if use simulator\n",
    "QUBOdict = {}\n",
    "for i in range(N):\n",
    "    for j in range(N):\n",
    "        QUBOdict[(i,j)] = QUBO[i][j]\n",
    "\n",
    "# input of QUBO for openjij simulator must be dictionary type\n",
    "sampleset = sim_sampler.sample_qubo(QUBOdict, num_reads=10)\n",
    "print(sampleset.record)\n",
    "print(sampleset.first)"
   ]
  },
  {
   "cell_type": "markdown",
   "id": "c06c8f2d-bbcc-4463-af23-4f8adcdc9690",
   "metadata": {},
   "source": [
    "## solve knapsack problem\n",
    "problem assumption\n",
    "- two people, N objects\n",
    "- total weight $W = \\sum_{i=1}^N w_i$\n",
    "    - weights for person A $W_A = \\sum_{i=1}^N w_i x_i$, if A picks $i$th object, $x_i=0$\n",
    "    - weights for person B $W_B = W - W_A$\n",
    "- purpose, to make $W_A - W_B = 0$\n",
    "    - cost function \n",
    "    \\begin{align}\n",
    "    E(x) &= (W_A - W_B)^2 = (2W - W_A)\\\\\n",
    "    &= (2\\sum_{i=1}^N w_i x_i - W)^2\\\\\n",
    "    &= (2\\sum_{i=1}^N w_i x_i - W) (2\\sum_{j=1}^N w_j x_j - W)\\\\\n",
    "    &= 4\\sum_{i=1}^N\\sum_{j=1}^N w_iw_j x_ix_j - 2W\\sum_{i=1}^N w_i x_i  - 2W\\sum_{j=1}^N w_j x_j + W^2\\\\\n",
    "    &= 4\\sum_{i=1}^N\\sum_{j=1}^N w_iw_j x_ix_j - 4W\\sum_{i=1}^N w_i x_i + W^2\n",
    "    \\end{align}\n",
    "- equivalent QUBO $4w_i w_j$"
   ]
  },
  {
   "cell_type": "code",
   "execution_count": 9,
   "id": "84cbb493-bb0c-41d9-8734-2f1d9a4ec316",
   "metadata": {},
   "outputs": [],
   "source": [
    "# assume 10 objects with random weights\n",
    "N = 10\n",
    "w = np.random.rand(N)\n",
    "\n",
    "# total weights\n",
    "W = np.sum(w)"
   ]
  },
  {
   "cell_type": "code",
   "execution_count": 17,
   "id": "7247ec92-7963-403c-bbed-69ceee081963",
   "metadata": {},
   "outputs": [],
   "source": [
    "# prepare QUBO\n",
    "Q = np.zeros(N**2).reshape(N,N)\n",
    "\n",
    "# due to first item in E(x) func\n",
    "for i in range(N):\n",
    "  for j in range(N):\n",
    "    Q[i][j] = 4 * w[i] * w[j]\n",
    "\n",
    "\n",
    "# due to second item\n",
    "for i in range(N):\n",
    "  Q[i][i] = Q[i][i] - 4 * W * w[i]\n",
    "\n",
    "# convert to dictionary format\n",
    "Qdict = {}\n",
    "for i in range(N):\n",
    "  for j in range(N):\n",
    "      Qdict[(i,j)] = Q[i][j]"
   ]
  },
  {
   "cell_type": "code",
   "execution_count": 18,
   "id": "520dd81c-50fd-458d-ac96-cf9fb3860c19",
   "metadata": {},
   "outputs": [
    {
     "data": {
      "text/plain": [
       "rec.array([([0, 1, 0, 1, 0, 1, 0, 1, 0, 1], -19.87803716, 1),\n",
       "           ([0, 1, 0, 1, 1, 1, 0, 0, 0, 1], -20.00051313, 1),\n",
       "           ([0, 1, 1, 0, 1, 1, 1, 1, 0, 0], -19.61849634, 1),\n",
       "           ([1, 0, 1, 0, 1, 0, 0, 0, 1, 0], -19.96568743, 1),\n",
       "           ([0, 0, 0, 1, 1, 0, 1, 0, 0, 1], -19.96281633, 1),\n",
       "           ([0, 0, 1, 0, 0, 0, 0, 1, 1, 1], -19.77070938, 1),\n",
       "           ([0, 1, 0, 0, 1, 1, 1, 1, 1, 0], -19.99259101, 1),\n",
       "           ([1, 0, 1, 0, 0, 1, 1, 1, 0, 0], -20.00164098, 1),\n",
       "           ([1, 0, 0, 0, 1, 0, 0, 0, 1, 1], -20.0184982 , 1),\n",
       "           ([0, 1, 1, 1, 1, 1, 0, 0, 1, 0], -19.93549473, 1)],\n",
       "          dtype=[('sample', 'i1', (10,)), ('energy', '<f8'), ('num_occurrences', '<i8')])"
      ]
     },
     "execution_count": 18,
     "metadata": {},
     "output_type": "execute_result"
    }
   ],
   "source": [
    "# if use simulator\n",
    "sampleset = sim_sampler.sample_qubo(Qdict, num_reads=10)\n",
    "sampleset.record"
   ]
  }
 ],
 "metadata": {
  "kernelspec": {
   "display_name": "Python 3",
   "language": "python",
   "name": "python3"
  },
  "language_info": {
   "codemirror_mode": {
    "name": "ipython",
    "version": 3
   },
   "file_extension": ".py",
   "mimetype": "text/x-python",
   "name": "python",
   "nbconvert_exporter": "python",
   "pygments_lexer": "ipython3",
   "version": "3.9.2"
  }
 },
 "nbformat": 4,
 "nbformat_minor": 5
}
