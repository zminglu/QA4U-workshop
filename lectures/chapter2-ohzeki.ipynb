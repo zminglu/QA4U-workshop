{
  "nbformat": 4,
  "nbformat_minor": 0,
  "metadata": {
    "colab": {
      "name": "chapter2.ipynb",
      "provenance": [],
      "collapsed_sections": []
    },
    "kernelspec": {
      "name": "python3",
      "display_name": "Python 3"
    },
    "language_info": {
      "name": "python"
    }
  },
  "cells": [
    {
      "cell_type": "markdown",
      "metadata": {
        "id": "G1hCcMPMBmei"
      },
      "source": [
        "## **はじめに**\n",
        "\n",
        "---\n",
        "\n",
        "まずはいつも通りGoogle colaboratory上にD-Wave Systemsが提供しているOcean SDKをインストールするところから始めましょう。\n"
      ]
    },
    {
      "cell_type": "code",
      "metadata": {
        "colab": {
          "base_uri": "https://localhost:8080/"
        },
        "id": "FQb5Otb7BviP",
        "outputId": "0791f546-7ea0-424b-91e6-91e70c1ca59b"
      },
      "source": [
        "pip install dwave-ocean-sdk"
      ],
      "execution_count": null,
      "outputs": [
        {
          "output_type": "stream",
          "text": [
            "Requirement already satisfied: dwave-ocean-sdk in /usr/local/lib/python3.7/dist-packages (3.3.0)\n",
            "Requirement already satisfied: dimod==0.9.13 in /usr/local/lib/python3.7/dist-packages (from dwave-ocean-sdk) (0.9.13)\n",
            "Requirement already satisfied: dwave-inspector==0.2.5 in /usr/local/lib/python3.7/dist-packages (from dwave-ocean-sdk) (0.2.5)\n",
            "Requirement already satisfied: dwave-system==1.4.0 in /usr/local/lib/python3.7/dist-packages (from dwave-ocean-sdk) (1.4.0)\n",
            "Requirement already satisfied: dwave-hybrid==0.6.1 in /usr/local/lib/python3.7/dist-packages (from dwave-ocean-sdk) (0.6.1)\n",
            "Requirement already satisfied: penaltymodel-mip==0.2.4; platform_machine == \"x86_64\" or platform_machine == \"amd64\" or platform_machine == \"AMD64\" in /usr/local/lib/python3.7/dist-packages (from dwave-ocean-sdk) (0.2.4)\n",
            "Requirement already satisfied: dwave-qbsolv==0.3.2 in /usr/local/lib/python3.7/dist-packages (from dwave-ocean-sdk) (0.3.2)\n",
            "Requirement already satisfied: dwave-neal==0.5.7 in /usr/local/lib/python3.7/dist-packages (from dwave-ocean-sdk) (0.5.7)\n",
            "Requirement already satisfied: dwave-tabu==0.3.1 in /usr/local/lib/python3.7/dist-packages (from dwave-ocean-sdk) (0.3.1)\n",
            "Requirement already satisfied: penaltymodel-cache==0.4.3 in /usr/local/lib/python3.7/dist-packages (from dwave-ocean-sdk) (0.4.3)\n",
            "Requirement already satisfied: penaltymodel==0.16.4 in /usr/local/lib/python3.7/dist-packages (from dwave-ocean-sdk) (0.16.4)\n",
            "Requirement already satisfied: dwave-cloud-client==0.8.4 in /usr/local/lib/python3.7/dist-packages (from dwave-ocean-sdk) (0.8.4)\n",
            "Requirement already satisfied: dwave-greedy==0.1.2 in /usr/local/lib/python3.7/dist-packages (from dwave-ocean-sdk) (0.1.2)\n",
            "Requirement already satisfied: dwave-networkx==0.8.8 in /usr/local/lib/python3.7/dist-packages (from dwave-ocean-sdk) (0.8.8)\n",
            "Requirement already satisfied: minorminer==0.2.5 in /usr/local/lib/python3.7/dist-packages (from dwave-ocean-sdk) (0.2.5)\n",
            "Requirement already satisfied: penaltymodel-lp==0.1.4 in /usr/local/lib/python3.7/dist-packages (from dwave-ocean-sdk) (0.1.4)\n",
            "Requirement already satisfied: pyqubo==1.0.10 in /usr/local/lib/python3.7/dist-packages (from dwave-ocean-sdk) (1.0.10)\n",
            "Requirement already satisfied: dwavebinarycsp==0.1.2 in /usr/local/lib/python3.7/dist-packages (from dwave-ocean-sdk) (0.1.2)\n",
            "Requirement already satisfied: numpy<2.0.0,>=1.17.3 in /usr/local/lib/python3.7/dist-packages (from dimod==0.9.13->dwave-ocean-sdk) (1.19.5)\n",
            "Requirement already satisfied: importlib-resources>=3.2.0; python_version < \"3.9\" in /usr/local/lib/python3.7/dist-packages (from dwave-inspector==0.2.5->dwave-ocean-sdk) (5.1.2)\n",
            "Requirement already satisfied: Flask>=1.1.1 in /usr/local/lib/python3.7/dist-packages (from dwave-inspector==0.2.5->dwave-ocean-sdk) (1.1.2)\n",
            "Requirement already satisfied: homebase<2.0.0,>=1.0.0 in /usr/local/lib/python3.7/dist-packages (from dwave-system==1.4.0->dwave-ocean-sdk) (1.0.1)\n",
            "Requirement already satisfied: networkx<3.0,>=2.0 in /usr/local/lib/python3.7/dist-packages (from dwave-system==1.4.0->dwave-ocean-sdk) (2.5.1)\n",
            "Requirement already satisfied: click>5 in /usr/local/lib/python3.7/dist-packages (from dwave-hybrid==0.6.1->dwave-ocean-sdk) (8.0.0)\n",
            "Requirement already satisfied: plucky>=0.4.3 in /usr/local/lib/python3.7/dist-packages (from dwave-hybrid==0.6.1->dwave-ocean-sdk) (0.4.3)\n",
            "Requirement already satisfied: ortools<9.0.0,>=6.6.4659 in /usr/local/lib/python3.7/dist-packages (from penaltymodel-mip==0.2.4; platform_machine == \"x86_64\" or platform_machine == \"amd64\" or platform_machine == \"AMD64\"->dwave-ocean-sdk) (8.2.8710)\n",
            "Requirement already satisfied: six<2.0.0,>=1.11.0 in /usr/local/lib/python3.7/dist-packages (from penaltymodel-cache==0.4.3->dwave-ocean-sdk) (1.15.0)\n",
            "Requirement already satisfied: requests[socks]>=2.18 in /usr/local/lib/python3.7/dist-packages (from dwave-cloud-client==0.8.4->dwave-ocean-sdk) (2.23.0)\n",
            "Requirement already satisfied: python-dateutil>=2.7 in /usr/local/lib/python3.7/dist-packages (from dwave-cloud-client==0.8.4->dwave-ocean-sdk) (2.8.1)\n",
            "Requirement already satisfied: decorator<5.0.0,>=4.1.0 in /usr/local/lib/python3.7/dist-packages (from dwave-networkx==0.8.8->dwave-ocean-sdk) (4.4.2)\n",
            "Requirement already satisfied: fasteners in /usr/local/lib/python3.7/dist-packages (from minorminer==0.2.5->dwave-ocean-sdk) (0.16)\n",
            "Requirement already satisfied: scipy in /usr/local/lib/python3.7/dist-packages (from minorminer==0.2.5->dwave-ocean-sdk) (1.4.1)\n",
            "Requirement already satisfied: Deprecated>=1.2.10 in /usr/local/lib/python3.7/dist-packages (from pyqubo==1.0.10->dwave-ocean-sdk) (1.2.12)\n",
            "Requirement already satisfied: zipp>=0.4; python_version < \"3.8\" in /usr/local/lib/python3.7/dist-packages (from importlib-resources>=3.2.0; python_version < \"3.9\"->dwave-inspector==0.2.5->dwave-ocean-sdk) (3.4.1)\n",
            "Requirement already satisfied: Jinja2>=2.10.1 in /usr/local/lib/python3.7/dist-packages (from Flask>=1.1.1->dwave-inspector==0.2.5->dwave-ocean-sdk) (2.11.3)\n",
            "Requirement already satisfied: itsdangerous>=0.24 in /usr/local/lib/python3.7/dist-packages (from Flask>=1.1.1->dwave-inspector==0.2.5->dwave-ocean-sdk) (2.0.0)\n",
            "Requirement already satisfied: Werkzeug>=0.15 in /usr/local/lib/python3.7/dist-packages (from Flask>=1.1.1->dwave-inspector==0.2.5->dwave-ocean-sdk) (2.0.0)\n",
            "Requirement already satisfied: protobuf>=3.14.0 in /usr/local/lib/python3.7/dist-packages (from ortools<9.0.0,>=6.6.4659->penaltymodel-mip==0.2.4; platform_machine == \"x86_64\" or platform_machine == \"amd64\" or platform_machine == \"AMD64\"->dwave-ocean-sdk) (3.17.0)\n",
            "Requirement already satisfied: absl-py>=0.11 in /usr/local/lib/python3.7/dist-packages (from ortools<9.0.0,>=6.6.4659->penaltymodel-mip==0.2.4; platform_machine == \"x86_64\" or platform_machine == \"amd64\" or platform_machine == \"AMD64\"->dwave-ocean-sdk) (0.12.0)\n",
            "Requirement already satisfied: idna<3,>=2.5 in /usr/local/lib/python3.7/dist-packages (from requests[socks]>=2.18->dwave-cloud-client==0.8.4->dwave-ocean-sdk) (2.10)\n",
            "Requirement already satisfied: urllib3!=1.25.0,!=1.25.1,<1.26,>=1.21.1 in /usr/local/lib/python3.7/dist-packages (from requests[socks]>=2.18->dwave-cloud-client==0.8.4->dwave-ocean-sdk) (1.24.3)\n",
            "Requirement already satisfied: certifi>=2017.4.17 in /usr/local/lib/python3.7/dist-packages (from requests[socks]>=2.18->dwave-cloud-client==0.8.4->dwave-ocean-sdk) (2020.12.5)\n",
            "Requirement already satisfied: chardet<4,>=3.0.2 in /usr/local/lib/python3.7/dist-packages (from requests[socks]>=2.18->dwave-cloud-client==0.8.4->dwave-ocean-sdk) (3.0.4)\n",
            "Requirement already satisfied: PySocks!=1.5.7,>=1.5.6; extra == \"socks\" in /usr/local/lib/python3.7/dist-packages (from requests[socks]>=2.18->dwave-cloud-client==0.8.4->dwave-ocean-sdk) (1.7.1)\n",
            "Requirement already satisfied: wrapt<2,>=1.10 in /usr/local/lib/python3.7/dist-packages (from Deprecated>=1.2.10->pyqubo==1.0.10->dwave-ocean-sdk) (1.12.1)\n",
            "Requirement already satisfied: MarkupSafe>=0.23 in /usr/local/lib/python3.7/dist-packages (from Jinja2>=2.10.1->Flask>=1.1.1->dwave-inspector==0.2.5->dwave-ocean-sdk) (2.0.0)\n"
          ],
          "name": "stdout"
        }
      ]
    },
    {
      "cell_type": "markdown",
      "metadata": {
        "id": "0rgQk54CJvxX"
      },
      "source": [
        "またシミュレーターとしてOpenJijを利用する場合にはこちらも用意しておきましょう。"
      ]
    },
    {
      "cell_type": "code",
      "metadata": {
        "colab": {
          "base_uri": "https://localhost:8080/"
        },
        "id": "ZNDyMuUqJu31",
        "outputId": "1bca201f-6cae-41d8-89fc-dcd1fbc9323f"
      },
      "source": [
        "pip install openjij"
      ],
      "execution_count": null,
      "outputs": [
        {
          "output_type": "stream",
          "text": [
            "Requirement already satisfied: openjij in /usr/local/lib/python3.7/dist-packages (0.3.3)\n",
            "Requirement already satisfied: scipy in /usr/local/lib/python3.7/dist-packages (from openjij) (1.4.1)\n",
            "Requirement already satisfied: requests in /usr/local/lib/python3.7/dist-packages (from openjij) (2.23.0)\n",
            "Requirement already satisfied: dimod>=0.9.1 in /usr/local/lib/python3.7/dist-packages (from openjij) (0.9.13)\n",
            "Requirement already satisfied: jij-cimod>=1.2.0 in /usr/local/lib/python3.7/dist-packages (from openjij) (1.2.1)\n",
            "Requirement already satisfied: numpy>=1.18.4 in /usr/local/lib/python3.7/dist-packages (from openjij) (1.19.5)\n",
            "Requirement already satisfied: certifi>=2017.4.17 in /usr/local/lib/python3.7/dist-packages (from requests->openjij) (2020.12.5)\n",
            "Requirement already satisfied: urllib3!=1.25.0,!=1.25.1,<1.26,>=1.21.1 in /usr/local/lib/python3.7/dist-packages (from requests->openjij) (1.24.3)\n",
            "Requirement already satisfied: chardet<4,>=3.0.2 in /usr/local/lib/python3.7/dist-packages (from requests->openjij) (3.0.4)\n",
            "Requirement already satisfied: idna<3,>=2.5 in /usr/local/lib/python3.7/dist-packages (from requests->openjij) (2.10)\n"
          ],
          "name": "stdout"
        }
      ]
    },
    {
      "cell_type": "markdown",
      "metadata": {
        "id": "-TN6A5YvBmjX"
      },
      "source": [
        "そしてご自身がお持ちのAPI tokenと接続先のendpointを設定します。"
      ]
    },
    {
      "cell_type": "code",
      "metadata": {
        "id": "iH93qZmAB9tE"
      },
      "source": [
        "token = '**'\n",
        "endpoint = 'https://cloud.dwavesys.com/sapi/'"
      ],
      "execution_count": null,
      "outputs": []
    },
    {
      "cell_type": "markdown",
      "metadata": {
        "id": "3FeUTX8BBmlm"
      },
      "source": [
        "さて今回は様々な組合せ最適化問題に対応するQUBO行列を作ってみましょう！\n",
        "正直に言って量子アニーリングマシンはQUBO行列さえ用意すれば様々な問題を解くことができますよ！と言っても、どうやってQUBO行列にすれば良いのか、とかどういうふうに考えたら良いのか、とか。\n",
        "組合せ最適化問題について勉強してからかな？とか、かなりハードル高いです。\n",
        "\n",
        "そこで今回は量子アニーリングマシンの定式化でよくやる基本作法を学び、それらを組み合わせて色々な問題に対応させていくということを紹介します。"
      ]
    },
    {
      "cell_type": "markdown",
      "metadata": {
        "id": "z93p0hyYDUhg"
      },
      "source": [
        "### 量子アニーリングマシンで解ける組合せ最適化問題"
      ]
    },
    {
      "cell_type": "markdown",
      "metadata": {
        "id": "dp7bpZhwBmoB"
      },
      "source": [
        "量子アニーリングマシンで考える組合せ最適化問題は、マシンの性質によってQUBO行列を利用した二次関数のみ解くことができます。\n",
        "\\begin{equation}\n",
        "E({\\bf x}) = \\sum_{i=1}^N \\sum_{j=1}^N Q_{ij} x_i x_j\n",
        "\\end{equation}"
      ]
    },
    {
      "cell_type": "markdown",
      "metadata": {
        "id": "sqOjRswAD88U"
      },
      "source": [
        "量子アニーリングの解説やWebの情報等を調べると必ずそうした記述があります。そのせいでQUBO行列に意識が行きがちです。それよりも**大事なことは、二次関数である**ということです。\n",
        "二次関数と聞けば、僕にでも私にでもできるのではないか？と考えることができるのではないでしょうか。"
      ]
    },
    {
      "cell_type": "markdown",
      "metadata": {
        "id": "oNbhr8kmDhEj"
      },
      "source": [
        "そのため最初は**できるだけ二乗を作る意識**で、解くべき組合せ最適化問題を考えましょう。"
      ]
    },
    {
      "cell_type": "markdown",
      "metadata": {
        "id": "sXnDEfHmFah0"
      },
      "source": [
        "二次関数で教わったことといえば最大値や最小値は頂点のところにあるよ、ということを思い出すことができるのではないでしょうか。\n",
        "最小化問題を考えるという場合であれば、下に凸の次のような二次関数であれば簡単そうです。"
      ]
    },
    {
      "cell_type": "code",
      "metadata": {
        "id": "vDQMC2uKFLxn"
      },
      "source": [
        "import numpy as np\n",
        "a = 0.5\n",
        "x = np.linspace(0,10,11)\n",
        "y = a*x**2"
      ],
      "execution_count": null,
      "outputs": []
    },
    {
      "cell_type": "markdown",
      "metadata": {
        "id": "XAvXEjB2HKBO"
      },
      "source": [
        ""
      ]
    },
    {
      "cell_type": "markdown",
      "metadata": {
        "id": "vT8qWKYfFuta"
      },
      "source": [
        "ここでnp.linspace()を用いて、$0$から始まり、$10$でおわる$11$個の数列を用意しました。\n",
        "つまり$x=(0,1,2,3,,,,10)$です。\n",
        "その数列をxに格納しています。\n",
        "それに対してyはaをかけて、xを二乗していますね。aは$0.5$としていますが、他の値にしたりして形を変えても結構ですよ。\n",
        "このxとyによるグラフを見てみましょう。"
      ]
    },
    {
      "cell_type": "code",
      "metadata": {
        "colab": {
          "base_uri": "https://localhost:8080/",
          "height": 265
        },
        "id": "uffGaFOwGRlq",
        "outputId": "a5f6bbb3-62ee-4eac-ac15-6bdfac5bc696"
      },
      "source": [
        "import matplotlib.pyplot as plt\n",
        "plt.plot(x,y)\n",
        "plt.show()"
      ],
      "execution_count": null,
      "outputs": [
        {
          "output_type": "display_data",
          "data": {
            "image/png": "[encoded data removed]",
            "text/plain": [
              "<Figure size 432x288 with 1 Axes>"
            ]
          },
          "metadata": {
            "tags": [],
            "needs_background": "light"
          }
        }
      ]
    },
    {
      "cell_type": "markdown",
      "metadata": {
        "id": "rj1Q4ba7GXuE"
      },
      "source": [
        "おなじみの放物線ができました。片側だけなので寂しいですか？\n",
        "それでは頂点を動かしてみましょう。\n"
      ]
    },
    {
      "cell_type": "code",
      "metadata": {
        "id": "rpLrCG3aGhRI"
      },
      "source": [
        "b = 3\n",
        "y = a*(x-b)**2"
      ],
      "execution_count": null,
      "outputs": []
    },
    {
      "cell_type": "markdown",
      "metadata": {
        "id": "NkHDingzGgmN"
      },
      "source": [
        "ここでbの値によって二次関数が平行移動するようにします。b=3ですから右に3ズレるはずです。"
      ]
    },
    {
      "cell_type": "code",
      "metadata": {
        "colab": {
          "base_uri": "https://localhost:8080/",
          "height": 265
        },
        "id": "rRXMtj3iGrLW",
        "outputId": "a133f5a7-e3cc-40da-f38a-ffe7d322d979"
      },
      "source": [
        "plt.plot(x,y)\n",
        "plt.show()"
      ],
      "execution_count": null,
      "outputs": [
        {
          "output_type": "display_data",
          "data": {
            "image/png": "[encoded data removed]",
            "text/plain": [
              "<Figure size 432x288 with 1 Axes>"
            ]
          },
          "metadata": {
            "tags": [],
            "needs_background": "light"
          }
        }
      ]
    },
    {
      "cell_type": "markdown",
      "metadata": {
        "id": "FtZ9cvw8GsrK"
      },
      "source": [
        "確かに右にずれて、下に凹んだ頂点が見えるようになりました。左右に伸びた放物線も見ると都ができました。\n",
        "もっと鋭いものを描きたかったらaの値を変えてみましょう。\n",
        "こうしたグラフを描くのもプログラミングの威力ですぐに描くことができます。\n",
        "この場合は最小値が頂点のところの$3$にくるはずというのはすぐにわかります。\n",
        "\n",
        "量子アニーリングマシンでもそうした結果を出すことはできるでしょうか。"
      ]
    },
    {
      "cell_type": "markdown",
      "metadata": {
        "id": "cA7tJ5wFHy4t"
      },
      "source": [
        "### 量子アニーリングマシンで整数値を扱う"
      ]
    },
    {
      "cell_type": "markdown",
      "metadata": {
        "id": "6z1WQY_RH5qC"
      },
      "source": [
        "ただ問題は量子アニーリングマシンでは$x_i=0$または$1$をとる二値の変数のみが利用できました。それでは答えが$3$のような整数になるということはありません。\n",
        "よくよく考えてみると$0$と$1$しか扱えないというのはなかなか不自由です。\n",
        "整数値くらい使えるようにならないものでしょうか。\n",
        "そのために幾つかの変数を足し合わせて、その合計値で整数を示すようにしましょう。\n",
        "例えば\n",
        "\\begin{equation}\n",
        "x = \\sum_{i=1}^N x_i\n",
        "\\end{equation}\n",
        "というように二値をとる$x_i$を足し算していけば、$x$は最小で$0$（全ての$x_i$が$0$をとる場合）となり、$x$は最大で$N$（全ての$x_i$が$1$をとる場合）となります。\n",
        "これで最小$0$、最大$N$の整数を量子アニーリングマシンの中で動作する量子ビットで表すことができました。\n",
        "この結果をそのまま、上記の二次関数に入れてみましょう。\n",
        "\\begin{equation}\n",
        "y = a\\left(\\sum_{i=1}^N x_i - b \\right)^2\n",
        "\\end{equation}\n",
        "ここで二乗というのは同じものを二回かけるという意味であるから次のような意味を持ちます。\n",
        "\\begin{equation}\n",
        "y = a\\left(\\sum_{i=1}^N x_i - b \\right)\\left(\\sum_{j=1}^N x_j - b \\right)\n",
        "\\end{equation}\n",
        "ここで和をとる記号のシグマ記号が$i$が$1$から$N$までその値を変えて足し算されるということを思い出すと、別に文字は$i$でなくてもなんでも良い。どうせ$1$から$N$までの値に変わるので。そこで$i$の代わりに2回目の登場時には$j$を利用することにしました。\n",
        "これをそのまま展開すると、\n",
        "\\begin{equation}\n",
        "y = a \\sum_{i=1}^N \\sum_{j=1}^N x_ix_j - 2ab \\sum_{i=1}^N x_i + ab^2\n",
        "\\end{equation}\n",
        "という結果を得ます。"
      ]
    },
    {
      "cell_type": "markdown",
      "metadata": {
        "id": "fUnqiSkRKdHm"
      },
      "source": [
        "この結果を見てみると、QUBO行列が現れていることに気づきます。\n",
        "第一項はそのままですね。係数$a$がQUBO行列に代わります。\n",
        "さらに第二項から$-2ab$が$x_i^2=x_i$であることに注意すると、$x_ix_i$の係数として追加されます。第三項はあくまで定数項で最小化には関係しないもの、$x_i$には依存しないもので放っておきましょう。\n",
        "\n",
        "さてそれではQUBO行列を作るコードを書いてみましょう。ここでは$N=10$とします。\n",
        "つまり最小$0$、最大$10$となるような整数の範囲で、二次関数の最小化を考えます。\n",
        "答えはもちろん$b=3$になるはずです。"
      ]
    },
    {
      "cell_type": "code",
      "metadata": {
        "id": "Eqxy6VC1LEho"
      },
      "source": [
        "N = 10\n",
        "QUBO = np.zeros(N**2).reshape(N,N)"
      ],
      "execution_count": null,
      "outputs": []
    },
    {
      "cell_type": "markdown",
      "metadata": {
        "id": "JIQSKNKsLWH7"
      },
      "source": [
        "np.zeros()で全成分が$0$の数列を100個作ります。それを$10 \\times 10$の行列に変形して並べます。\n",
        "さてこれに第一項の結果を入れてみましょう。"
      ]
    },
    {
      "cell_type": "code",
      "metadata": {
        "id": "pLIiOEEcLiX-"
      },
      "source": [
        "for i in range(N):\n",
        "  for j in range(N):\n",
        "    QUBO[i][j] = a"
      ],
      "execution_count": null,
      "outputs": []
    },
    {
      "cell_type": "markdown",
      "metadata": {
        "id": "gJxFlec7Lsuf"
      },
      "source": [
        "次は**第二項を追加**しましょう。\n",
        "$x_ix_i$の係数だけですから、QUBO[i][i]と指定して、対角成分だけに追加されるようにしましょう。"
      ]
    },
    {
      "cell_type": "code",
      "metadata": {
        "id": "MWWPTtqGLryh"
      },
      "source": [
        "for i in range(N):\n",
        "  QUBO[i][i] = QUBO[i][i] - 2*a*b\n"
      ],
      "execution_count": null,
      "outputs": []
    },
    {
      "cell_type": "markdown",
      "metadata": {
        "id": "bWiNO09BL_1i"
      },
      "source": [
        "これで準備完了です。二次関数の展開からQUBO行列が決まり、量子アニーリングマシンに投じる形に処理することができました。\n",
        "\n",
        "それでは前回の復習です。量子アニーリングマシンに問題を投じましょう。\n",
        "まずはDWaveSampler()で準備をします。"
      ]
    },
    {
      "cell_type": "code",
      "metadata": {
        "id": "usBLnckrMN5H"
      },
      "source": [
        "from dwave.system import DWaveSampler, EmbeddingComposite\n",
        "\n",
        "dw_sampler = DWaveSampler(solver='Advantage_system1.1', token=token)\n",
        "sampler = EmbeddingComposite(dw_sampler)"
      ],
      "execution_count": null,
      "outputs": []
    },
    {
      "cell_type": "markdown",
      "metadata": {
        "id": "zUkwY7mAMmbR"
      },
      "source": [
        "ここでは埋め込みが自動的に決まり、そのまま量子アニーリングマシンに問題が投じられるEmbeddingComposite()を利用しました。"
      ]
    },
    {
      "cell_type": "code",
      "metadata": {
        "colab": {
          "base_uri": "https://localhost:8080/"
        },
        "id": "1Xi-nZ7ONdYn",
        "outputId": "59242d16-82fc-4a02-9bbe-2724c6ff3478"
      },
      "source": [
        "sampleset = sampler.sample_qubo(QUBO,num_reads=10)\n",
        "print(sampleset.record)"
      ],
      "execution_count": null,
      "outputs": [
        {
          "output_type": "stream",
          "text": [
            "[([1, 0, 0, 1, 0, 1, 0, 0, 0, 0], -4.5, 1, 0.)\n",
            " ([0, 0, 1, 0, 0, 0, 0, 1, 0, 1], -4.5, 1, 0.)\n",
            " ([1, 1, 0, 0, 0, 0, 0, 0, 1, 0], -4.5, 1, 0.)\n",
            " ([0, 1, 0, 0, 1, 0, 0, 1, 0, 0], -4.5, 1, 0.)\n",
            " ([0, 0, 1, 0, 0, 1, 0, 0, 1, 0], -4.5, 1, 0.)\n",
            " ([0, 0, 0, 1, 1, 0, 1, 0, 0, 0], -4.5, 2, 0.)\n",
            " ([0, 0, 0, 1, 0, 0, 0, 1, 1, 0], -4.5, 1, 0.)\n",
            " ([0, 0, 0, 0, 1, 0, 1, 1, 1, 0], -4. , 1, 0.)\n",
            " ([0, 1, 0, 0, 0, 1, 1, 1, 0, 0], -4. , 1, 0.)]\n"
          ],
          "name": "stdout"
        }
      ]
    },
    {
      "cell_type": "markdown",
      "metadata": {
        "id": "4Ki7pqTqOW-J"
      },
      "source": [
        "結果を見ると、$x_i=1$となっているのは合計して$3$つになっているはずです。\n",
        "たまにしくじっているものもあるかもしれません。\n",
        "ちゃんと二次関数の頂点のところに、最小値を持つところに結果を出してくれています。\n",
        "-4.5というエネルギー値を出しています。それは$9a$と足算をするとぴったり$0$になります。\n",
        "つまり二次関数の最小値である$0$です。ちゃんと答えになっていますね。"
      ]
    },
    {
      "cell_type": "markdown",
      "metadata": {
        "id": "BqKycg8TPy9u"
      },
      "source": [
        "### 数式からQUBO行列にするライブラリpyQUBO\n"
      ]
    },
    {
      "cell_type": "markdown",
      "metadata": {
        "id": "wMz07Q2jP4Vt"
      },
      "source": [
        "二次関数からなる数式からQUBO行列を得ることができるということがわかりました。\n",
        "展開して丁寧にプログラムに起こすことでQUBO行列に相当する部分を取り出すことができます。\n",
        "しかし計算間違いや、プログラムの間違いがあり得ますので、それを排除するために便利なライブラリがあります。\n",
        "リクルートコミュニケーションズ作成のpyQUBOです。\n",
        "D-Wave Ocean SDKにも搭載されているため、そのまま利用することができます。"
      ]
    },
    {
      "cell_type": "markdown",
      "metadata": {
        "id": "BriNdvAwPc7u"
      },
      "source": [
        "pyQUBOの使い方は、まずどんな文字で数式を表すのか、ということを宣言します。"
      ]
    },
    {
      "cell_type": "code",
      "metadata": {
        "id": "ifqiNggYP1OJ",
        "colab": {
          "base_uri": "https://localhost:8080/"
        },
        "outputId": "c0338ae7-d124-4c13-cd89-2fc9fcb19906"
      },
      "source": [
        "from pyqubo import Array\n",
        "\n",
        "# バイナリ変数\n",
        "x = Array.create(name='x', shape=(N), vartype='BINARY')\n",
        "print(x)"
      ],
      "execution_count": null,
      "outputs": [
        {
          "output_type": "stream",
          "text": [
            "Array([Binary(x[0]), Binary(x[1]), Binary(x[2]), Binary(x[3]), Binary(x[4]), Binary(x[5]), Binary(x[6]), Binary(x[7]), Binary(x[8]), Binary(x[9])])\n"
          ],
          "name": "stdout"
        }
      ]
    },
    {
      "cell_type": "markdown",
      "metadata": {
        "id": "W2g4Rl1uP91g"
      },
      "source": [
        "まずはpyQUBOからArrayというクラスを呼び出します。\n",
        "Array.create()で数式で使われる文字式として、xを用意します。\n",
        "そのxはshape=NとありますようにN個の文字式を用意します。その文字は'BINARY'ですから、2値の$0$または$1$をとるよ、と教えています。ここで'SPIN'という選択をすると$x_i=-1$または$x_i=+1$を取るタイプにも変えられます。このタイプはイジング変数と呼びます。\n",
        "狙い通りN=10個のBinary(x[i])が用意できたかと思います。これが$x_i$のことだと考えてください。"
      ]
    },
    {
      "cell_type": "markdown",
      "metadata": {
        "id": "tOAlQduaRikS"
      },
      "source": [
        "これを用いて数式を書くかのようにプログラムすることができます。\n",
        "例えば先程の二次関数を書いてみましょう。"
      ]
    },
    {
      "cell_type": "code",
      "metadata": {
        "id": "KC4tllBeP8Zb"
      },
      "source": [
        "y = a*(sum(x)-b)**2"
      ],
      "execution_count": null,
      "outputs": []
    },
    {
      "cell_type": "markdown",
      "metadata": {
        "id": "OAia1VowSiP8"
      },
      "source": [
        "数式のままですよね。sum(x）は$\\sum_{i=1}^N x_i$のことです。他はPythonの数式の書き方ですね。$a$をかけたり、$b$をずらしたり、二乗したり。"
      ]
    },
    {
      "cell_type": "markdown",
      "metadata": {
        "id": "qCtjsG1uSxk4"
      },
      "source": [
        "このコスト関数からQUBO行列への変換は、以下の通りです。"
      ]
    },
    {
      "cell_type": "code",
      "metadata": {
        "id": "cgnfP-iJS3_m"
      },
      "source": [
        "model = y.compile()\n",
        "qubo, offset = model.to_qubo()"
      ],
      "execution_count": null,
      "outputs": []
    },
    {
      "cell_type": "markdown",
      "metadata": {
        "id": "GRQUobN6TEaK"
      },
      "source": [
        "最初のy.compile()でQUBO行列の変換を行う準備をして、model.to_qubo()により、QUBO行列に変換をすることができます。\n",
        "実際に見てみましょう。"
      ]
    },
    {
      "cell_type": "code",
      "metadata": {
        "colab": {
          "base_uri": "https://localhost:8080/"
        },
        "id": "f0c0t3H7TQKQ",
        "outputId": "64038436-1b1a-40f3-9184-e631a2aa29a3"
      },
      "source": [
        "print(qubo)"
      ],
      "execution_count": null,
      "outputs": [
        {
          "output_type": "stream",
          "text": [
            "{('x[8]', 'x[8]'): -2.5, ('x[7]', 'x[7]'): -2.5, ('x[1]', 'x[1]'): -2.5, ('x[0]', 'x[0]'): -2.5, ('x[4]', 'x[4]'): -2.5, ('x[2]', 'x[2]'): -2.5, ('x[8]', 'x[2]'): 1.0, ('x[6]', 'x[2]'): 1.0, ('x[8]', 'x[1]'): 1.0, ('x[8]', 'x[0]'): 1.0, ('x[2]', 'x[0]'): 1.0, ('x[8]', 'x[5]'): 1.0, ('x[7]', 'x[5]'): 1.0, ('x[7]', 'x[1]'): 1.0, ('x[0]', 'x[1]'): 1.0, ('x[9]', 'x[7]'): 1.0, ('x[9]', 'x[6]'): 1.0, ('x[7]', 'x[4]'): 1.0, ('x[3]', 'x[2]'): 1.0, ('x[7]', 'x[2]'): 1.0, ('x[8]', 'x[6]'): 1.0, ('x[4]', 'x[2]'): 1.0, ('x[5]', 'x[4]'): 1.0, ('x[3]', 'x[0]'): 1.0, ('x[3]', 'x[3]'): -2.5, ('x[4]', 'x[3]'): 1.0, ('x[9]', 'x[0]'): 1.0, ('x[6]', 'x[1]'): 1.0, ('x[7]', 'x[3]'): 1.0, ('x[6]', 'x[0]'): 1.0, ('x[8]', 'x[3]'): 1.0, ('x[6]', 'x[4]'): 1.0, ('x[3]', 'x[1]'): 1.0, ('x[9]', 'x[2]'): 1.0, ('x[5]', 'x[0]'): 1.0, ('x[2]', 'x[1]'): 1.0, ('x[5]', 'x[5]'): -2.5, ('x[9]', 'x[8]'): 1.0, ('x[9]', 'x[3]'): 1.0, ('x[5]', 'x[2]'): 1.0, ('x[6]', 'x[5]'): 1.0, ('x[6]', 'x[6]'): -2.5, ('x[4]', 'x[0]'): 1.0, ('x[9]', 'x[4]'): 1.0, ('x[4]', 'x[1]'): 1.0, ('x[9]', 'x[5]'): 1.0, ('x[5]', 'x[1]'): 1.0, ('x[9]', 'x[1]'): 1.0, ('x[8]', 'x[7]'): 1.0, ('x[9]', 'x[9]'): -2.5, ('x[5]', 'x[3]'): 1.0, ('x[7]', 'x[0]'): 1.0, ('x[6]', 'x[3]'): 1.0, ('x[8]', 'x[4]'): 1.0, ('x[7]', 'x[6]'): 1.0}\n"
          ],
          "name": "stdout"
        }
      ]
    },
    {
      "cell_type": "markdown",
      "metadata": {
        "id": "MlFj7ojsTTXo"
      },
      "source": [
        "これを見ると、どの文字とどの文字の間に係数がかかっているのかというdict形式による記述がされています。"
      ]
    },
    {
      "cell_type": "markdown",
      "metadata": {
        "id": "3N7QfAS4TZAK"
      },
      "source": [
        "これをそのままD-Waveマシンに投じることができます。"
      ]
    },
    {
      "cell_type": "code",
      "metadata": {
        "id": "8Hgu6CnwJYMY"
      },
      "source": [
        "dw_sampler = DWaveSampler(solver='Advantage_system1.1', token=token)\n",
        "sampler = EmbeddingComposite(dw_sampler)"
      ],
      "execution_count": null,
      "outputs": []
    },
    {
      "cell_type": "markdown",
      "metadata": {
        "id": "3FJfb_ZoJXlE"
      },
      "source": [
        "どのマシンやソルバーを利用するか、埋め込み方法が必要であれば指定したのちに計算を実行してください。\n",
        "もちろんマシンタイムの節約のためにシミュレータを使うのも良いでしょう。その場合はこちらを使いましょう。"
      ]
    },
    {
      "cell_type": "code",
      "metadata": {
        "id": "TN0eukJCJkZ3"
      },
      "source": [
        "from openjij import SQASampler\n",
        "sampler = SQASampler()"
      ],
      "execution_count": null,
      "outputs": []
    },
    {
      "cell_type": "markdown",
      "metadata": {
        "id": "sa3FOh0eKDw0"
      },
      "source": [
        "pyQUBOではdict形式で問題が記述されているので、そのままOpenJijによるシミュレーターに問題を投入することができます。"
      ]
    },
    {
      "cell_type": "code",
      "metadata": {
        "colab": {
          "base_uri": "https://localhost:8080/"
        },
        "id": "exB_lG9STdlu",
        "outputId": "3e44eebc-90ab-43c9-d0c2-a8613cfc77f3"
      },
      "source": [
        "sampleset = sampler.sample_qubo(qubo,num_reads=10)\n",
        "print(sampleset.record)"
      ],
      "execution_count": null,
      "outputs": [
        {
          "output_type": "stream",
          "text": [
            "[([1, 0, 1, 0, 0, 1, 0, 0, 0, 0], -4.5, 1, 0.)\n",
            " ([0, 0, 0, 0, 0, 0, 1, 1, 0, 1], -4.5, 1, 0.)\n",
            " ([0, 0, 0, 0, 0, 1, 0, 1, 0, 1], -4.5, 3, 0.)\n",
            " ([0, 0, 0, 0, 0, 0, 1, 1, 1, 0], -4.5, 1, 0.)\n",
            " ([1, 0, 0, 0, 0, 1, 0, 1, 0, 1], -4. , 1, 0.)\n",
            " ([0, 1, 0, 0, 0, 0, 1, 1, 1, 0], -4. , 1, 0.)\n",
            " ([0, 0, 1, 0, 1, 1, 0, 0, 1, 0], -4. , 1, 0.)\n",
            " ([0, 0, 1, 0, 0, 1, 0, 1, 1, 0], -4. , 1, 0.)]\n"
          ],
          "name": "stdout"
        }
      ]
    },
    {
      "cell_type": "markdown",
      "metadata": {
        "id": "EyldySpFT0hi"
      },
      "source": [
        "同じような結果が出てきましたね。頂点である$b=3$付近のところで答えが出ていると思います。\n",
        "ちなみにoffsetというのは定数部分として$x$に関係しない定数の値が得られています。みてみると$ab^2=4.5$となるはずです。"
      ]
    },
    {
      "cell_type": "code",
      "metadata": {
        "colab": {
          "base_uri": "https://localhost:8080/"
        },
        "id": "rOpN9t5xUD2P",
        "outputId": "b38a8c83-c713-4436-a699-7d2e49d09022"
      },
      "source": [
        "print(offset)"
      ],
      "execution_count": null,
      "outputs": [
        {
          "output_type": "stream",
          "text": [
            "4.5\n"
          ],
          "name": "stdout"
        }
      ]
    },
    {
      "cell_type": "markdown",
      "metadata": {
        "id": "BA63mR7FRAxc"
      },
      "source": [
        "はいバッチリですね！"
      ]
    },
    {
      "cell_type": "markdown",
      "metadata": {
        "id": "Y2ZPqJoADhGy"
      },
      "source": [
        "### 罰金法"
      ]
    },
    {
      "cell_type": "markdown",
      "metadata": {
        "id": "k65FLIVtOc18"
      },
      "source": [
        "こうした二次関数からQUBO行列を作ることができるのだ、と知っていれば$x_i=0$または$1$をとる二値変数に対して、制限を加えることができます。先程の例では、みんなが知っているような二次関数を利用すれば$x_i$の合計した値が$b$になるようにできるということがわかりました。\n",
        "逆説的に、合計が$b$となるようにしたい場合には、次のような二次関数を与えれば良いということがわかります。\n",
        "\\begin{equation}\n",
        "E(x) = \\frac{a}{2}\\left( \\sum_{i=1}^N x_i - b \\right)^2\n",
        "\\end{equation}"
      ]
    },
    {
      "cell_type": "markdown",
      "metadata": {
        "id": "DIkpIAQhfdYP"
      },
      "source": [
        "つまりこうした二次関数は、役割を持っていて、$\\sum_{i=1}^N x_i$を$b$にするという条件を満たすためのものであるということになります。\n",
        "最適化問題では、**何かと何かを等しくしておいてくださいという等式制約条件**を課すことが往々にしてあります。\n",
        "こうした二次関数の頂点を利用して**等式制約条件を実装する方法を罰金法**と呼びます。\n",
        "\n",
        "ちなみに足し算ですから、どこが$1$になって所望の数値を与えても良いことに注目すると次のような問題に利用することができます。"
      ]
    },
    {
      "cell_type": "markdown",
      "metadata": {
        "id": "GRwQAXxmiHBc"
      },
      "source": [
        "### 例題"
      ]
    },
    {
      "cell_type": "markdown",
      "metadata": {
        "id": "JkAjeKOViKuL"
      },
      "source": [
        "荷物が複数あり、それらには重さが適当に決められているとする。\n",
        "その荷物を決められた個数を取り出すとします。\n",
        "そのときに荷物の総量が最大となる組み合わせを考えよう。\n",
        "\n",
        "まず荷物の個数を$N=10$としましょう。\n",
        "そして重さを適当に乱数値で決めておきましょう。"
      ]
    },
    {
      "cell_type": "code",
      "metadata": {
        "colab": {
          "base_uri": "https://localhost:8080/"
        },
        "id": "XXhpPE0wFH4m",
        "outputId": "73973570-8e70-4c1b-c9d1-5f2a8ca6fa3b"
      },
      "source": [
        "N = 10\n",
        "w = np.random.rand(N)\n",
        "print(w)"
      ],
      "execution_count": null,
      "outputs": [
        {
          "output_type": "stream",
          "text": [
            "[0.28804661 0.92110721 0.72182371 0.13426707 0.72502264 0.93964647\n",
            " 0.08257674 0.29841768 0.14978464 0.8095039 ]\n"
          ],
          "name": "stdout"
        }
      ]
    },
    {
      "cell_type": "markdown",
      "metadata": {
        "id": "0YAZUYpzi_JG"
      },
      "source": [
        "この荷物の中から重いものを探してくれば答えは自ずからわかりますが、まずは例題として、これを量子アニーリングマシンで解くことを考えてみましょう。\n",
        "まずは荷物の選択を表す$x_i$という変数を用意しましょう。"
      ]
    },
    {
      "cell_type": "code",
      "metadata": {
        "id": "f1xNZqcijpLP"
      },
      "source": [
        "x = Array.create(name='x', shape=N,vartype='BINARY')"
      ],
      "execution_count": null,
      "outputs": []
    },
    {
      "cell_type": "markdown",
      "metadata": {
        "id": "65sGcTBmjxCn"
      },
      "source": [
        "次に決められた個数というのを$K=3$としましょう。\n",
        "3つの荷物を取り出すというわけです。そこで罰金法を利用しましょう。\n",
        "\\begin{equation}\n",
        "a\\left(\\sum_{i=1}^N x_i - K \\right)^2\n",
        "\\end{equation}\n",
        "これをpyQUBOを利用して、次のようにコードを書いておきます。"
      ]
    },
    {
      "cell_type": "code",
      "metadata": {
        "id": "p1u5xuBkF2Uv"
      },
      "source": [
        "K = 3\n",
        "constr = (sum(x)-K)**2"
      ],
      "execution_count": null,
      "outputs": []
    },
    {
      "cell_type": "markdown",
      "metadata": {
        "id": "50khq8q8j-wk"
      },
      "source": [
        "このconstrに罰金法で利用する二次関数を準備しました。$x_i$の合計がKになるようにしています。適当な係数である$a$は後でかけることにします。"
      ]
    },
    {
      "cell_type": "markdown",
      "metadata": {
        "id": "WjBiKNFMkOKR"
      },
      "source": [
        "次に重さが最大となるように、という点を考慮しましょう。\n",
        "基本的に最小化問題を解くのが量子アニーリングマシンですが、最大化をしたい場合は、符号をマイナスにします。\n",
        "罰金法を含め、次のようなコスト関数はいかがでしょうか。\n",
        "\\begin{equation}\n",
        "E(x) = - \\sum_{i=1}^N w_i x_i + a \\left(\\sum_{i=1}^N x_i - K \\right)^2\n",
        "\\end{equation}\n",
        "第1項では$x_i=1$になるものだけが計算にかかり、その合計が大きくなればなるほど、コスト関数が下がるようになります。つまり重いほどコスト関数的には嬉しいわけです。\n",
        "第2項は罰金法ですね。\n",
        "それではコスト関数の第1項をコードで書いてみましょう。"
      ]
    },
    {
      "cell_type": "code",
      "metadata": {
        "id": "XmKM3XkWjY5N"
      },
      "source": [
        "cost = - np.dot(w,x)"
      ],
      "execution_count": null,
      "outputs": []
    },
    {
      "cell_type": "markdown",
      "metadata": {
        "id": "2Be6QSkYlj4d"
      },
      "source": [
        "と書いても構いませんし、"
      ]
    },
    {
      "cell_type": "code",
      "metadata": {
        "id": "KC3G1PgYleNb"
      },
      "source": [
        "cost = 0\n",
        "for i in range(N):\n",
        "  cost = cost - w[i]*x[i]"
      ],
      "execution_count": null,
      "outputs": []
    },
    {
      "cell_type": "markdown",
      "metadata": {
        "id": "Bhvtz9p5lyB6"
      },
      "source": [
        "と書いても構いません。数式で見たまんまの書き方をすることができるのがpyQUBOの利点です。\n",
        "さてこれらを集めて、QUBO行列を作りましょう。\n",
        "ここで少し便利な機能を利用しましょう。pyQUBOからConstrainおよびPlaceholderという機能を利用します。"
      ]
    },
    {
      "cell_type": "code",
      "metadata": {
        "id": "-qmfYsZclsC8"
      },
      "source": [
        "from pyqubo import Constraint, Placeholder\n",
        "cost_func = cost + Placeholder('a')*Constraint(constr, label='one-hot')"
      ],
      "execution_count": null,
      "outputs": []
    },
    {
      "cell_type": "markdown",
      "metadata": {
        "id": "jbcYn2bemPpl"
      },
      "source": [
        "ここでPlaceholder('a')というのは、罰金法の二次関数にかかる係数です。\n",
        "こうしておくことで後で係数を変えるときに、計算時間がかからずにスムーズに繰り返し実験が行えるようになります。\n",
        "またConstraint()で挟むことにより、挟まれた罰金法による制約条件を満たしているかどうかを簡単に識別することができます。量子アニーリングマシンでは、そのマシンの性能により、制約条件を必ずしも満たすとは限りません。\n",
        "そのため制約条件を違反しているかどうかは重要な評価となります。\n",
        "\n",
        "準備は整いましたね。\n",
        "このコスト関数からQUBO行列を計算する準備をまずは整えます。"
      ]
    },
    {
      "cell_type": "code",
      "metadata": {
        "id": "wN1rVylAlswe"
      },
      "source": [
        "model = cost_func.compile()"
      ],
      "execution_count": null,
      "outputs": []
    },
    {
      "cell_type": "markdown",
      "metadata": {
        "id": "QCuUPCCKm6m2"
      },
      "source": [
        "この操作の後QUBO行列を出してもらうのですが、ここでPlaceholder('a')としてまだ定めていない係数値を決めます。"
      ]
    },
    {
      "cell_type": "code",
      "metadata": {
        "id": "EJEEZhjxm5x8"
      },
      "source": [
        "feed_dict = {'a': 2.0}\n",
        "qubo, offset = model.to_qubo(feed_dict=feed_dict)"
      ],
      "execution_count": null,
      "outputs": []
    },
    {
      "cell_type": "markdown",
      "metadata": {
        "id": "aGIhyTQfnHqm"
      },
      "source": [
        "そのためにfeed_dict = {'a':2.0}という書き方をしていますが、これは係数$a$を$2.0$にしてくださいね、という命令をしています。\n",
        "もしも制約条件を違反する答えが出てしまう場合には、ここの値を変えることになります。\n",
        "その手前までの数式の形は変わらないので、いじるのはここだけになります。\n",
        "そのための機能がPlaceholder('a')です。\n",
        "QUBO行列を作る際に、そうした係数の指定を反映させるためにmodel.to_qubo(feed_dict=**feed_dict**)と書いてあります。\n",
        "これで完成。あとは量子アニーリングマシンに投入するだけです。"
      ]
    },
    {
      "cell_type": "markdown",
      "metadata": {
        "id": "5i6zsZgxKtig"
      },
      "source": [
        "まずはどのマシン・ソルバーを使うか、そして埋め込みを実行して準備をします。"
      ]
    },
    {
      "cell_type": "code",
      "metadata": {
        "id": "yjZXRfhLKsoH"
      },
      "source": [
        "dw_sampler = DWaveSampler(solver='Advantage_system1.1', token=token)\n",
        "sampler = EmbeddingComposite(dw_sampler)"
      ],
      "execution_count": null,
      "outputs": []
    },
    {
      "cell_type": "markdown",
      "metadata": {
        "id": "A69tpRGcKPhb"
      },
      "source": [
        "シミュレータを利用する場合にはコチラ。\n"
      ]
    },
    {
      "cell_type": "code",
      "metadata": {
        "id": "-RJoXEtaKQF2"
      },
      "source": [
        "sampler = SQASampler()"
      ],
      "execution_count": null,
      "outputs": []
    },
    {
      "cell_type": "markdown",
      "metadata": {
        "id": "9gB_isJzKmrh"
      },
      "source": [
        "準備が整いましたらいつも通り答えを出してもらいましょう。"
      ]
    },
    {
      "cell_type": "code",
      "metadata": {
        "colab": {
          "base_uri": "https://localhost:8080/"
        },
        "id": "kcZqmnAgnGOy",
        "outputId": "b841064a-c34a-4844-d1d7-285729efe9fc"
      },
      "source": [
        "sampleset = sampler.sample_qubo(qubo,num_reads=10)\n",
        "print(sampleset.record)"
      ],
      "execution_count": null,
      "outputs": [
        {
          "output_type": "stream",
          "text": [
            "[([1, 1, 0, 0, 0, 0, 0, 0, 0, 1], -20.01865773, 1, 0.)\n",
            " ([0, 1, 0, 0, 1, 0, 0, 1, 0, 0], -19.94454753, 1, 0.)\n",
            " ([0, 0, 1, 0, 0, 0, 0, 1, 0, 1], -19.82974529, 1, 0.)\n",
            " ([0, 1, 0, 0, 1, 0, 0, 0, 1, 0], -19.79591449, 2, 0.)\n",
            " ([0, 0, 0, 0, 0, 1, 1, 1, 0, 0], -19.32064089, 1, 0.)\n",
            " ([0, 0, 0, 1, 0, 0, 0, 0, 1, 1], -19.09355561, 1, 0.)\n",
            " ([0, 0, 0, 1, 0, 0, 1, 0, 0, 1], -19.0263477 , 1, 0.)\n",
            " ([1, 0, 0, 0, 0, 1, 0, 1, 1, 0], -17.6758954 , 1, 0.)\n",
            " ([1, 0, 0, 0, 0, 0, 0, 0, 1, 0], -16.43783125, 1, 0.)]\n"
          ],
          "name": "stdout"
        }
      ]
    },
    {
      "cell_type": "markdown",
      "metadata": {
        "id": "bXoAW8YxokCc"
      },
      "source": [
        "答えがいくつか出てきたかもしれませんが、ちゃんと$K=3$つ$1$が立っている事を確認してください。その中で一番低いコスト関数値を出した結果で何番目に$1$が立っているかをみましょう。\n",
        "それで荷物の重さが重い順に選ばれたかどうかをみてみましょう。大丈夫ですかね。\n",
        "もしもうまくいっていなかったら、もう一度やってみたり、feed_dict={'a': 2.0}における値をもう少し大きくしたりしてみてください。"
      ]
    },
    {
      "cell_type": "markdown",
      "metadata": {
        "id": "N5qU0AnuGpYK"
      },
      "source": [
        "制約条件を満たしているかどうかのチェックをするためには次の手順を踏んでいきます。"
      ]
    },
    {
      "cell_type": "code",
      "metadata": {
        "id": "T_D-2tLeGnjf"
      },
      "source": [
        "decoded_samples = model.decode_sampleset(sampleset=sampleset, feed_dict=feed_dict)"
      ],
      "execution_count": null,
      "outputs": []
    },
    {
      "cell_type": "markdown",
      "metadata": {
        "id": "jUwPfcqeGugo"
      },
      "source": [
        "得られたsamplesetに対して、decode_sampleset（）を適用します。\n",
        "その結果をdecoded_samplesとします。"
      ]
    },
    {
      "cell_type": "markdown",
      "metadata": {
        "id": "VrxiCqPBHbHN"
      },
      "source": [
        "これには答えの情報が格納されており一つ一つ取り出して、.constraints(only_broken=True)とすれば、制約条件を違反しているかどうかを見ることができます。"
      ]
    },
    {
      "cell_type": "code",
      "metadata": {
        "colab": {
          "base_uri": "https://localhost:8080/"
        },
        "id": "9ciM2YNjG1t-",
        "outputId": "4ca8ed7a-0774-42c0-cfa9-552b4e285424"
      },
      "source": [
        "for sample in decoded_samples:\n",
        "  print(sample.constraints(only_broken=True))"
      ],
      "execution_count": null,
      "outputs": [
        {
          "output_type": "stream",
          "text": [
            "{}\n",
            "{}\n",
            "{}\n",
            "{}\n",
            "{}\n",
            "{}\n",
            "{}\n",
            "{'one-hot': (False, 1.0)}\n",
            "{'one-hot': (False, 1.0)}\n"
          ],
          "name": "stdout"
        }
      ]
    },
    {
      "cell_type": "markdown",
      "metadata": {
        "id": "v-b2SUGuHaN9"
      },
      "source": [
        "Falseとあるのは制約条件に違反しており、いくつ違反しているのかという個数も見ることができます。"
      ]
    },
    {
      "cell_type": "markdown",
      "metadata": {
        "id": "LC_1tqc9yvpA"
      },
      "source": [
        "### 量子アニーリングマシンが解くべき問題"
      ]
    },
    {
      "cell_type": "markdown",
      "metadata": {
        "id": "Z-C6iv4Myy0f"
      },
      "source": [
        "さて上記の例題では、重い順から選べば、わざわざ量子アニーリングマシンを利用しないでも解けるような問題でした。\n",
        "しかし荷物の形状によっては、一緒に持つのが難しいものだったり、持ちやすくなったりするものがあるはずです。そうした情報をもしもどこかしらで知ることができて、コスト関数に組み込むことができれば、より**現実的な問題となる**でしょう。\n",
        "ある荷物を持ち($x_i=1$)、それと同時に異なる荷物を持っているとき$x_j=1$、コスト関数に登場するような寄与は次のような形です。\n",
        "\\begin{equation}\n",
        "\\sum_{i \\neq j} W_{ij} x_ix_j\n",
        "\\end{equation}"
      ]
    },
    {
      "cell_type": "markdown",
      "metadata": {
        "id": "0-cRb7iy3Dnr"
      },
      "source": [
        "この$W_{ij}$が同時に持ちやすいか持ちにくいかを示す量ということになります。\n",
        "ここでは乱数でそのような量を用意してみましょう。"
      ]
    },
    {
      "cell_type": "code",
      "metadata": {
        "id": "acWd-WYPoS9h"
      },
      "source": [
        "W = 0.1*np.random.randn(N**2).reshape(N,N)\n",
        "W = W - np.diag(np.diag(W))"
      ],
      "execution_count": null,
      "outputs": []
    },
    {
      "cell_type": "markdown",
      "metadata": {
        "id": "Po_SQcaZ3blt"
      },
      "source": [
        "ここで行列Wを正負の値の両方をとりうる乱数値にしました。\n",
        "対角成分を取り出すnp.diag(W)から対角行列を作るnp.diag()により、Wの対角成分を$0$にするという操作を行っています。\n",
        "\n"
      ]
    },
    {
      "cell_type": "code",
      "metadata": {
        "colab": {
          "base_uri": "https://localhost:8080/"
        },
        "id": "g0hbeL5x391I",
        "outputId": "fe1d3c41-b4f1-4d1c-c8ea-63877e919795"
      },
      "source": [
        "print(W)"
      ],
      "execution_count": null,
      "outputs": [
        {
          "output_type": "stream",
          "text": [
            "[[ 0.          0.07858091  0.18983013 -0.04886906 -0.12782428  0.09670302\n",
            "   0.22284804 -0.12923688  0.07252795  0.00617773]\n",
            " [ 0.05648087  0.          0.02300602 -0.07359657  0.00454248 -0.08407988\n",
            "   0.21148559  0.1152086   0.05466151  0.0874889 ]\n",
            " [ 0.04203252  0.12042396  0.         -0.03557292  0.04142517 -0.02474132\n",
            "  -0.07501519  0.11324322  0.11675406 -0.0258398 ]\n",
            " [-0.01135026 -0.04086623 -0.24498328  0.          0.07660923 -0.10099807\n",
            "   0.01619057 -0.02053899 -0.08437451 -0.17968568]\n",
            " [ 0.15042138 -0.08266102 -0.08705548 -0.06078506  0.          0.19604097\n",
            "  -0.03289579  0.05366866 -0.02201612 -0.02816382]\n",
            " [ 0.01003466 -0.00794726 -0.06399696 -0.19841438 -0.09426893  0.\n",
            "  -0.18342792  0.10586101 -0.10893612  0.07632177]\n",
            " [-0.0657326   0.05548889 -0.12918447 -0.11942815  0.14032939 -0.16042424\n",
            "   0.          0.07490986  0.1117644   0.1112174 ]\n",
            " [ 0.24678508  0.00340811  0.05875284  0.00688242 -0.05727437  0.09665674\n",
            "  -0.06822112  0.         -0.09048486 -0.13662666]\n",
            " [-0.0251032  -0.13767392  0.05599694  0.02218825 -0.1225431  -0.00962018\n",
            "   0.06307695 -0.0281562   0.          0.05594002]\n",
            " [-0.07856222 -0.04762884  0.12460813 -0.09173484 -0.00320353 -0.13512872\n",
            "   0.07859983 -0.09599088 -0.15241805  0.        ]]\n"
          ],
          "name": "stdout"
        }
      ]
    },
    {
      "cell_type": "markdown",
      "metadata": {
        "id": "sBJwcsiV3-ae"
      },
      "source": [
        "こうした行列を可視化するためには画像で表示することも直感的でみやすい時があります。"
      ]
    },
    {
      "cell_type": "code",
      "metadata": {
        "colab": {
          "base_uri": "https://localhost:8080/",
          "height": 265
        },
        "id": "eFD3NFbQ3a3d",
        "outputId": "aa3359a3-73f2-4bec-8740-9686ba4de6e2"
      },
      "source": [
        "import matplotlib.pyplot as plt\n",
        "plt.imshow(W)\n",
        "plt.colorbar()\n",
        "plt.show()"
      ],
      "execution_count": null,
      "outputs": [
        {
          "output_type": "display_data",
          "data": {
            "image/png": "[encoded data removed]",
            "text/plain": [
              "<Figure size 432x288 with 2 Axes>"
            ]
          },
          "metadata": {
            "tags": [],
            "needs_background": "light"
          }
        }
      ]
    },
    {
      "cell_type": "markdown",
      "metadata": {
        "id": "zTbVU6Bk4Ih1"
      },
      "source": [
        "それではこの効果を取り入れた新しいコスト関数を用意しましょう。\n",
        "pyQUBOの形式にするために次のようなコードを書きます。"
      ]
    },
    {
      "cell_type": "code",
      "metadata": {
        "id": "AZDV5bUT32-5"
      },
      "source": [
        "cost2 = 0\n",
        "for i in range(N):\n",
        "  for j in range(N):\n",
        "    cost2 = cost2 + W[i][j]*x[i]*x[j]"
      ],
      "execution_count": null,
      "outputs": []
    },
    {
      "cell_type": "markdown",
      "metadata": {
        "id": "HKDCmGfR5I7I"
      },
      "source": [
        "先程のコスト関数から、今用意した項も追加することにしましょう。"
      ]
    },
    {
      "cell_type": "code",
      "metadata": {
        "id": "zP1nTlht4RBx"
      },
      "source": [
        "cost_func2 = cost + cost2 + Placeholder('a')*Constraint(constr, label='Kconstr')"
      ],
      "execution_count": null,
      "outputs": []
    },
    {
      "cell_type": "markdown",
      "metadata": {
        "id": "CVPV6BkC5Yjq"
      },
      "source": [
        "先ほどまで登場した項に対して、さらにもう一つcost2が追加されていますね。\n",
        "あとはQUBO行列を出力するための準備を整えます。"
      ]
    },
    {
      "cell_type": "code",
      "metadata": {
        "id": "iMpP8A5E5U0I"
      },
      "source": [
        "model2 = cost_func2.compile()"
      ],
      "execution_count": null,
      "outputs": []
    },
    {
      "cell_type": "markdown",
      "metadata": {
        "id": "Fer6lVkG5iDC"
      },
      "source": [
        "そしていつも通りQUBO行列の出力をしましょう。"
      ]
    },
    {
      "cell_type": "code",
      "metadata": {
        "id": "HLlusSXl5XyX"
      },
      "source": [
        "feed_dict = {'a': 2.0}\n",
        "qubo2, offset = model2.to_qubo(feed_dict=feed_dict)"
      ],
      "execution_count": null,
      "outputs": []
    },
    {
      "cell_type": "markdown",
      "metadata": {
        "id": "AbG-4U7Q5wV6"
      },
      "source": [
        "どんな答えが出てくるでしょうかね。さすがにわからないですよね。\n",
        "そうした問題に対しては、量子アニーリングマシンを利用すると良いでしょう。\n",
        "いつものようにソルバーを指定して、埋め込みをして準備をします。"
      ]
    },
    {
      "cell_type": "code",
      "metadata": {
        "id": "NM2tiZzpK36s"
      },
      "source": [
        "dw_sampler = DWaveSampler(solver='Advantage_system1.1', token=token)\n",
        "sampler = EmbeddingComposite(dw_sampler)"
      ],
      "execution_count": null,
      "outputs": []
    },
    {
      "cell_type": "markdown",
      "metadata": {
        "id": "eBB4IpgiK-Dt"
      },
      "source": [
        "シミュレータを利用したい場合にはOpenJijでOKですね。"
      ]
    },
    {
      "cell_type": "code",
      "metadata": {
        "id": "X0FbICrVLBPm"
      },
      "source": [
        "sampler = SQASampler()"
      ],
      "execution_count": null,
      "outputs": []
    },
    {
      "cell_type": "markdown",
      "metadata": {
        "id": "os8HcbpdLFNH"
      },
      "source": [
        "これで準備完了です。"
      ]
    },
    {
      "cell_type": "code",
      "metadata": {
        "colab": {
          "base_uri": "https://localhost:8080/"
        },
        "id": "LUSRzg7d5sqv",
        "outputId": "fb45b583-4aa0-4e92-b02b-bca4d6cce2d9"
      },
      "source": [
        "sampleset = sampler.sample_qubo(qubo2,num_reads=10)\n",
        "print(sampleset.record)"
      ],
      "execution_count": null,
      "outputs": [
        {
          "output_type": "stream",
          "text": [
            "[([0, 0, 0, 1, 0, 1, 0, 0, 0, 1], -20.51305737, 1, 0.)\n",
            " ([0, 0, 1, 1, 0, 0, 0, 0, 0, 1], -20.11880306, 2, 0.)\n",
            " ([0, 0, 0, 0, 0, 1, 1, 0, 0, 1], -20.04456898, 1, 0.)\n",
            " ([0, 1, 1, 0, 0, 0, 0, 0, 1, 0], -19.55954699, 1, 0.)\n",
            " ([0, 1, 1, 0, 0, 0, 1, 0, 0, 0], -19.51930286, 3, 0.)\n",
            " ([0, 0, 0, 0, 0, 0, 1, 1, 0, 1], -19.22660989, 1, 0.)\n",
            " ([1, 0, 1, 1, 0, 0, 0, 0, 0, 1], -18.30759083, 1, 0.)]\n"
          ],
          "name": "stdout"
        }
      ]
    },
    {
      "cell_type": "markdown",
      "metadata": {
        "id": "Jfg2RK-x6ZJu"
      },
      "source": [
        "先ほどとは異なる結果になったはずです。重さだけでいうと簡単だけど、荷物の組み合わせによって影響が出てくる。\n",
        "ある荷物を持つと異なる荷物の影響が出てくるといった問題では、量子アニーリングが有効となります。\n",
        "ポイントは二次関数を利用して、制約条件を課すことで現実的な問題を考える。\n",
        "そして$x_i$が足し算されるようなただの一次関数だけではなく、\n",
        "**$x_ix_j$が入った二次関数の問題で、互いの影響を考慮しなければならない問題を考える。**\n",
        "そこで量子アニーリングの活路が見出されるということになります。"
      ]
    },
    {
      "cell_type": "markdown",
      "metadata": {
        "id": "InTp27KF6zbJ"
      },
      "source": [
        "### ポートフォリオ最適化問題"
      ]
    },
    {
      "cell_type": "markdown",
      "metadata": {
        "id": "XuWEIKQl633i"
      },
      "source": [
        "株式銘柄や金融資産を保有する際に、基本的には期待収益と言いますが、\n",
        "儲かりそうな金融資産を手に入れるというのが基本です。\n",
        "ただそのときに、自分の予算の限界があり、全てを買うわけにはいかないため、制限があります。\n",
        "こうした状況で、最適な金融資産の選択を行う問題を**ポートフォリオ最適化問題**と言います。\n",
        "\n",
        "実際の株式銘柄のデータを活用して、量子アニーリングマシンを利用してこの問題を解いてみましょう。"
      ]
    },
    {
      "cell_type": "code",
      "metadata": {
        "id": "72qs9abK52hE"
      },
      "source": [
        "import datetime\n",
        "start = datetime.datetime(2018, 1, 1)\n",
        "end = datetime.datetime(2020, 12, 31)"
      ],
      "execution_count": null,
      "outputs": []
    },
    {
      "cell_type": "markdown",
      "metadata": {
        "id": "mE_6bA4d8ZBd"
      },
      "source": [
        "ここではまず株式銘柄のデータをどこからどこまでを利用するかの期間を指定しています。\n",
        "次に東京証券取引所の証券コードをいくつか選んだリストを用意します。\n",
        "pythonでは[]の中にカンマ区切りで指定して複数の要素を並べたものをリストと呼びます。"
      ]
    },
    {
      "cell_type": "code",
      "metadata": {
        "id": "Q_Gbz-By6X0q"
      },
      "source": [
        "stockcodes=[\"2502\", \"3382\", \"4661\", \"6178\", \"6758\", \"7203\", \"8053\", \"8604\", \"9020\", \"9433\"]\n",
        "## アサヒ, セブン&アイ, オリエンタルランド, 日本郵政, ソニー, トヨタ自動車, 住友商事, 野村ホールディングス, JR東日本, KDDI"
      ],
      "execution_count": null,
      "outputs": []
    },
    {
      "cell_type": "markdown",
      "metadata": {
        "id": "w2Tsh32T8wQ6"
      },
      "source": [
        "もちろんこれ以外にもご自身で興味のある証券コードで指定していただいても構いません。\n",
        "この証券コードで指定された銘柄について、\n",
        "start時点で購入した株式が、毎日の取引で変動するわけですが、その日の終値をみて、\n",
        "どれだけの割合増減したのか収益率を調べることにします。\n",
        "少々長めのfor文を利用したコードとなります。\n",
        "コード内のコメントで説明しながらにしましょう。"
      ]
    },
    {
      "cell_type": "code",
      "metadata": {
        "id": "3Xg4pO1q8vKm"
      },
      "source": [
        "#証券データの読み込みに利用するライブラリ\n",
        "import pandas as pd\n",
        "import pandas_datareader.stooq as stooq\n",
        "\n",
        "rates = []\n",
        "#for文で各証券コードについて処理を繰り返していく\n",
        "for sc in stockcodes:  \n",
        "  # f\"{sc}.jp\"で証券を指定して、start,endで始まりと終わりの時期を指定のうえ、.read()読み込みます。その中でも終値だけを知りたいので['Close']としました。\n",
        "  df = stooq.StooqDailyReader(f\"{sc}.jp\", start, end).read()[['Close']]\n",
        "\n",
        "  # pandasのデータフレーム形式で結果を得ることができます。その結果はsort_valuesで日付'Date'で昇順（小さい順）に並べています。\n",
        "  df = df.sort_values(by='Date',ascending=True)\n",
        "  \n",
        "  #前日の終値と今日の終値を比較して、前日比を調べています。\n",
        "  return_rate = np.zeros(len(df.values))\n",
        "  for k in range(len(df.values)-1):\n",
        "    return_rate[k+1] = (df.values[k+1][0] - df.values[k][0])/df.values[k][0]\n",
        "  \n",
        "  rates.append(return_rate)"
      ],
      "execution_count": null,
      "outputs": []
    },
    {
      "cell_type": "markdown",
      "metadata": {
        "id": "PKZxmIxxC_uU"
      },
      "source": [
        "この結果、ratesは、それぞれの証券コードの収益率（前日の終値と当日の終値の差を前日の終値終値との比をとったもの、要するに前の日よりも儲かるかどうか）が格納されたリストが出来上がります。\n",
        "appendで、結果を次から次へと格納することができます。"
      ]
    },
    {
      "cell_type": "markdown",
      "metadata": {
        "id": "tag91Xk9DYTG"
      },
      "source": [
        "これで下準備は終了しました。\n",
        "その株式銘柄の良さは、平均的な収益率から決められそうですね。\n",
        "平均的な収益率は大きい方が嬉しいので、先程の荷物の問題と同じです。"
      ]
    },
    {
      "cell_type": "code",
      "metadata": {
        "id": "ZUevGdPi_ToR"
      },
      "source": [
        "N = len(stockcodes)\n",
        "\n",
        "w = np.zeros(N)\n",
        "for k in range(N):\n",
        "  w[k] = rates[k].mean()"
      ],
      "execution_count": null,
      "outputs": []
    },
    {
      "cell_type": "markdown",
      "metadata": {
        "id": "BsfKHyR6Epdx"
      },
      "source": [
        "rates[k]から各株式銘柄の収益率の時系列データが出てきます。\n",
        "それを平均するために、numpyの機能であるmean()を利用しました。\n",
        "もっとわかりやすくnp.mean(rates[k])としても同じです。"
      ]
    },
    {
      "cell_type": "markdown",
      "metadata": {
        "id": "hhqFxtruE6V9"
      },
      "source": [
        "この株式銘柄のうちいくつかを選んで、平均的な収益率を高めるとしましょう。\n",
        "これまでと同じようにまずは、文字式の準備をしましょう。"
      ]
    },
    {
      "cell_type": "code",
      "metadata": {
        "id": "T-bHrLHy_eZm"
      },
      "source": [
        "x = Array.create('x', shape=N, vartype='BINARY')"
      ],
      "execution_count": null,
      "outputs": []
    },
    {
      "cell_type": "markdown",
      "metadata": {
        "id": "Pr3UoWDWFn3U"
      },
      "source": [
        "株式銘柄をいくつ選ぶかということを単純にいつもの罰金法を利用して考えてみましょう。"
      ]
    },
    {
      "cell_type": "code",
      "metadata": {
        "id": "xAwn2_BKFxIe"
      },
      "source": [
        "K = N//2\n",
        "constr = (sum(x)-K)**2"
      ],
      "execution_count": null,
      "outputs": []
    },
    {
      "cell_type": "markdown",
      "metadata": {
        "id": "VUJcCPkVF44P"
      },
      "source": [
        "ここでN//2としたのは、ただの割り算ではなく、偶数でも奇数でも整数の答えを返してくれる計算方法を利用しています。3//2=1、5//2=2といった具合です。割り切れる場合にはただの割り算と同じ（4//2=2）です。\n",
        "次に収益率を最大化するように選択するために、コスト関数を次のようにします。"
      ]
    },
    {
      "cell_type": "code",
      "metadata": {
        "id": "O_sIEeYc_z-9"
      },
      "source": [
        "cost = 0\n",
        "for i in range(N):\n",
        "  cost = cost - w[i]*x[i]"
      ],
      "execution_count": null,
      "outputs": []
    },
    {
      "cell_type": "markdown",
      "metadata": {
        "id": "bxixpf8aGUVL"
      },
      "source": [
        "先ほどまでと同じですね。これで最適化をする準備は整いました。"
      ]
    },
    {
      "cell_type": "code",
      "metadata": {
        "id": "Da30NxsZGTuI"
      },
      "source": [
        "cost_func = cost + Placeholder('a')*Constraint(constr, label='Kconstr')\n",
        "model = cost_func.compile()"
      ],
      "execution_count": null,
      "outputs": []
    },
    {
      "cell_type": "markdown",
      "metadata": {
        "id": "bhuqJIdkIAnq"
      },
      "source": [
        "これでQUBO行列を書き出す準備が整いました。"
      ]
    },
    {
      "cell_type": "code",
      "metadata": {
        "id": "sYENxSm3H_-3"
      },
      "source": [
        "max_coeff = np.max(abs(w))\n",
        "\n",
        "feed_dict = {'a': 10.0*max_coeff}\n",
        "qubo, offset = model.to_qubo(feed_dict=feed_dict)"
      ],
      "execution_count": null,
      "outputs": []
    },
    {
      "cell_type": "markdown",
      "metadata": {
        "id": "uWmibeXELP8y"
      },
      "source": [
        "いつもの通りD-Waveマシンを利用する場合には、その準備をしましょう。"
      ]
    },
    {
      "cell_type": "code",
      "metadata": {
        "id": "DBDsH27gLS5b"
      },
      "source": [
        "dw_sampler = DWaveSampler(solver='Advantage_system1.1', token=token)\n",
        "sampler = EmbeddingComposite(dw_sampler)"
      ],
      "execution_count": null,
      "outputs": []
    },
    {
      "cell_type": "markdown",
      "metadata": {
        "id": "zik98XB_LTys"
      },
      "source": [
        "シミュレータを活用する場合はコチラですね。"
      ]
    },
    {
      "cell_type": "code",
      "metadata": {
        "id": "uB28ugJhLUAO"
      },
      "source": [
        "sampler = SQASampler()"
      ],
      "execution_count": null,
      "outputs": []
    },
    {
      "cell_type": "code",
      "metadata": {
        "colab": {
          "base_uri": "https://localhost:8080/"
        },
        "id": "Nqi2dxdQIKyj",
        "outputId": "fc833595-fd19-47c2-d66f-0dbf73214161"
      },
      "source": [
        "sampleset = sampler.sample_qubo(qubo,num_reads=10)\n",
        "print(sampleset.record)"
      ],
      "execution_count": null,
      "outputs": [
        {
          "output_type": "stream",
          "text": [
            "[([0, 0, 1, 0, 1, 0, 1, 1, 1, 0], -0.28074252, 1, 0. )\n",
            " ([0, 0, 1, 1, 1, 0, 0, 1, 1, 0], -0.28050151, 1, 0. )\n",
            " ([0, 0, 0, 1, 1, 1, 1, 1, 0, 0], -0.28027962, 1, 0. )\n",
            " ([0, 1, 0, 0, 1, 1, 1, 0, 1, 0], -0.28018786, 1, 0. )\n",
            " ([0, 0, 1, 1, 0, 1, 1, 1, 0, 0], -0.27998866, 1, 0. )\n",
            " ([0, 1, 1, 1, 0, 0, 1, 1, 0, 0], -0.27955377, 3, 0. )\n",
            " ([0, 1, 0, 1, 0, 0, 1, 1, 1, 0], -0.27822792, 1, 0. )\n",
            " ([1, 0, 0, 1, 0, 0, 1, 1, 0, 1], -0.27910096, 1, 0.1)]\n"
          ],
          "name": "stdout"
        }
      ]
    },
    {
      "cell_type": "markdown",
      "metadata": {
        "id": "DuUH7GCOLncm"
      },
      "source": [
        "バッチリとどの株式銘柄が良いかを選んでくれました。\n",
        "しかしながら、実際の株式市場は複雑です。単純に平均的な指標だけで考えたポートフォリオが安定的に収益を得るかどうかはわかりません。\n",
        "ある銘柄の収益率が上昇すると、別の銘柄も収益率が上昇するかもしれません。\n",
        "または下降するかもしれません。そうした関係性を考慮して、もっと良いポートフォリオの組み方があるかもしれません。\n",
        "そこで荷物のときと同じようにある銘柄を持つと他の銘柄とどのような関係にあるのかを考慮して、コスト関数に組み込んでみましょう。\n",
        "\n",
        "確率的に変動していく数に対して、その平均からのズレを見てみましょう。\n",
        "そのズレが大きいほど変動幅は大きいということになります。\n",
        "こうした平均からのズレの大きさ（二乗で計算する）を足し上げたものを**分散**と言います。\n",
        "その変動幅が大きいものはリスクを伴う（儲かるかもしれないけど、暴落するかもしれない）ので、それはできることなら避けたいはずです。\n",
        "\n",
        "またある銘柄で平均からズレたときに、影響して他の銘柄でも平均からズレるかもしれません。\n",
        "そのズレの積を取ってたしあげたものを**共分散**と言います。\n",
        "一度下がり始めた場合に、同じように下がるようなものは共分散の値が正の値とります。\n",
        "それは一緒に崖から落ちるようなものなので、避けたいです。選びたくないです。\n",
        "そうした考えから次のようなコスト関数を追加することを思いつきます。\n",
        "\\begin{equation}\n",
        "\\sum_{i=1}^N \\sum_{j=1}^N W_{ij} x_i x_j\n",
        "\\end{equation}\n",
        "ここで$W_{ij}$は分散・共分散行列となります。\n",
        "こうして定式化されたポートフォリオ最適化問題は、Markowitzの現代ポートフォリオ理論の基本的な手法の一つとなっています。"
      ]
    },
    {
      "cell_type": "code",
      "metadata": {
        "id": "5iO-4-joIkHD"
      },
      "source": [
        "cost2 = 0\n",
        "for i in range(N):\n",
        "  for j in range(N):\n",
        "    cost2 = cost2 +x[i]*x[j]*np.sum((rates[i]-w[i])*(rates[j]-w[j]))/len(rates[i])"
      ],
      "execution_count": null,
      "outputs": []
    },
    {
      "cell_type": "markdown",
      "metadata": {
        "id": "nb9l3JlrOtM5"
      },
      "source": [
        "これを足した新しいコスト関数でリスクの最小化も考慮したポートフォリオを設計することができます。"
      ]
    },
    {
      "cell_type": "code",
      "metadata": {
        "id": "wIzJqgDUOPrX"
      },
      "source": [
        "cost_func2 = cost2 + Placeholder('a')*Constraint(constr, label='Kconstr')\n",
        "model2 = cost_func2.compile()"
      ],
      "execution_count": null,
      "outputs": []
    },
    {
      "cell_type": "markdown",
      "metadata": {
        "id": "QF4MRRE_O5nW"
      },
      "source": [
        "QUBO行列を出力する準備が整いました。"
      ]
    },
    {
      "cell_type": "code",
      "metadata": {
        "id": "jVjCpAw1O4uq"
      },
      "source": [
        "max_coeff = np.max(abs(w))\n",
        "\n",
        "feed_dict = {'a': 10.0*max_coeff}\n",
        "qubo2, offset = model2.to_qubo(feed_dict=feed_dict)"
      ],
      "execution_count": null,
      "outputs": []
    },
    {
      "cell_type": "markdown",
      "metadata": {
        "id": "HowQDe4aPDLm"
      },
      "source": [
        "この後の流れもお手の物ですね。D-Waveマシンのうちどれを使うかを選び、埋め込みの準備をする。"
      ]
    },
    {
      "cell_type": "code",
      "metadata": {
        "id": "MaNdVJYSPCav"
      },
      "source": [
        "dw_sampler = DWaveSampler(solver='Advantage_system1.1', token=token)\n",
        "sampler = EmbeddingComposite(dw_sampler)"
      ],
      "execution_count": null,
      "outputs": []
    },
    {
      "cell_type": "markdown",
      "metadata": {
        "id": "pzLF2na6PMQ0"
      },
      "source": [
        "お値段のかからないシミュレータを使いたい場合はコチラ（マシンタイム使い切ってしまった場合もコチラ！）"
      ]
    },
    {
      "cell_type": "code",
      "metadata": {
        "id": "FM4O7W28PQeK"
      },
      "source": [
        "sampler = SQASampler()"
      ],
      "execution_count": null,
      "outputs": []
    },
    {
      "cell_type": "markdown",
      "metadata": {
        "id": "WLQC1ovHPTG0"
      },
      "source": [
        "QUBO行列を投じて、それでは問題を解いてみましょう。"
      ]
    },
    {
      "cell_type": "code",
      "metadata": {
        "colab": {
          "base_uri": "https://localhost:8080/"
        },
        "id": "DpT1FGS0PQ2q",
        "outputId": "6fa21279-3724-4d6f-e56b-61518cda3757"
      },
      "source": [
        "sampleset = sampler.sample_qubo(qubo2,num_reads=10)\n",
        "print(sampleset.record)"
      ],
      "execution_count": null,
      "outputs": [
        {
          "output_type": "stream",
          "text": [
            "[([0, 1, 0, 1, 0, 1, 0, 0, 1, 1], -0.27644783, 1, 0.)\n",
            " ([1, 1, 1, 1, 0, 0, 0, 0, 0, 1], -0.27628292, 1, 0.)\n",
            " ([0, 1, 0, 0, 1, 0, 1, 0, 1, 1], -0.27626747, 1, 0.)\n",
            " ([0, 0, 1, 0, 1, 0, 0, 1, 1, 1], -0.27596826, 1, 0.)\n",
            " ([1, 1, 1, 1, 0, 0, 1, 0, 0, 0], -0.27593477, 1, 0.)\n",
            " ([1, 0, 1, 1, 0, 0, 1, 0, 1, 0], -0.27574202, 1, 0.)\n",
            " ([1, 0, 0, 0, 1, 0, 0, 1, 1, 1], -0.2757227 , 1, 0.)\n",
            " ([1, 0, 1, 0, 1, 1, 1, 0, 0, 0], -0.27563545, 1, 0.)\n",
            " ([1, 0, 1, 0, 1, 1, 0, 0, 1, 0], -0.27560824, 1, 0.)\n",
            " ([1, 1, 1, 0, 0, 0, 1, 0, 1, 0], -0.27545233, 1, 0.)]\n"
          ],
          "name": "stdout"
        }
      ]
    },
    {
      "cell_type": "markdown",
      "metadata": {
        "id": "ngEMcg1APe5U"
      },
      "source": [
        "先ほどから入れ替わったものもあれば、そのまま利用される株式銘柄もあり、味わい深い結果になったかと思います。\n",
        "実際の運用に活かしてみてはいかがでしょうか？\n"
      ]
    },
    {
      "cell_type": "markdown",
      "metadata": {
        "id": "pLbFcgdEPmp-"
      },
      "source": [
        "コードサンプル提供（東北大学大学院情報科学研究科・井口大輔・渡辺大地）"
      ]
    }
  ]
}