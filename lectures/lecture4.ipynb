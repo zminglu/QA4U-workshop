{
 "cells": [
  {
   "cell_type": "markdown",
   "id": "6793adb1-6ddd-4a38-869d-967eea4c4131",
   "metadata": {},
   "source": [
    "# QA4U lecture 4"
   ]
  },
  {
   "cell_type": "markdown",
   "id": "eaf69112-469d-440f-8f01-9f9b11a23924",
   "metadata": {},
   "source": [
    "## previous lecture"
   ]
  },
  {
   "cell_type": "code",
   "execution_count": 2,
   "id": "2b661fc5-dba6-4177-97dd-b3bbea3ac90f",
   "metadata": {},
   "outputs": [],
   "source": [
    "import pandas as pd\n",
    "df = pd.read_csv('QA4Uafter.csv',header=None)\n",
    "\n",
    "import numpy as np\n",
    "V = df.values.astype(np.int8)\n",
    "N,M = V.shape\n",
    "\n",
    "def onehot(data):\n",
    "  z = np.zeros(4+3+5+7)\n",
    "  z[data[0]-1] = 1\n",
    "  z[4+data[1]-1] = 1\n",
    "  z[4+3+data[2]-1] = 1\n",
    "  z[4+3+5+data[3]-1] = 1\n",
    "  return z\n",
    "\n",
    "M = 4+3+5+7\n",
    "Z = np.zeros(N*M).reshape(N,M)\n",
    "\n",
    "for i in range(N):\n",
    "  Z[i,:] = onehot(V[i,:])"
   ]
  },
  {
   "cell_type": "markdown",
   "id": "31942918-649a-4407-ae3c-044c774bdbd6",
   "metadata": {
    "tags": []
   },
   "source": [
    "## Boltzmann machine learning\n",
    "Assume the previous questionnaire's results are the QA's output. <br>\n",
    "The sum of one item must be equal to 1<br>\n",
    "第一項目について\n",
    "\\begin{equation}\n",
    "x_1+x_2+x_3+x_4 = 1\n",
    "\\end{equation}\n",
    "第二項目について\n",
    "\\begin{equation}\n",
    "x_5+x_6+x_7 = 1\n",
    "\\end{equation}\n",
    "第三項目については\n",
    "\\begin{equation}\n",
    "x_8+x_9+x_{10}+x_{11}+x_{12} = 1\n",
    "\\end{equation}\n",
    "第四項については\n",
    "\\begin{equation}\n",
    "x_{13}+x_{14}+x_{15}+x_{16}+x_{17}+x_{18}+x_{19} = 1\n",
    "\\end{equation}\n",
    "\n",
    "consider the penalty method\n",
    "\\begin{equation}\n",
    "E({\\bf x}) = \\sum_{m}\\sum_{n} Q_{mn} x_{m} x_{n} + \\lambda_1\\left( x_1+x_2+x_3+x_4 -1 \\right)^2 + \\lambda_2 \\left( x_5+x_6+x_7 -1 \\right)^2 + \\lambda_3 \\left( x_8+x_9+x_{10}+x_{11}+x_{12} - 1\\right)^2 + \\lambda_4 \\left( x_{13}+x_{14}+x_{15}+x_{16}+x_{17}+x_{18}+x_{19} - 1\\right)^2\n",
    "\\end{equation}"
   ]
  },
  {
   "cell_type": "markdown",
   "id": "f21b80c9-2464-4773-bcb4-d896579c5207",
   "metadata": {},
   "source": [
    "The value of $x$ can be adjusted via controlling the $Q$ matrix. If $Q$ is large, $x$ would prefer to be small; otherwise, $x$ would be large. "
   ]
  },
  {
   "cell_type": "markdown",
   "id": "46ed9d00-d5ec-45bb-9847-761f74e42789",
   "metadata": {},
   "source": [
    "To know whether this $x$ should be larger or smaller, we need an item to be compared with. lets compute the average of all $Z$s and $x$s\n",
    "\\begin{equation}\n",
    "Q_{mn} = Q_{mn} - \\eta\\left( \\frac{1}{N}\\sum_{i=1}^N Z_{im}Z_{in} - \\frac{1}{N'} \\sum_{i=1}^{N'} x_{im}x_{in}\\right)\n",
    "\\end{equation}\n",
    "where $N$ is the total number, $\\eta$ is the learning rate"
   ]
  },
  {
   "cell_type": "code",
   "execution_count": 3,
   "id": "a477aa7c-abbc-4fbc-9b56-d793205edf23",
   "metadata": {},
   "outputs": [],
   "source": [
    "Qc = np.zeros(M**2).reshape(M,M)\n",
    "\n",
    "lam = 10.0\n",
    "\n",
    "for m in range(4):\n",
    "  for n in range(4):\n",
    "    Qc[m,n] = Qc[m,n] + lam\n",
    "    if m == n:\n",
    "      Qc[m,n] = Qc[m,n] -2*lam\n",
    "\n",
    "for m in range(4,4+3):\n",
    "  for n in range(4,4+3):\n",
    "    Qc[m,n] = Qc[m,n] + lam\n",
    "    if m == n:\n",
    "      Qc[m,n] = Qc[m,n] -2*lam\n",
    "\n",
    "for m in range(4+3,4+3+5):\n",
    "  for n in range(4+3,4+3+5):\n",
    "    Qc[m,n] = Qc[m,n] + lam\n",
    "    if m == n:\n",
    "      Qc[m,n] = Qc[m,n] -2*lam\n",
    "\n",
    "for m in range(4+3+5,4+3+5+7):\n",
    "  for n in range(4+3+5,4+3+5+7):\n",
    "    Qc[m,n] = Qc[m,n] + lam\n",
    "    if m == n:\n",
    "      Qc[m,n] = Qc[m,n] -2*lam"
   ]
  },
  {
   "cell_type": "code",
   "execution_count": 4,
   "id": "f7b6a1c4-3c74-4ed0-b78c-0d95a6d9a16f",
   "metadata": {},
   "outputs": [
    {
     "name": "stderr",
     "output_type": "stream",
     "text": [
      "Matplotlib created a temporary config/cache directory at /tmp/matplotlib-jzz2gdff because the default path (/home/jovyan/.cache/matplotlib) is not a writable directory; it is highly recommended to set the MPLCONFIGDIR environment variable to a writable directory, in particular to speed up the import of Matplotlib and to better support multiprocessing.\n"
     ]
    },
    {
     "data": {
      "image/png": "[encoded data removed]",
      "text/plain": [
       "<Figure size 432x288 with 1 Axes>"
      ]
     },
     "metadata": {
      "needs_background": "light"
     },
     "output_type": "display_data"
    }
   ],
   "source": [
    "# visualization\n",
    "import matplotlib.pyplot as plt\n",
    "plt.imshow(Qc)\n",
    "plt.show()"
   ]
  },
  {
   "cell_type": "code",
   "execution_count": 5,
   "id": "a6123fea-b301-46ce-8759-dda21e502838",
   "metadata": {},
   "outputs": [],
   "source": [
    "# initial values\n",
    "Q = np.zeros(M**2).reshape(M,M)\n",
    "Qmat = Q+Qc"
   ]
  },
  {
   "cell_type": "code",
   "execution_count": 7,
   "id": "70464626-8a91-41da-aea2-18bb98e4f616",
   "metadata": {},
   "outputs": [],
   "source": [
    "# convert array to dict\n",
    "def array2dict(Q):\n",
    "    Qdict = {}\n",
    "    for i in range(Q.shape[0]):\n",
    "        for j in range(Q.shape[1]):\n",
    "            Qdict[(i,j)] = Q[i][j]\n",
    "    return Qdict\n",
    "\n",
    "Qdict = array2dict(Qmat)"
   ]
  },
  {
   "cell_type": "code",
   "execution_count": 12,
   "id": "a8d17a1d-bc86-48ff-a780-202444573b92",
   "metadata": {},
   "outputs": [],
   "source": [
    "# QA\n",
    "from openjij import SQASampler\n",
    "sim_sampler = SQASampler()\n",
    "Nsample = 100\n",
    "\n",
    "# wait for a little bit long time due to large prob size\n",
    "sampleset = sim_sampler.sample_qubo(Qdict, num_reads = Nsample)"
   ]
  },
  {
   "cell_type": "code",
   "execution_count": 13,
   "id": "e9edb87a-01d3-4972-920c-7a0c2278765d",
   "metadata": {},
   "outputs": [],
   "source": [
    "# reshape\n",
    "x = np.zeros(Nsample*M).reshape(Nsample,M)\n",
    "for k in range(Nsample):\n",
    "  x[k,:] = sampleset.record[k][0]"
   ]
  },
  {
   "cell_type": "code",
   "execution_count": 14,
   "id": "12e4b34d-6ce8-4acb-a792-99603250e737",
   "metadata": {},
   "outputs": [],
   "source": [
    "# average\n",
    "Zmat = np.dot(Z.T,Z)/N\n",
    "Xmat = np.dot(x.T,x)/Nsample"
   ]
  },
  {
   "cell_type": "code",
   "execution_count": 19,
   "id": "56f5a726-0fd0-4e9d-9162-602b55d734d6",
   "metadata": {},
   "outputs": [],
   "source": [
    "# implement equation\n",
    "eta = 0.1\n",
    "Q = Q - eta*(Zmat-Xmat)\n",
    "Qmat = Q + Qc\n",
    "Qdict = array2dict(Qmat)"
   ]
  },
  {
   "cell_type": "code",
   "execution_count": 16,
   "id": "57e6502b-6837-43cb-8998-1b11d1b92b84",
   "metadata": {},
   "outputs": [
    {
     "data": {
      "image/png": "[encoded data removed]",
      "text/plain": [
       "<Figure size 432x288 with 2 Axes>"
      ]
     },
     "metadata": {
      "needs_background": "light"
     },
     "output_type": "display_data"
    }
   ],
   "source": [
    "# visualization\n",
    "plt.imshow(Q)\n",
    "plt.colorbar()\n",
    "plt.show()"
   ]
  },
  {
   "cell_type": "markdown",
   "id": "86ec4c3c-6ad9-42c1-9dfb-534b130e7b18",
   "metadata": {},
   "source": [
    "learning only one iteration could not give us good imitation result.<br>\n",
    "Lets do it in a few more iterations"
   ]
  },
  {
   "cell_type": "code",
   "execution_count": 21,
   "id": "1fa3fdb2-ecc4-4417-a6d4-0f5c67a3d813",
   "metadata": {},
   "outputs": [
    {
     "data": {
      "image/png": "[encoded data removed]",
      "text/plain": [
       "<Figure size 432x288 with 2 Axes>"
      ]
     },
     "metadata": {
      "needs_background": "light"
     },
     "output_type": "display_data"
    }
   ],
   "source": [
    "from IPython.display import clear_output\n",
    "\n",
    "Tall = 50\n",
    "for t in range(Tall):\n",
    "    sampleset = sim_sampler.sample_qubo(Qdict,num_reads = Nsample)\n",
    "    x = np.zeros(Nsample*M).reshape(Nsample,M)\n",
    "    for k in range(Nsample):\n",
    "    x[k,:] = sampleset.record[k][0]\n",
    "    Xmat = np.dot(x.T,x)/Nsample\n",
    "    Q = Q - eta*(Zmat-Xmat)\n",
    "    Qmat = Q + Qc\n",
    "\n",
    "    # plot the result in animation\n",
    "    clear_output(True)\n",
    "    plt.imshow(Q)\n",
    "    plt.colorbar()\n",
    "    plt.show()"
   ]
  },
  {
   "cell_type": "markdown",
   "id": "a23dca13-2dc0-42cc-8c1b-787682337291",
   "metadata": {},
   "source": [
    "### result analysis\n",
    "now we finish the learning, from the QUBO matrix, we want to know the feature of the quationnaire"
   ]
  },
  {
   "cell_type": "code",
   "execution_count": 23,
   "id": "577df7cc-d369-401f-b02f-d6c1d1e8c34f",
   "metadata": {},
   "outputs": [
    {
     "name": "stdout",
     "output_type": "stream",
     "text": [
      "-0.2145934959349594 0.2164471544715446 0.3287235772357726 0.08230894308943094\n"
     ]
    }
   ],
   "source": [
    "# to analyze the first question\n",
    "## the smaller value in QUBO, the larger possibility to become an 1 for Qbit\n",
    "print(Q[0,4],Q[0,5],Q[0,6],Q[0,7])"
   ]
  },
  {
   "cell_type": "code",
   "execution_count": 26,
   "id": "f8871210-b8aa-43dc-81cc-964ded9157de",
   "metadata": {},
   "outputs": [
    {
     "name": "stdout",
     "output_type": "stream",
     "text": [
      "-0.017040650406504064 -0.22700813008130086 0.33317073170731726 0.12944715447154465\n"
     ]
    }
   ],
   "source": [
    "# second Q\n",
    "print(Q[1,4],Q[1,5],Q[1,6],Q[1,7])"
   ]
  },
  {
   "cell_type": "code",
   "execution_count": 27,
   "id": "eeefb8a1-4dff-475d-84ec-6ff1a2a55e0d",
   "metadata": {},
   "outputs": [
    {
     "name": "stdout",
     "output_type": "stream",
     "text": [
      "0.14630894308943088 0.11275609756097568 0.10551219512195129 0.15186178861788624\n"
     ]
    }
   ],
   "source": [
    "# third Q\n",
    "print(Q[2,4],Q[2,5],Q[2,6],Q[2,7])"
   ]
  },
  {
   "cell_type": "code",
   "execution_count": 28,
   "id": "c0f27f59-1f5d-49fa-a762-7c2ea26520e1",
   "metadata": {},
   "outputs": [
    {
     "name": "stdout",
     "output_type": "stream",
     "text": [
      "0.028821138211382137 -0.09014634146341464 -0.7229512195121955 0.19744715447154473\n"
     ]
    }
   ],
   "source": [
    "# fourth Q\n",
    "print(Q[3,4],Q[3,5],Q[3,6],Q[3,7])"
   ]
  }
 ],
 "metadata": {
  "kernelspec": {
   "display_name": "Python 3",
   "language": "python",
   "name": "python3"
  },
  "language_info": {
   "codemirror_mode": {
    "name": "ipython",
    "version": 3
   },
   "file_extension": ".py",
   "mimetype": "text/x-python",
   "name": "python",
   "nbconvert_exporter": "python",
   "pygments_lexer": "ipython3",
   "version": "3.9.2"
  }
 },
 "nbformat": 4,
 "nbformat_minor": 5
}
